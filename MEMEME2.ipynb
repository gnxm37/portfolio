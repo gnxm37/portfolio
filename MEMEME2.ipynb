{
 "cells": [
  {
   "cell_type": "code",
   "execution_count": 1256,
   "metadata": {},
   "outputs": [
    {
     "name": "stderr",
     "output_type": "stream",
     "text": [
      "Some weights of the PyTorch model were not used when initializing the TF 2.0 model TFBertForSequenceClassification: ['bert.embeddings.position_ids']\n",
      "- This IS expected if you are initializing TFBertForSequenceClassification from a PyTorch model trained on another task or with another architecture (e.g. initializing a TFBertForSequenceClassification model from a BertForPreTraining model).\n",
      "- This IS NOT expected if you are initializing TFBertForSequenceClassification from a PyTorch model that you expect to be exactly identical (e.g. initializing a TFBertForSequenceClassification model from a BertForSequenceClassification model).\n",
      "Some weights or buffers of the TF 2.0 model TFBertForSequenceClassification were not initialized from the PyTorch model and are newly initialized: ['classifier.weight', 'classifier.bias']\n",
      "You should probably TRAIN this model on a down-stream task to be able to use it for predictions and inference.\n"
     ]
    }
   ],
   "source": [
    "import re\n",
    "import numpy as np\n",
    "import pandas as pd\n",
    "import matplotlib.pyplot as plt\n",
    "  \n",
    "from konlpy.tag import *\n",
    "from sklearn.preprocessing import RobustScaler\n",
    "from tensorflow.keras.models import Sequential, load_model\n",
    "from tensorflow.keras.layers import Embedding, Dense, LSTM, Bidirectional\n",
    "from tensorflow.keras.callbacks import EarlyStopping, ModelCheckpoint\n",
    "from tensorflow.keras.preprocessing.text import Tokenizer\n",
    "from tensorflow.keras.preprocessing.sequence import pad_sequences\n",
    "from sklearn.model_selection import train_test_split\n",
    "from konlpy.tag import Mecab\n",
    "import os\n",
    "import pandas as pd\n",
    "import numpy as np\n",
    "import re\n",
    "from tqdm import tqdm\n",
    "import urllib.request\n",
    "import seaborn as sns\n",
    "import matplotlib.pyplot as plt\n",
    "import tensorflow_addons as tfa\n",
    "import tensorflow as tf\n",
    "from transformers import BertTokenizer, TFBertForSequenceClassification\n",
    "from sklearn.model_selection import train_test_split\n",
    "from sklearn.metrics import accuracy_score, f1_score, precision_score, recall_score, \\\n",
    "                            roc_auc_score, confusion_matrix, classification_report, \\\n",
    "                            matthews_corrcoef, cohen_kappa_score, log_loss\n",
    "\n",
    "\n",
    "import warnings\n",
    "import urllib.request\n",
    "warnings.filterwarnings('ignore')\n",
    "\n",
    "MODEL_NAME = \"klue/bert-base\"\n",
    "model = TFBertForSequenceClassification.from_pretrained(MODEL_NAME, num_labels=3, from_pt=True)\n",
    "tokenizer = BertTokenizer.from_pretrained(MODEL_NAME)"
   ]
  },
  {
   "cell_type": "code",
   "execution_count": 1257,
   "metadata": {},
   "outputs": [],
   "source": [
    "DATASET_URL = \"https://raw.githubusercontent.com/ukairia777/finance_sentiment_corpus/main/finance_data.csv\"\n",
    "DATASET_NAME = \"finance_data.csv\""
   ]
  },
  {
   "cell_type": "code",
   "execution_count": 1258,
   "metadata": {},
   "outputs": [
    {
     "data": {
      "text/plain": [
       "('finance_data.csv', <http.client.HTTPMessage at 0x5310d2e00>)"
      ]
     },
     "execution_count": 1258,
     "metadata": {},
     "output_type": "execute_result"
    }
   ],
   "source": [
    "urllib.request.urlretrieve(DATASET_URL, \n",
    "                           filename = DATASET_NAME\n",
    "                           )"
   ]
  },
  {
   "cell_type": "code",
   "execution_count": 1259,
   "metadata": {},
   "outputs": [
    {
     "data": {
      "text/html": [
       "<div>\n",
       "<style scoped>\n",
       "    .dataframe tbody tr th:only-of-type {\n",
       "        vertical-align: middle;\n",
       "    }\n",
       "\n",
       "    .dataframe tbody tr th {\n",
       "        vertical-align: top;\n",
       "    }\n",
       "\n",
       "    .dataframe thead th {\n",
       "        text-align: right;\n",
       "    }\n",
       "</style>\n",
       "<table border=\"1\" class=\"dataframe\">\n",
       "  <thead>\n",
       "    <tr style=\"text-align: right;\">\n",
       "      <th></th>\n",
       "      <th>labels</th>\n",
       "      <th>sentence</th>\n",
       "      <th>kor_sentence</th>\n",
       "    </tr>\n",
       "  </thead>\n",
       "  <tbody>\n",
       "    <tr>\n",
       "      <th>0</th>\n",
       "      <td>neutral</td>\n",
       "      <td>According to Gran, the company has no plans to...</td>\n",
       "      <td>Gran에 따르면, 그 회사는 회사가 성장하고 있는 곳이지만, 모든 생산을 러시아로...</td>\n",
       "    </tr>\n",
       "    <tr>\n",
       "      <th>1</th>\n",
       "      <td>neutral</td>\n",
       "      <td>Technopolis plans to develop in stages an area...</td>\n",
       "      <td>테크노폴리스는 컴퓨터 기술과 통신 분야에서 일하는 회사들을 유치하기 위해 10만 평...</td>\n",
       "    </tr>\n",
       "    <tr>\n",
       "      <th>2</th>\n",
       "      <td>negative</td>\n",
       "      <td>The international electronic industry company ...</td>\n",
       "      <td>국제 전자산업 회사인 엘코텍은 탈린 공장에서 수십 명의 직원을 해고했으며, 이전의 ...</td>\n",
       "    </tr>\n",
       "    <tr>\n",
       "      <th>3</th>\n",
       "      <td>positive</td>\n",
       "      <td>With the new production plant the company woul...</td>\n",
       "      <td>새로운 생산공장으로 인해 회사는 예상되는 수요 증가를 충족시킬 수 있는 능력을 증가...</td>\n",
       "    </tr>\n",
       "    <tr>\n",
       "      <th>4</th>\n",
       "      <td>positive</td>\n",
       "      <td>According to the company's updated strategy fo...</td>\n",
       "      <td>2009-2012년 회사의 업데이트된 전략에 따르면, Basware는 20% - 4...</td>\n",
       "    </tr>\n",
       "  </tbody>\n",
       "</table>\n",
       "</div>"
      ],
      "text/plain": [
       "     labels                                           sentence  \\\n",
       "0   neutral  According to Gran, the company has no plans to...   \n",
       "1   neutral  Technopolis plans to develop in stages an area...   \n",
       "2  negative  The international electronic industry company ...   \n",
       "3  positive  With the new production plant the company woul...   \n",
       "4  positive  According to the company's updated strategy fo...   \n",
       "\n",
       "                                        kor_sentence  \n",
       "0  Gran에 따르면, 그 회사는 회사가 성장하고 있는 곳이지만, 모든 생산을 러시아로...  \n",
       "1  테크노폴리스는 컴퓨터 기술과 통신 분야에서 일하는 회사들을 유치하기 위해 10만 평...  \n",
       "2  국제 전자산업 회사인 엘코텍은 탈린 공장에서 수십 명의 직원을 해고했으며, 이전의 ...  \n",
       "3  새로운 생산공장으로 인해 회사는 예상되는 수요 증가를 충족시킬 수 있는 능력을 증가...  \n",
       "4  2009-2012년 회사의 업데이트된 전략에 따르면, Basware는 20% - 4...  "
      ]
     },
     "execution_count": 1259,
     "metadata": {},
     "output_type": "execute_result"
    }
   ],
   "source": [
    "dataset = pd.read_csv(DATASET_NAME)\n",
    "dataset.head()"
   ]
  },
  {
   "cell_type": "code",
   "execution_count": 1260,
   "metadata": {},
   "outputs": [],
   "source": [
    "news = pd.read_csv('./model/24.csv', index_col=0, lineterminator='\\n')"
   ]
  },
  {
   "cell_type": "code",
   "execution_count": 1261,
   "metadata": {},
   "outputs": [
    {
     "data": {
      "text/html": [
       "<div>\n",
       "<style scoped>\n",
       "    .dataframe tbody tr th:only-of-type {\n",
       "        vertical-align: middle;\n",
       "    }\n",
       "\n",
       "    .dataframe tbody tr th {\n",
       "        vertical-align: top;\n",
       "    }\n",
       "\n",
       "    .dataframe thead th {\n",
       "        text-align: right;\n",
       "    }\n",
       "</style>\n",
       "<table border=\"1\" class=\"dataframe\">\n",
       "  <thead>\n",
       "    <tr style=\"text-align: right;\">\n",
       "      <th></th>\n",
       "      <th>stock_id</th>\n",
       "      <th>date_time</th>\n",
       "      <th>title</th>\n",
       "      <th>content</th>\n",
       "    </tr>\n",
       "  </thead>\n",
       "  <tbody>\n",
       "  </tbody>\n",
       "</table>\n",
       "</div>"
      ],
      "text/plain": [
       "Empty DataFrame\n",
       "Columns: [stock_id, date_time, title, content]\n",
       "Index: []"
      ]
     },
     "execution_count": 1261,
     "metadata": {},
     "output_type": "execute_result"
    }
   ],
   "source": [
    "news"
   ]
  },
  {
   "cell_type": "code",
   "execution_count": 1262,
   "metadata": {},
   "outputs": [],
   "source": [
    "news = news[['title', 'content', 'date_time']]\n",
    "from datetime import datetime\n",
    "news = news.dropna()"
   ]
  },
  {
   "cell_type": "code",
   "execution_count": 1263,
   "metadata": {},
   "outputs": [
    {
     "data": {
      "text/plain": [
       "title        0.0\n",
       "content      0.0\n",
       "date_time    0.0\n",
       "dtype: float64"
      ]
     },
     "execution_count": 1263,
     "metadata": {},
     "output_type": "execute_result"
    }
   ],
   "source": [
    "news.notnull().sum()"
   ]
  },
  {
   "cell_type": "code",
   "execution_count": 1264,
   "metadata": {},
   "outputs": [
    {
     "data": {
      "text/html": [
       "<div>\n",
       "<style scoped>\n",
       "    .dataframe tbody tr th:only-of-type {\n",
       "        vertical-align: middle;\n",
       "    }\n",
       "\n",
       "    .dataframe tbody tr th {\n",
       "        vertical-align: top;\n",
       "    }\n",
       "\n",
       "    .dataframe thead th {\n",
       "        text-align: right;\n",
       "    }\n",
       "</style>\n",
       "<table border=\"1\" class=\"dataframe\">\n",
       "  <thead>\n",
       "    <tr style=\"text-align: right;\">\n",
       "      <th></th>\n",
       "      <th>labels</th>\n",
       "      <th>kor_sentence</th>\n",
       "    </tr>\n",
       "  </thead>\n",
       "  <tbody>\n",
       "    <tr>\n",
       "      <th>0</th>\n",
       "      <td>0</td>\n",
       "      <td>Gran에 따르면, 그 회사는 회사가 성장하고 있는 곳이지만, 모든 생산을 러시아로...</td>\n",
       "    </tr>\n",
       "    <tr>\n",
       "      <th>1</th>\n",
       "      <td>0</td>\n",
       "      <td>테크노폴리스는 컴퓨터 기술과 통신 분야에서 일하는 회사들을 유치하기 위해 10만 평...</td>\n",
       "    </tr>\n",
       "    <tr>\n",
       "      <th>2</th>\n",
       "      <td>2</td>\n",
       "      <td>국제 전자산업 회사인 엘코텍은 탈린 공장에서 수십 명의 직원을 해고했으며, 이전의 ...</td>\n",
       "    </tr>\n",
       "    <tr>\n",
       "      <th>3</th>\n",
       "      <td>1</td>\n",
       "      <td>새로운 생산공장으로 인해 회사는 예상되는 수요 증가를 충족시킬 수 있는 능력을 증가...</td>\n",
       "    </tr>\n",
       "    <tr>\n",
       "      <th>4</th>\n",
       "      <td>1</td>\n",
       "      <td>2009-2012년 회사의 업데이트된 전략에 따르면, Basware는 20% - 4...</td>\n",
       "    </tr>\n",
       "  </tbody>\n",
       "</table>\n",
       "</div>"
      ],
      "text/plain": [
       "   labels                                       kor_sentence\n",
       "0       0  Gran에 따르면, 그 회사는 회사가 성장하고 있는 곳이지만, 모든 생산을 러시아로...\n",
       "1       0  테크노폴리스는 컴퓨터 기술과 통신 분야에서 일하는 회사들을 유치하기 위해 10만 평...\n",
       "2       2  국제 전자산업 회사인 엘코텍은 탈린 공장에서 수십 명의 직원을 해고했으며, 이전의 ...\n",
       "3       1  새로운 생산공장으로 인해 회사는 예상되는 수요 증가를 충족시킬 수 있는 능력을 증가...\n",
       "4       1  2009-2012년 회사의 업데이트된 전략에 따르면, Basware는 20% - 4..."
      ]
     },
     "execution_count": 1264,
     "metadata": {},
     "output_type": "execute_result"
    }
   ],
   "source": [
    "del dataset['sentence']\n",
    "dataset['labels'] = dataset['labels'].replace(['neutral', 'positive', 'negative'],[0, 1, 2])\n",
    "dataset.head()"
   ]
  },
  {
   "cell_type": "code",
   "execution_count": 1265,
   "metadata": {},
   "outputs": [
    {
     "data": {
      "text/html": [
       "<div>\n",
       "<style scoped>\n",
       "    .dataframe tbody tr th:only-of-type {\n",
       "        vertical-align: middle;\n",
       "    }\n",
       "\n",
       "    .dataframe tbody tr th {\n",
       "        vertical-align: top;\n",
       "    }\n",
       "\n",
       "    .dataframe thead th {\n",
       "        text-align: right;\n",
       "    }\n",
       "</style>\n",
       "<table border=\"1\" class=\"dataframe\">\n",
       "  <thead>\n",
       "    <tr style=\"text-align: right;\">\n",
       "      <th></th>\n",
       "      <th>title</th>\n",
       "      <th>content</th>\n",
       "      <th>date_time</th>\n",
       "    </tr>\n",
       "  </thead>\n",
       "  <tbody>\n",
       "  </tbody>\n",
       "</table>\n",
       "</div>"
      ],
      "text/plain": [
       "Empty DataFrame\n",
       "Columns: [title, content, date_time]\n",
       "Index: []"
      ]
     },
     "execution_count": 1265,
     "metadata": {},
     "output_type": "execute_result"
    }
   ],
   "source": [
    "# 중복 데이터 확인\n",
    "dataset[dataset['kor_sentence'].duplicated()]\n",
    "news[news.duplicated()]"
   ]
  },
  {
   "cell_type": "code",
   "execution_count": 1266,
   "metadata": {},
   "outputs": [],
   "source": [
    "DATASET_PREP_FILE = './dataset_prep.csv'\n",
    "# 중복 데이터 제거\n",
    "dataset.drop_duplicates(subset = ['kor_sentence'], inplace = True)\n",
    "news.drop_duplicates(inplace = True)\n",
    "dataset.to_csv(DATASET_PREP_FILE) # 구글 드라이브 내 data 폴더에 저장"
   ]
  },
  {
   "cell_type": "code",
   "execution_count": 1267,
   "metadata": {},
   "outputs": [
    {
     "data": {
      "text/plain": [
       "Text(0, 0.5, 'Number')"
      ]
     },
     "execution_count": 1267,
     "metadata": {},
     "output_type": "execute_result"
    },
    {
     "data": {
      "image/png": "[encoded data removed]",
      "text/plain": [
       "<Figure size 640x480 with 1 Axes>"
      ]
     },
     "metadata": {},
     "output_type": "display_data"
    }
   ],
   "source": [
    "dataset['labels'].value_counts().plot(kind = 'bar')\n",
    "plt.xlabel(\"Label\")\n",
    "plt.ylabel(\"Number\")"
   ]
  },
  {
   "cell_type": "code",
   "execution_count": 1268,
   "metadata": {},
   "outputs": [
    {
     "data": {
      "text/plain": [
       "Text(0, 0.5, 'Ratio')"
      ]
     },
     "execution_count": 1268,
     "metadata": {},
     "output_type": "execute_result"
    },
    {
     "data": {
      "image/png": "[encoded data removed]",
      "text/plain": [
       "<Figure size 640x480 with 1 Axes>"
      ]
     },
     "metadata": {},
     "output_type": "display_data"
    }
   ],
   "source": [
    "dataset['labels'].value_counts(normalize = True).plot(kind = 'bar', )\n",
    "plt.xlabel(\"Label\")\n",
    "plt.ylabel(\"Ratio\")"
   ]
  },
  {
   "cell_type": "code",
   "execution_count": 1269,
   "metadata": {},
   "outputs": [
    {
     "data": {
      "text/plain": [
       "labels\n",
       "0    0.592708\n",
       "1    0.282163\n",
       "2    0.125129\n",
       "Name: proportion, dtype: float64"
      ]
     },
     "execution_count": 1269,
     "metadata": {},
     "output_type": "execute_result"
    }
   ],
   "source": [
    "# 중립적인 기사문 59.27%, 긍정적인 기사문 28.22%, 부정적인 기사문 12.51%\n",
    "dataset['labels'].value_counts(normalize = True)"
   ]
  },
  {
   "cell_type": "code",
   "execution_count": 1270,
   "metadata": {},
   "outputs": [],
   "source": [
    "# 입출력 데이터 분리\n",
    "X_data = dataset['kor_sentence']\n",
    "y_data = dataset['labels']"
   ]
  },
  {
   "cell_type": "code",
   "execution_count": 1271,
   "metadata": {},
   "outputs": [],
   "source": [
    "TEST_SIZE = 0.2 # Train: Test = 8 :2 분리\n",
    "RANDOM_STATE = 42\n",
    "# strtify = True 일 경우, 데이터 분리 이전의 라벨별 분포 고려\n",
    "X_train, X_test, y_train, y_test = train_test_split(X_data, y_data, \n",
    "                                                    test_size = TEST_SIZE, \n",
    "                                                    random_state = RANDOM_STATE, \n",
    "                                                    stratify = y_data)"
   ]
  },
  {
   "cell_type": "code",
   "execution_count": 1272,
   "metadata": {},
   "outputs": [
    {
     "name": "stdout",
     "output_type": "stream",
     "text": [
      "훈련 입력 데이터 개수: 3861\n",
      "테스트 입력 데이터 개수: 966\n"
     ]
    }
   ],
   "source": [
    "print(f\"훈련 입력 데이터 개수: {len(X_train)}\")\n",
    "print(f\"테스트 입력 데이터 개수: {len(X_test)}\")"
   ]
  },
  {
   "cell_type": "code",
   "execution_count": 1273,
   "metadata": {},
   "outputs": [
    {
     "data": {
      "text/plain": [
       "labels\n",
       "0    0.592852\n",
       "1    0.282051\n",
       "2    0.125097\n",
       "Name: proportion, dtype: float64"
      ]
     },
     "execution_count": 1273,
     "metadata": {},
     "output_type": "execute_result"
    }
   ],
   "source": [
    "# 훈련 데이터 라벨별 비율\n",
    "y_train.value_counts(normalize = True)"
   ]
  },
  {
   "cell_type": "code",
   "execution_count": 1274,
   "metadata": {},
   "outputs": [],
   "source": [
    "# 입력 데이터(문장) 길이 제한\n",
    "MAX_SEQ_LEN = 64"
   ]
  },
  {
   "cell_type": "code",
   "execution_count": 1275,
   "metadata": {},
   "outputs": [],
   "source": [
    "def convert_data(X_data, y_data):\n",
    "    # BERT 입력으로 들어가는 token, mask, segment, target 저장용 리스트\n",
    "    tokens, masks, segments, targets = [], [], [], []\n",
    "    \n",
    "    for X, y in tqdm(zip(X_data, y_data)):\n",
    "        # token: 입력 문장 토큰화\n",
    "        token = tokenizer.encode(X, truncation = True, padding = 'max_length', max_length = MAX_SEQ_LEN)\n",
    "        \n",
    "        # Mask: 토큰화한 문장 내 패딩이 아닌 경우 1, 패딩인 경우 0으로 초기화\n",
    "        num_zeros = token.count(0)\n",
    "        mask = [1] * (MAX_SEQ_LEN - num_zeros) + [0] * num_zeros\n",
    "        \n",
    "        # segment: 문장 전후관계 구분: 오직 한 문장이므로 모두 0으로 초기화\n",
    "        segment = [0]*MAX_SEQ_LEN\n",
    "\n",
    "        tokens.append(token)\n",
    "        masks.append(mask)\n",
    "        segments.append(segment)\n",
    "        targets.append(y)\n",
    "\n",
    "    # numpy array로 저장\n",
    "    tokens = np.array(tokens)\n",
    "    masks = np.array(masks)\n",
    "    segments = np.array(segments)\n",
    "    targets = np.array(targets)\n",
    "\n",
    "    return [tokens, masks, segments], targets"
   ]
  },
  {
   "cell_type": "code",
   "execution_count": 1276,
   "metadata": {},
   "outputs": [],
   "source": [
    "def conver_data(X_data):\n",
    "    # BERT 입력으로 들어가는 token, mask, segment 저장용 리스트\n",
    "    tokens, masks, segments = [], [], []\n",
    "    \n",
    "    for X in tqdm(X_data):\n",
    "        # token: 입력 문장 토큰화\n",
    "        token = tokenizer.encode(X, truncation=True, padding='max_length', max_length=MAX_SEQ_LEN)\n",
    "        \n",
    "        # Mask: 토큰화한 문장 내 패딩이 아닌 경우 1, 패딩인 경우 0으로 초기화\n",
    "        num_zeros = token.count(0)\n",
    "        mask = [1] * (MAX_SEQ_LEN - num_zeros) + [0] * num_zeros\n",
    "        \n",
    "        # segment: 문장 전후관계 구분: 오직 한 문장이므로 모두 0으로 초기화\n",
    "        segment = [0] * MAX_SEQ_LEN\n",
    "\n",
    "        tokens.append(token)\n",
    "        masks.append(mask)\n",
    "        segments.append(segment)\n",
    "\n",
    "    # numpy array로 저장\n",
    "    tokens = np.array(tokens)\n",
    "    masks = np.array(masks)\n",
    "    segments = np.array(segments)\n",
    "\n",
    "    return [tokens, masks, segments]\n"
   ]
  },
  {
   "cell_type": "code",
   "execution_count": 1277,
   "metadata": {},
   "outputs": [
    {
     "data": {
      "text/plain": [
       "307              총 영업 수익은 전년 동기 대비 27.6% 증가한 6100만 유로입니다.\n",
       "3440                          노조와 회사 관계자들은 어제 전화를 받지 않았다.\n",
       "1072    프로페셔널 및 소비자 애플리케이션에는 개인 내비게이션, 개인 안전, 현장 및 워크플...\n",
       "2295                   전년도의 -0.4 mn에 비해 세후 이익은 0.1 mn이었다.\n",
       "70      OMX 헬싱키 25 지수는 0.92pct 오른 2,518.67, 헬싱키 CAP 포트...\n",
       "                              ...                        \n",
       "560     2010년 8월 31일 16:25에 Basware 주식 거래소 릴리즈는 Baswar...\n",
       "500      북해 원유 생산의 난제 중 하나는 송유관을 막고 생산을 중단할 수 있는 규모 형성이다.\n",
       "862     (ADP News ) - 2008년 9월 30일 - 핀란드의 보안 및 개인 정보 소...\n",
       "1589                    통합업무에 따른 보고는 2011년 1월 1일부터 시작됩니다.\n",
       "1175    오디오 웹캐스트는 라이브로 제공되며 세르너 웹 사이트 www.cerner.com에 ...\n",
       "Name: kor_sentence, Length: 3861, dtype: object"
      ]
     },
     "execution_count": 1277,
     "metadata": {},
     "output_type": "execute_result"
    }
   ],
   "source": [
    "X_train"
   ]
  },
  {
   "cell_type": "code",
   "execution_count": 1278,
   "metadata": {},
   "outputs": [
    {
     "name": "stderr",
     "output_type": "stream",
     "text": [
      "0it [00:00, ?it/s]"
     ]
    },
    {
     "name": "stderr",
     "output_type": "stream",
     "text": [
      "3861it [00:00, 6338.21it/s]\n"
     ]
    }
   ],
   "source": [
    "# train 데이터를 Bert의 Input 타입에 맞게 변환\n",
    "train_x, train_y = convert_data(X_train, y_train)"
   ]
  },
  {
   "cell_type": "code",
   "execution_count": 1279,
   "metadata": {},
   "outputs": [
    {
     "name": "stderr",
     "output_type": "stream",
     "text": [
      "966it [00:00, 6663.04it/s]\n"
     ]
    }
   ],
   "source": [
    "# test 데이터를 Bert의 Input 타입에 맞게 변환\n",
    "test_x, test_y = convert_data(X_test, y_test)"
   ]
  },
  {
   "cell_type": "code",
   "execution_count": 1280,
   "metadata": {},
   "outputs": [],
   "source": [
    "# token, mask, segment 입력 정의\n",
    "token_inputs = tf.keras.layers.Input((MAX_SEQ_LEN,), dtype = tf.int32, name = 'input_word_ids')\n",
    "mask_inputs = tf.keras.layers.Input((MAX_SEQ_LEN,), dtype = tf.int32, name = 'input_masks')\n",
    "segment_inputs = tf.keras.layers.Input((MAX_SEQ_LEN,), dtype = tf.int32, name = 'input_segment')\n",
    "bert_outputs = model([token_inputs, mask_inputs, segment_inputs])"
   ]
  },
  {
   "cell_type": "code",
   "execution_count": 1281,
   "metadata": {},
   "outputs": [],
   "source": [
    "bert_output = bert_outputs[0]"
   ]
  },
  {
   "cell_type": "code",
   "execution_count": 1282,
   "metadata": {},
   "outputs": [],
   "source": [
    "DROPOUT_RATE = 0.5\n",
    "NUM_CLASS = 3\n",
    "dropout = tf.keras.layers.Dropout(DROPOUT_RATE)(bert_output)\n",
    "# Multi-class classification 문제이므로 activation function은 softmax로 설정\n",
    "sentiment_layer = tf.keras.layers.Dense(NUM_CLASS, activation='softmax', kernel_initializer = tf.keras.initializers.TruncatedNormal(stddev=0.02))(dropout)\n",
    "sentiment_model = tf.keras.Model([token_inputs, mask_inputs, segment_inputs], sentiment_layer)"
   ]
  },
  {
   "cell_type": "code",
   "execution_count": 1283,
   "metadata": {},
   "outputs": [],
   "source": [
    "# 옵티마이저 Rectified Adam 하이퍼파리미터 조정\n",
    "OPTIMIZER_NAME = 'RAdam'\n",
    "LEARNING_RATE = 5e-5\n",
    "TOTAL_STEPS = 10000\n",
    "MIN_LR = 1e-5\n",
    "WARMUP_PROPORTION = 0.1\n",
    "EPSILON = 1e-8\n",
    "CLIPNORM = 1.0\n",
    "optimizer = tfa.optimizers.RectifiedAdam(learning_rate = LEARNING_RATE,\n",
    "                                          total_steps = TOTAL_STEPS, \n",
    "                                          warmup_proportion = WARMUP_PROPORTION, \n",
    "                                          min_lr = MIN_LR, \n",
    "                                          epsilon = EPSILON,\n",
    "                                          clipnorm = CLIPNORM)"
   ]
  },
  {
   "cell_type": "code",
   "execution_count": 1284,
   "metadata": {},
   "outputs": [],
   "source": [
    "# 감정분류 모델 컴파일\n",
    "sentiment_model.compile(optimizer = optimizer, \n",
    "                        loss = tf.keras.losses.SparseCategoricalCrossentropy(), \n",
    "                        metrics = ['accuracy'])"
   ]
  },
  {
   "cell_type": "code",
   "execution_count": 1285,
   "metadata": {},
   "outputs": [],
   "source": [
    "MIN_DELTA = 1e-3\n",
    "PATIENCE = 5\n",
    "\n",
    "early_stopping = EarlyStopping(\n",
    "    monitor = \"val_loss\", \n",
    "    min_delta = MIN_DELTA,\n",
    "    patience = PATIENCE)"
   ]
  },
  {
   "cell_type": "code",
   "execution_count": 1286,
   "metadata": {},
   "outputs": [],
   "source": [
    "# 최고 성능의 모델 파일을 저장할 이름과 경로 설정\n",
    "BEST_MODEL_NAME = './model/best_model.h5'\n",
    "model_checkpoint = ModelCheckpoint(\n",
    "    filepath = BEST_MODEL_NAME,\n",
    "    monitor = \"val_loss\",\n",
    "    mode = \"min\",\n",
    "    save_best_only = True, # 성능 향상 시에만 모델 저장\n",
    "    verbose = 1\n",
    ")\n"
   ]
  },
  {
   "cell_type": "code",
   "execution_count": 1287,
   "metadata": {},
   "outputs": [],
   "source": [
    "callbacks = [early_stopping, model_checkpoint]"
   ]
  },
  {
   "cell_type": "code",
   "execution_count": 1288,
   "metadata": {},
   "outputs": [],
   "source": [
    "# EPOCHS = 100\n",
    "# BATCH_SZIE = 32\n",
    "\n",
    "# sentiment_model.fit(train_x, train_y, \n",
    "#                     epochs = EPOCHS, \n",
    "#                     shuffle = True, \n",
    "#                     batch_size = BATCH_SZIE, \n",
    "#                     validation_data = (test_x, test_y),\n",
    "#                     callbacks = callbacks\n",
    "#                     )"
   ]
  },
  {
   "cell_type": "code",
   "execution_count": 1289,
   "metadata": {},
   "outputs": [],
   "source": [
    "# 최고 성능의 모델 불러오기\n",
    "sentiment_model_best = tf.keras.models.load_model(BEST_MODEL_NAME,\n",
    "                                                  custom_objects={'TFBertForSequenceClassification': TFBertForSequenceClassification})"
   ]
  },
  {
   "cell_type": "code",
   "execution_count": 1290,
   "metadata": {},
   "outputs": [
    {
     "name": "stderr",
     "output_type": "stream",
     "text": [
      "0it [00:00, ?it/s]\n"
     ]
    },
    {
     "ename": "ValueError",
     "evalue": "Unexpected result of `predict_function` (Empty batch_outputs). Please use `Model.compile(..., run_eagerly=True)`, or `tf.config.run_functions_eagerly(True)` for more information of where went wrong, or file a issue/bug to `tf.keras`.",
     "output_type": "error",
     "traceback": [
      "\u001b[0;31m---------------------------------------------------------------------------\u001b[0m",
      "\u001b[0;31mValueError\u001b[0m                                Traceback (most recent call last)",
      "Cell \u001b[0;32mIn[1290], line 3\u001b[0m\n\u001b[1;32m      1\u001b[0m \u001b[39m# X_data = [news]  # X_data를 리스트로 감싸서 전달\u001b[39;00m\n\u001b[1;32m      2\u001b[0m input_data \u001b[39m=\u001b[39m conver_data(news[\u001b[39m'\u001b[39m\u001b[39mcontent\u001b[39m\u001b[39m'\u001b[39m])\n\u001b[0;32m----> 3\u001b[0m predictions \u001b[39m=\u001b[39m sentiment_model_best\u001b[39m.\u001b[39;49mpredict(input_data)\n\u001b[1;32m      4\u001b[0m predicted_label \u001b[39m=\u001b[39m np\u001b[39m.\u001b[39margmax(predictions, axis\u001b[39m=\u001b[39m\u001b[39m1\u001b[39m)\n",
      "File \u001b[0;32m~/miniforge3/envs/dl_dev_gpu/lib/python3.10/site-packages/keras/src/utils/traceback_utils.py:70\u001b[0m, in \u001b[0;36mfilter_traceback.<locals>.error_handler\u001b[0;34m(*args, **kwargs)\u001b[0m\n\u001b[1;32m     67\u001b[0m     filtered_tb \u001b[39m=\u001b[39m _process_traceback_frames(e\u001b[39m.\u001b[39m__traceback__)\n\u001b[1;32m     68\u001b[0m     \u001b[39m# To get the full stack trace, call:\u001b[39;00m\n\u001b[1;32m     69\u001b[0m     \u001b[39m# `tf.debugging.disable_traceback_filtering()`\u001b[39;00m\n\u001b[0;32m---> 70\u001b[0m     \u001b[39mraise\u001b[39;00m e\u001b[39m.\u001b[39mwith_traceback(filtered_tb) \u001b[39mfrom\u001b[39;00m \u001b[39mNone\u001b[39;00m\n\u001b[1;32m     71\u001b[0m \u001b[39mfinally\u001b[39;00m:\n\u001b[1;32m     72\u001b[0m     \u001b[39mdel\u001b[39;00m filtered_tb\n",
      "File \u001b[0;32m~/miniforge3/envs/dl_dev_gpu/lib/python3.10/site-packages/keras/src/engine/training.py:2579\u001b[0m, in \u001b[0;36mModel.predict\u001b[0;34m(self, x, batch_size, verbose, steps, callbacks, max_queue_size, workers, use_multiprocessing)\u001b[0m\n\u001b[1;32m   2575\u001b[0m                 callbacks\u001b[39m.\u001b[39mon_predict_batch_end(\n\u001b[1;32m   2576\u001b[0m                     end_step, {\u001b[39m\"\u001b[39m\u001b[39moutputs\u001b[39m\u001b[39m\"\u001b[39m: batch_outputs}\n\u001b[1;32m   2577\u001b[0m                 )\n\u001b[1;32m   2578\u001b[0m     \u001b[39mif\u001b[39;00m batch_outputs \u001b[39mis\u001b[39;00m \u001b[39mNone\u001b[39;00m:\n\u001b[0;32m-> 2579\u001b[0m         \u001b[39mraise\u001b[39;00m \u001b[39mValueError\u001b[39;00m(\n\u001b[1;32m   2580\u001b[0m             \u001b[39m\"\u001b[39m\u001b[39mUnexpected result of `predict_function` \u001b[39m\u001b[39m\"\u001b[39m\n\u001b[1;32m   2581\u001b[0m             \u001b[39m\"\u001b[39m\u001b[39m(Empty batch_outputs). Please use \u001b[39m\u001b[39m\"\u001b[39m\n\u001b[1;32m   2582\u001b[0m             \u001b[39m\"\u001b[39m\u001b[39m`Model.compile(..., run_eagerly=True)`, or \u001b[39m\u001b[39m\"\u001b[39m\n\u001b[1;32m   2583\u001b[0m             \u001b[39m\"\u001b[39m\u001b[39m`tf.config.run_functions_eagerly(True)` for more \u001b[39m\u001b[39m\"\u001b[39m\n\u001b[1;32m   2584\u001b[0m             \u001b[39m\"\u001b[39m\u001b[39minformation of where went wrong, or file a \u001b[39m\u001b[39m\"\u001b[39m\n\u001b[1;32m   2585\u001b[0m             \u001b[39m\"\u001b[39m\u001b[39missue/bug to `tf.keras`.\u001b[39m\u001b[39m\"\u001b[39m\n\u001b[1;32m   2586\u001b[0m         )\n\u001b[1;32m   2587\u001b[0m     callbacks\u001b[39m.\u001b[39mon_predict_end()\n\u001b[1;32m   2588\u001b[0m all_outputs \u001b[39m=\u001b[39m tf\u001b[39m.\u001b[39m__internal__\u001b[39m.\u001b[39mnest\u001b[39m.\u001b[39mmap_structure_up_to(\n\u001b[1;32m   2589\u001b[0m     batch_outputs, potentially_ragged_concat, outputs\n\u001b[1;32m   2590\u001b[0m )\n",
      "\u001b[0;31mValueError\u001b[0m: Unexpected result of `predict_function` (Empty batch_outputs). Please use `Model.compile(..., run_eagerly=True)`, or `tf.config.run_functions_eagerly(True)` for more information of where went wrong, or file a issue/bug to `tf.keras`."
     ]
    }
   ],
   "source": [
    "# X_data = [news]  # X_data를 리스트로 감싸서 전달\n",
    "input_data = conver_data(news['content'])\n",
    "predictions = sentiment_model_best.predict(input_data)\n",
    "predicted_label = np.argmax(predictions, axis=1)"
   ]
  },
  {
   "cell_type": "code",
   "execution_count": null,
   "metadata": {},
   "outputs": [
    {
     "data": {
      "text/plain": [
       "array([1, 1, 1, 0, 1, 0, 0, 0, 0, 0, 0, 0, 0, 0, 0, 2, 0, 1, 1, 0, 1, 1,\n",
       "       1, 1, 0, 1, 0, 0, 0, 0, 0, 0, 1, 1, 1, 1, 0, 1, 0, 0, 0, 0, 0, 0,\n",
       "       0, 0, 0, 0, 0, 0, 0, 2, 0, 0, 1, 0, 1, 2, 2, 0, 0, 1, 1, 0, 1, 1,\n",
       "       0, 1, 0, 1, 0, 1, 0, 1, 0, 0, 1, 1, 0, 2, 1, 0, 2, 0, 0, 0, 0, 2,\n",
       "       0, 0, 1, 2, 2, 0, 0, 1, 0, 0, 2, 0, 0, 0, 0, 1, 0, 2, 0, 0, 0, 2,\n",
       "       2, 1, 0, 1, 0, 1, 2, 1, 0, 2, 0, 2, 0, 2, 0, 1, 0, 0, 0, 2, 2, 0,\n",
       "       0, 0, 0, 0, 0, 0, 0, 0, 1, 0, 0, 0, 2, 0, 0, 1, 0, 2, 2, 2, 2, 2,\n",
       "       2, 0, 0, 0, 0, 0, 0, 0, 0, 0, 0, 0, 2, 1, 2, 0, 1, 0, 0, 1, 0, 2,\n",
       "       1, 1, 2, 1, 1, 0, 0, 0, 0, 0, 0, 1, 1, 0, 1, 0, 0, 0, 1, 1, 0, 0,\n",
       "       1, 1, 1, 0, 0, 0, 2, 0, 1, 0, 0, 0, 1, 1, 0, 0, 2, 0, 1, 2, 0, 2,\n",
       "       2, 1, 2, 1, 0, 1, 1, 0, 0, 0, 0, 0, 0, 0, 2, 1, 0, 2, 0, 2, 0, 0,\n",
       "       0, 2, 0, 0, 0, 0, 0, 1, 1, 0, 2, 0, 0, 0, 1, 2, 0, 1, 0, 2, 0, 0,\n",
       "       1, 0, 1, 0, 1, 0, 1, 0, 0, 0, 2, 1, 0, 0, 0, 0, 0, 0, 2, 1, 0, 0,\n",
       "       2, 0, 1, 1, 1, 0, 0, 0, 0, 0, 0, 2, 0, 0, 0, 0, 0, 0, 0, 0, 0, 1,\n",
       "       0, 1, 2, 1, 2, 1, 0, 0, 0, 2, 0, 2, 0, 2, 0, 2, 0, 0, 0, 0, 0, 0,\n",
       "       0, 0, 0, 0, 0, 0, 0, 0, 0, 1, 1, 0, 0, 0, 0, 0, 1, 0, 0, 0, 0, 0,\n",
       "       2, 0, 2, 0, 0, 1, 2, 0, 0, 0, 0, 0, 0, 0, 1, 0, 0, 1, 1, 0, 2, 0,\n",
       "       0, 0, 0, 0, 0, 1, 0, 1, 0, 1, 1, 2, 0, 0, 2, 0, 2, 0, 0, 0, 0, 0,\n",
       "       2, 0, 0, 1, 1, 1, 0, 0, 0, 0, 0, 0, 2, 0, 0, 1, 1, 0, 0, 1, 0, 2,\n",
       "       2, 0, 0, 0, 0, 0, 0, 2, 2, 0, 0, 1, 1, 0, 0, 0, 1, 0, 0, 0, 0, 2,\n",
       "       1, 0, 1, 0, 1, 2, 0, 1, 0, 2, 2, 1, 0, 0, 0, 0, 0, 1, 1, 0, 1, 0,\n",
       "       0, 0, 0, 0, 0, 0, 0, 0, 0, 1, 1, 1, 1, 1, 1, 0, 0, 1, 0, 0, 2, 0,\n",
       "       1, 2, 0, 0, 2, 0, 0, 0, 1, 0, 0, 0, 2, 1, 0, 1, 0, 0, 0, 2, 0, 2,\n",
       "       0, 0, 2, 0, 0, 0, 0, 2, 0, 1, 0, 2, 2, 0, 0, 0, 1, 0, 1, 1, 1, 1,\n",
       "       0, 2, 1, 0, 0, 0, 2, 2, 0, 0, 0, 0, 2, 0, 1, 0, 0, 1, 1, 2, 1, 1,\n",
       "       1, 0, 0, 0, 0, 0, 0, 0, 0, 1, 0, 2, 0, 0, 0, 0, 0, 2, 0, 0, 0, 0,\n",
       "       0, 2, 0, 2, 0, 2, 0, 0, 0, 0, 1, 0, 0, 1, 2, 0, 0, 0, 0, 0, 0, 0,\n",
       "       2, 2, 0, 2, 0, 0, 1, 0, 1, 0, 1, 0, 2, 2, 0, 2, 1, 0, 1, 0, 0, 0,\n",
       "       1, 0, 0, 2, 0, 1, 1, 1, 0, 0, 0, 0, 0, 0, 1, 1, 1, 0, 0, 0, 2, 1,\n",
       "       0, 0, 0, 0, 0, 0, 0, 0, 0, 1, 0, 0, 0, 0, 0, 1, 0, 1, 0, 0, 0, 2,\n",
       "       0, 1, 2, 1, 0, 0, 0, 0, 0, 0, 0, 0, 0, 2, 2, 0, 2, 0, 2, 1, 0, 0,\n",
       "       0, 0, 0, 0, 0, 1, 2, 0, 0, 0, 0, 0, 0, 1, 0, 0, 0, 1, 0, 0, 1, 1,\n",
       "       1, 1, 0, 0, 2, 0, 2, 1, 0, 2, 1, 2, 1, 2, 0, 0, 0, 1, 1, 0, 0, 0,\n",
       "       2, 0, 0, 0, 1, 1, 2, 0, 1, 0, 0, 0, 1, 0, 2, 2, 1, 2, 1, 1, 0, 1,\n",
       "       0, 0, 2, 0, 2, 2, 1, 0, 1, 1, 1, 1, 2, 2, 1, 0, 1, 0, 0, 0, 2, 0,\n",
       "       1, 2, 2, 0, 0, 0, 0, 0, 0, 0, 0, 0, 0, 2, 1, 2, 1, 0, 0, 0, 2, 1,\n",
       "       0, 0, 0, 0, 0, 0, 0, 0, 0, 1, 1, 2, 2, 1, 1, 1, 0, 0, 0, 0, 0, 0,\n",
       "       2, 1, 0, 2, 1, 1, 0, 0, 0, 1, 0, 1, 1, 0, 0, 0, 0, 1, 1, 2, 0, 1,\n",
       "       0, 1, 0, 1, 0, 1, 1, 1, 1, 2, 0, 0, 0, 0, 1, 1, 0, 0, 1, 2, 0, 0,\n",
       "       1, 1])"
      ]
     },
     "execution_count": 1251,
     "metadata": {},
     "output_type": "execute_result"
    }
   ],
   "source": [
    "predicted_label"
   ]
  },
  {
   "cell_type": "code",
   "execution_count": null,
   "metadata": {},
   "outputs": [],
   "source": [
    "array_list = predicted_label.tolist()"
   ]
  },
  {
   "cell_type": "code",
   "execution_count": null,
   "metadata": {},
   "outputs": [
    {
     "data": {
      "text/html": [
       "<div>\n",
       "<style scoped>\n",
       "    .dataframe tbody tr th:only-of-type {\n",
       "        vertical-align: middle;\n",
       "    }\n",
       "\n",
       "    .dataframe tbody tr th {\n",
       "        vertical-align: top;\n",
       "    }\n",
       "\n",
       "    .dataframe thead th {\n",
       "        text-align: right;\n",
       "    }\n",
       "</style>\n",
       "<table border=\"1\" class=\"dataframe\">\n",
       "  <thead>\n",
       "    <tr style=\"text-align: right;\">\n",
       "      <th></th>\n",
       "      <th>datetime</th>\n",
       "      <th>news</th>\n",
       "      <th>label</th>\n",
       "    </tr>\n",
       "  </thead>\n",
       "  <tbody>\n",
       "    <tr>\n",
       "      <th>858</th>\n",
       "      <td>2023-07-25 09:08:00</td>\n",
       "      <td>5000가구 브랜드 타운 중심 포레나 인천학익 내달 분양</td>\n",
       "      <td>0</td>\n",
       "    </tr>\n",
       "    <tr>\n",
       "      <th>859</th>\n",
       "      <td>2023-07-25 09:08:00</td>\n",
       "      <td>남부대학교아동시화공모전 개최</td>\n",
       "      <td>0</td>\n",
       "    </tr>\n",
       "    <tr>\n",
       "      <th>860</th>\n",
       "      <td>2023-07-25 09:08:00</td>\n",
       "      <td>프랑스는 중국 튀르키예는 사우디와 밀착 이념가치 실리 선회Global Economy</td>\n",
       "      <td>0</td>\n",
       "    </tr>\n",
       "    <tr>\n",
       "      <th>861</th>\n",
       "      <td>2023-07-25 09:08:00</td>\n",
       "      <td>원달러 환율 11원 오른 12810원 개장</td>\n",
       "      <td>1</td>\n",
       "    </tr>\n",
       "    <tr>\n",
       "      <th>862</th>\n",
       "      <td>2023-07-25 09:07:00</td>\n",
       "      <td>포토부스서 여름 파도 향기를 에이피알 포맨트 포토그레이와 팝업</td>\n",
       "      <td>0</td>\n",
       "    </tr>\n",
       "    <tr>\n",
       "      <th>863</th>\n",
       "      <td>2023-07-25 09:07:00</td>\n",
       "      <td>위메프 중소벤처기업부와 소상공인 미디어커머스 진출 돕는다</td>\n",
       "      <td>1</td>\n",
       "    </tr>\n",
       "    <tr>\n",
       "      <th>864</th>\n",
       "      <td>2023-07-25 09:07:00</td>\n",
       "      <td>저소득 위기가구 긴급복지지원 신청하세요</td>\n",
       "      <td>1</td>\n",
       "    </tr>\n",
       "    <tr>\n",
       "      <th>865</th>\n",
       "      <td>2023-07-25 09:06:00</td>\n",
       "      <td>스레드 등장에 위기 느꼈나틱톡도 텍스트 전용 기능 출시</td>\n",
       "      <td>0</td>\n",
       "    </tr>\n",
       "    <tr>\n",
       "      <th>866</th>\n",
       "      <td>2023-07-25 09:06:00</td>\n",
       "      <td>유니베라 보타니티 허다빈 프로 골프레슨 프로모션 열어</td>\n",
       "      <td>0</td>\n",
       "    </tr>\n",
       "    <tr>\n",
       "      <th>867</th>\n",
       "      <td>2023-07-25 09:06:00</td>\n",
       "      <td>책 한 모금땅은 알고 있다지구에서 벌어졌던 일들을</td>\n",
       "      <td>0</td>\n",
       "    </tr>\n",
       "    <tr>\n",
       "      <th>868</th>\n",
       "      <td>2023-07-25 09:06:00</td>\n",
       "      <td>수원역에 들어선다 국내 6번째 돌비 시네마관경기남부권 최초</td>\n",
       "      <td>0</td>\n",
       "    </tr>\n",
       "    <tr>\n",
       "      <th>869</th>\n",
       "      <td>2023-07-25 09:06:00</td>\n",
       "      <td>바로고 정보보호 관리체계 인증 획득</td>\n",
       "      <td>1</td>\n",
       "    </tr>\n",
       "    <tr>\n",
       "      <th>870</th>\n",
       "      <td>2023-07-25 09:06:00</td>\n",
       "      <td>포스코퓨처엠 하이니켈 NCA 양극재 연산 5만2500t 확대</td>\n",
       "      <td>1</td>\n",
       "    </tr>\n",
       "    <tr>\n",
       "      <th>871</th>\n",
       "      <td>2023-07-25 09:05:00</td>\n",
       "      <td>우루과이 연안에 펭귄 수천마리 사체</td>\n",
       "      <td>2</td>\n",
       "    </tr>\n",
       "    <tr>\n",
       "      <th>872</th>\n",
       "      <td>2023-07-25 09:05:00</td>\n",
       "      <td>정전 70주년에 가슴으로 품는 아버지의 현대사그립습니다</td>\n",
       "      <td>0</td>\n",
       "    </tr>\n",
       "    <tr>\n",
       "      <th>873</th>\n",
       "      <td>2023-07-25 09:05:00</td>\n",
       "      <td>계절을 담은 천도복숭아 소르베금귤 콩포트 제주 여행자들 입과 눈 사로잡은 설렘의 맛...</td>\n",
       "      <td>1</td>\n",
       "    </tr>\n",
       "    <tr>\n",
       "      <th>874</th>\n",
       "      <td>2023-07-25 09:05:00</td>\n",
       "      <td>용인시 건지산 봉수터서 화철 등 유물 발견</td>\n",
       "      <td>0</td>\n",
       "    </tr>\n",
       "    <tr>\n",
       "      <th>875</th>\n",
       "      <td>2023-07-25 09:05:00</td>\n",
       "      <td>지니언스 아태지역 로드쇼 개최제로 트러스트 솔루션 시장 확대</td>\n",
       "      <td>1</td>\n",
       "    </tr>\n",
       "    <tr>\n",
       "      <th>876</th>\n",
       "      <td>2023-07-25 09:04:00</td>\n",
       "      <td>블랙핑크x스타벅스 텀블러 G마켓에서 구매해볼까</td>\n",
       "      <td>0</td>\n",
       "    </tr>\n",
       "    <tr>\n",
       "      <th>877</th>\n",
       "      <td>2023-07-25 09:04:00</td>\n",
       "      <td>LPG 배관망 구축태안군 승언리신진도리 난방비 절감 기대</td>\n",
       "      <td>1</td>\n",
       "    </tr>\n",
       "    <tr>\n",
       "      <th>878</th>\n",
       "      <td>2023-07-25 09:04:00</td>\n",
       "      <td>김승원 이상민 탄핵 기각될 가능성 높아재판관 성향 때문</td>\n",
       "      <td>0</td>\n",
       "    </tr>\n",
       "    <tr>\n",
       "      <th>879</th>\n",
       "      <td>2023-07-25 09:04:00</td>\n",
       "      <td>케이뱅크 주담대 대환대출 금리 인하최저 38</td>\n",
       "      <td>1</td>\n",
       "    </tr>\n",
       "    <tr>\n",
       "      <th>880</th>\n",
       "      <td>2023-07-25 09:03:00</td>\n",
       "      <td>코스닥개장 227포인트024 오른 93217 출발</td>\n",
       "      <td>1</td>\n",
       "    </tr>\n",
       "    <tr>\n",
       "      <th>881</th>\n",
       "      <td>2023-07-25 09:03:00</td>\n",
       "      <td>신영지웰 푸르지오 테크노폴리스 센트럴 주거용 오피스텔 25일부터 계약 실시</td>\n",
       "      <td>1</td>\n",
       "    </tr>\n",
       "    <tr>\n",
       "      <th>882</th>\n",
       "      <td>2023-07-25 09:03:00</td>\n",
       "      <td>백혈병 환자 선택지 늘었다4세대 치료제도 건보 적용</td>\n",
       "      <td>1</td>\n",
       "    </tr>\n",
       "    <tr>\n",
       "      <th>883</th>\n",
       "      <td>2023-07-25 09:03:00</td>\n",
       "      <td>잠들 때 몇분 걸리세요30분 넘으면 사망위험 2배</td>\n",
       "      <td>2</td>\n",
       "    </tr>\n",
       "    <tr>\n",
       "      <th>884</th>\n",
       "      <td>2023-07-25 09:03:00</td>\n",
       "      <td>전주 에코시티 마지막 분양 한양수자인 디에스틴 오늘 1순위 청약</td>\n",
       "      <td>0</td>\n",
       "    </tr>\n",
       "    <tr>\n",
       "      <th>885</th>\n",
       "      <td>2023-07-25 09:03:00</td>\n",
       "      <td>이것만 해도 수명 24년운동수면금연 등 8가지</td>\n",
       "      <td>0</td>\n",
       "    </tr>\n",
       "    <tr>\n",
       "      <th>886</th>\n",
       "      <td>2023-07-25 09:02:00</td>\n",
       "      <td>KB손해보험 KB다이렉트 금쪽같은 펫보험 출시</td>\n",
       "      <td>0</td>\n",
       "    </tr>\n",
       "    <tr>\n",
       "      <th>887</th>\n",
       "      <td>2023-07-25 09:02:00</td>\n",
       "      <td>횡성군 고교대학생 대상 장학생 23명 선발총 3400만원 지원</td>\n",
       "      <td>0</td>\n",
       "    </tr>\n",
       "    <tr>\n",
       "      <th>888</th>\n",
       "      <td>2023-07-25 09:02:00</td>\n",
       "      <td>LGU 여가 플랫폼 스타트업 솜씨당컴퍼니 지분 투자</td>\n",
       "      <td>1</td>\n",
       "    </tr>\n",
       "    <tr>\n",
       "      <th>889</th>\n",
       "      <td>2023-07-25 09:02:00</td>\n",
       "      <td>인천시 대학원생 학자금대출 이자 지원</td>\n",
       "      <td>1</td>\n",
       "    </tr>\n",
       "    <tr>\n",
       "      <th>890</th>\n",
       "      <td>2023-07-25 09:02:00</td>\n",
       "      <td>롯데웰푸드 파스퇴르 산양 제왕 출시</td>\n",
       "      <td>0</td>\n",
       "    </tr>\n",
       "    <tr>\n",
       "      <th>891</th>\n",
       "      <td>2023-07-25 09:02:00</td>\n",
       "      <td>김영규 여수시의장 생숙 문제 정기명 시장 책임론 제기</td>\n",
       "      <td>0</td>\n",
       "    </tr>\n",
       "    <tr>\n",
       "      <th>892</th>\n",
       "      <td>2023-07-25 09:01:00</td>\n",
       "      <td>닥터지 화장품 만든다던데 공채 3000명 몰린 이 회사는</td>\n",
       "      <td>1</td>\n",
       "    </tr>\n",
       "    <tr>\n",
       "      <th>893</th>\n",
       "      <td>2023-07-25 09:01:00</td>\n",
       "      <td>인천 서구 말라리아 경보 발령 연수계양 이어 세 번째</td>\n",
       "      <td>2</td>\n",
       "    </tr>\n",
       "    <tr>\n",
       "      <th>894</th>\n",
       "      <td>2023-07-25 09:01:00</td>\n",
       "      <td>토요타 하이랜더 출시 7인승이 138kmL더 큰 세상이 타고 있다</td>\n",
       "      <td>0</td>\n",
       "    </tr>\n",
       "    <tr>\n",
       "      <th>895</th>\n",
       "      <td>2023-07-25 09:01:00</td>\n",
       "      <td>전남도 저소득 위기가구 긴급복지 지원 신청하세요</td>\n",
       "      <td>0</td>\n",
       "    </tr>\n",
       "    <tr>\n",
       "      <th>896</th>\n",
       "      <td>2023-07-25 09:01:00</td>\n",
       "      <td>LGU 취미여가 플랫폼 스타트업 솜씨당컴퍼니에 지분 투자</td>\n",
       "      <td>1</td>\n",
       "    </tr>\n",
       "    <tr>\n",
       "      <th>897</th>\n",
       "      <td>2023-07-25 09:01:00</td>\n",
       "      <td>신상진 성남시장 경기도 최초 공동주택 경비실 냉방기 전기료 지원</td>\n",
       "      <td>1</td>\n",
       "    </tr>\n",
       "  </tbody>\n",
       "</table>\n",
       "</div>"
      ],
      "text/plain": [
       "                datetime                                               news  \\\n",
       "858  2023-07-25 09:08:00                    5000가구 브랜드 타운 중심 포레나 인천학익 내달 분양   \n",
       "859  2023-07-25 09:08:00                                    남부대학교아동시화공모전 개최   \n",
       "860  2023-07-25 09:08:00     프랑스는 중국 튀르키예는 사우디와 밀착 이념가치 실리 선회Global Economy   \n",
       "861  2023-07-25 09:08:00                            원달러 환율 11원 오른 12810원 개장   \n",
       "862  2023-07-25 09:07:00                 포토부스서 여름 파도 향기를 에이피알 포맨트 포토그레이와 팝업   \n",
       "863  2023-07-25 09:07:00                    위메프 중소벤처기업부와 소상공인 미디어커머스 진출 돕는다   \n",
       "864  2023-07-25 09:07:00                              저소득 위기가구 긴급복지지원 신청하세요   \n",
       "865  2023-07-25 09:06:00                     스레드 등장에 위기 느꼈나틱톡도 텍스트 전용 기능 출시   \n",
       "866  2023-07-25 09:06:00                      유니베라 보타니티 허다빈 프로 골프레슨 프로모션 열어   \n",
       "867  2023-07-25 09:06:00                        책 한 모금땅은 알고 있다지구에서 벌어졌던 일들을   \n",
       "868  2023-07-25 09:06:00                   수원역에 들어선다 국내 6번째 돌비 시네마관경기남부권 최초   \n",
       "869  2023-07-25 09:06:00                                바로고 정보보호 관리체계 인증 획득   \n",
       "870  2023-07-25 09:06:00                  포스코퓨처엠 하이니켈 NCA 양극재 연산 5만2500t 확대   \n",
       "871  2023-07-25 09:05:00                                우루과이 연안에 펭귄 수천마리 사체   \n",
       "872  2023-07-25 09:05:00                     정전 70주년에 가슴으로 품는 아버지의 현대사그립습니다   \n",
       "873  2023-07-25 09:05:00  계절을 담은 천도복숭아 소르베금귤 콩포트 제주 여행자들 입과 눈 사로잡은 설렘의 맛...   \n",
       "874  2023-07-25 09:05:00                            용인시 건지산 봉수터서 화철 등 유물 발견   \n",
       "875  2023-07-25 09:05:00                  지니언스 아태지역 로드쇼 개최제로 트러스트 솔루션 시장 확대   \n",
       "876  2023-07-25 09:04:00                          블랙핑크x스타벅스 텀블러 G마켓에서 구매해볼까   \n",
       "877  2023-07-25 09:04:00                    LPG 배관망 구축태안군 승언리신진도리 난방비 절감 기대   \n",
       "878  2023-07-25 09:04:00                     김승원 이상민 탄핵 기각될 가능성 높아재판관 성향 때문   \n",
       "879  2023-07-25 09:04:00                           케이뱅크 주담대 대환대출 금리 인하최저 38   \n",
       "880  2023-07-25 09:03:00                        코스닥개장 227포인트024 오른 93217 출발   \n",
       "881  2023-07-25 09:03:00          신영지웰 푸르지오 테크노폴리스 센트럴 주거용 오피스텔 25일부터 계약 실시   \n",
       "882  2023-07-25 09:03:00                       백혈병 환자 선택지 늘었다4세대 치료제도 건보 적용   \n",
       "883  2023-07-25 09:03:00                        잠들 때 몇분 걸리세요30분 넘으면 사망위험 2배   \n",
       "884  2023-07-25 09:03:00                전주 에코시티 마지막 분양 한양수자인 디에스틴 오늘 1순위 청약   \n",
       "885  2023-07-25 09:03:00                          이것만 해도 수명 24년운동수면금연 등 8가지   \n",
       "886  2023-07-25 09:02:00                          KB손해보험 KB다이렉트 금쪽같은 펫보험 출시   \n",
       "887  2023-07-25 09:02:00                 횡성군 고교대학생 대상 장학생 23명 선발총 3400만원 지원   \n",
       "888  2023-07-25 09:02:00                       LGU 여가 플랫폼 스타트업 솜씨당컴퍼니 지분 투자   \n",
       "889  2023-07-25 09:02:00                               인천시 대학원생 학자금대출 이자 지원   \n",
       "890  2023-07-25 09:02:00                                롯데웰푸드 파스퇴르 산양 제왕 출시   \n",
       "891  2023-07-25 09:02:00                      김영규 여수시의장 생숙 문제 정기명 시장 책임론 제기   \n",
       "892  2023-07-25 09:01:00                    닥터지 화장품 만든다던데 공채 3000명 몰린 이 회사는   \n",
       "893  2023-07-25 09:01:00                      인천 서구 말라리아 경보 발령 연수계양 이어 세 번째   \n",
       "894  2023-07-25 09:01:00               토요타 하이랜더 출시 7인승이 138kmL더 큰 세상이 타고 있다   \n",
       "895  2023-07-25 09:01:00                         전남도 저소득 위기가구 긴급복지 지원 신청하세요   \n",
       "896  2023-07-25 09:01:00                    LGU 취미여가 플랫폼 스타트업 솜씨당컴퍼니에 지분 투자   \n",
       "897  2023-07-25 09:01:00                신상진 성남시장 경기도 최초 공동주택 경비실 냉방기 전기료 지원   \n",
       "\n",
       "     label  \n",
       "858      0  \n",
       "859      0  \n",
       "860      0  \n",
       "861      1  \n",
       "862      0  \n",
       "863      1  \n",
       "864      1  \n",
       "865      0  \n",
       "866      0  \n",
       "867      0  \n",
       "868      0  \n",
       "869      1  \n",
       "870      1  \n",
       "871      2  \n",
       "872      0  \n",
       "873      1  \n",
       "874      0  \n",
       "875      1  \n",
       "876      0  \n",
       "877      1  \n",
       "878      0  \n",
       "879      1  \n",
       "880      1  \n",
       "881      1  \n",
       "882      1  \n",
       "883      2  \n",
       "884      0  \n",
       "885      0  \n",
       "886      0  \n",
       "887      0  \n",
       "888      1  \n",
       "889      1  \n",
       "890      0  \n",
       "891      0  \n",
       "892      1  \n",
       "893      2  \n",
       "894      0  \n",
       "895      0  \n",
       "896      1  \n",
       "897      1  "
      ]
     },
     "execution_count": 1253,
     "metadata": {},
     "output_type": "execute_result"
    }
   ],
   "source": [
    "import pandas as pd\n",
    "\n",
    "data = {'datetime': news['date_time'], 'news':news['title'], 'label': array_list}\n",
    "\n",
    "df = pd.DataFrame(data)\n",
    "df.tail(40)"
   ]
  },
  {
   "cell_type": "code",
   "execution_count": null,
   "metadata": {},
   "outputs": [],
   "source": [
    "df.to_csv('./24.csv')"
   ]
  }
 ],
 "metadata": {
  "kernelspec": {
   "display_name": "dl_dev_gpu",
   "language": "python",
   "name": "python3"
  },
  "language_info": {
   "codemirror_mode": {
    "name": "ipython",
    "version": 3
   },
   "file_extension": ".py",
   "mimetype": "text/x-python",
   "name": "python",
   "nbconvert_exporter": "python",
   "pygments_lexer": "ipython3",
   "version": "3.10.11"
  },
  "orig_nbformat": 4
 },
 "nbformat": 4,
 "nbformat_minor": 2
}
