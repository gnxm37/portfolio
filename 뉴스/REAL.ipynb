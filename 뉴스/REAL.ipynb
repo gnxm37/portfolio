{
 "cells": [
  {
   "cell_type": "code",
   "execution_count": 20,
   "metadata": {},
   "outputs": [],
   "source": [
    "import requests\n",
    "from bs4 import BeautifulSoup\n",
    "import bs4.element\n",
    "import datetime\n",
    "import warnings\n",
    "warnings.filterwarnings('ignore')\n",
    "import re\n",
    "import pandas as pd\n",
    "import time\n",
    "from datetime import datetime\n",
    "import os\n",
    "import re\n",
    "import pymysql\n",
    "import matplotlib.pyplot as plt  \n",
    "from konlpy.tag import *\n",
    "from sklearn.preprocessing import RobustScaler\n",
    "import tensorflow as tf\n",
    "from tensorflow.keras.models import Sequential, load_model\n",
    "from tensorflow.keras.layers import Embedding, Dense, LSTM, Bidirectional\n",
    "from tensorflow.keras.callbacks import EarlyStopping, ModelCheckpoint\n",
    "from tensorflow.keras.preprocessing.text import Tokenizer\n",
    "from tensorflow.keras.preprocessing.sequence import pad_sequences\n",
    "from sklearn.model_selection import train_test_split\n",
    "from konlpy.tag import Mecab\n",
    "from tqdm import tqdm\n",
    "import urllib.request\n",
    "import seaborn as sns\n",
    "import matplotlib.pyplot as plt\n",
    "import tensorflow_addons as tfa\n",
    "import tensorflow as tf\n",
    "from transformers import BertTokenizer, TFBertForSequenceClassification\n",
    "from sklearn.model_selection import train_test_split\n",
    "from sklearn.metrics import accuracy_score, f1_score, precision_score, recall_score, \\\n",
    "                            roc_auc_score, confusion_matrix, classification_report, \\\n",
    "                            matthews_corrcoef, cohen_kappa_score, log_loss\n",
    "\n"
   ]
  },
  {
   "cell_type": "code",
   "execution_count": 21,
   "metadata": {},
   "outputs": [],
   "source": [
    "import warnings\n",
    "import urllib.request\n",
    "warnings.filterwarnings('ignore')\n",
    "from transformers import logging\n",
    "logging.set_verbosity_error()\n",
    "\n",
    "MODEL_NAME = \"klue/bert-base\"\n",
    "model = TFBertForSequenceClassification.from_pretrained(MODEL_NAME, num_labels=3, from_pt=True)\n",
    "tokenizer = BertTokenizer.from_pretrained(MODEL_NAME)"
   ]
  },
  {
   "cell_type": "code",
   "execution_count": 22,
   "metadata": {},
   "outputs": [],
   "source": [
    "# pip install torch"
   ]
  },
  {
   "cell_type": "code",
   "execution_count": 23,
   "metadata": {},
   "outputs": [],
   "source": [
    "# DATASET_URL = \"https://raw.githubusercontent.com/ukairia777/finance_sentiment_corpus/main/finance_data.csv\"\n",
    "# DATASET_NAME = \"finance_data.csv\""
   ]
  },
  {
   "cell_type": "code",
   "execution_count": 24,
   "metadata": {},
   "outputs": [],
   "source": [
    "# urllib.request.urlretrieve(DATASET_URL, \n",
    "#                            filename = DATASET_NAME\n",
    "#                            )"
   ]
  },
  {
   "cell_type": "code",
   "execution_count": 25,
   "metadata": {},
   "outputs": [],
   "source": [
    "# 입력 데이터(문장) 길이 제한\n",
    "MAX_SEQ_LEN = 64\n",
    "\n",
    "def conver_data(X_data):\n",
    "    # BERT 입력으로 들어가는 token, mask, segment 저장용 리스트\n",
    "    tokens, masks, segments = [], [], []\n",
    "    \n",
    "    for X in tqdm(X_data):\n",
    "        # token: 입력 문장 토큰화\n",
    "        token = tokenizer.encode(X, truncation=True, padding='max_length', max_length=MAX_SEQ_LEN)\n",
    "        \n",
    "        # Mask: 토큰화한 문장 내 패딩이 아닌 경우 1, 패딩인 경우 0으로 초기화\n",
    "        num_zeros = token.count(0)\n",
    "        mask = [1] * (MAX_SEQ_LEN - num_zeros) + [0] * num_zeros\n",
    "        \n",
    "        # segment: 문장 전후관계 구분: 오직 한 문장이므로 모두 0으로 초기화\n",
    "        segment = [0] * MAX_SEQ_LEN\n",
    "\n",
    "        tokens.append(token)\n",
    "        masks.append(mask)\n",
    "        segments.append(segment)\n",
    "\n",
    "    # numpy array로 저장\n",
    "    tokens = np.array(tokens)\n",
    "    masks = np.array(masks)\n",
    "    segments = np.array(segments)\n",
    "\n",
    "    return [tokens, masks, segments]\n"
   ]
  },
  {
   "cell_type": "code",
   "execution_count": 26,
   "metadata": {},
   "outputs": [],
   "source": [
    "df = pd.read_csv('./final news.csv', index_col=0)\n",
    "\n",
    "# df = pd.DataFrame(result, columns=['stock_id', 'date', 'closing_price', 'market_price', 'high_price', 'low_price'])\n",
    "\n",
    "df = df.sort_values(ascending=False, by='date_time').reset_index(drop=True)\n",
    "\n",
    "stock_id = '012450'\n",
    "\n",
    "df.insert(0, 'stock_id', stock_id)"
   ]
  },
  {
   "cell_type": "code",
   "execution_count": 27,
   "metadata": {},
   "outputs": [],
   "source": [
    "df['date_time'] = pd.to_datetime(df['date_time'], format='%Y-%m-%d %H:%M:%S')"
   ]
  },
  {
   "cell_type": "code",
   "execution_count": 28,
   "metadata": {},
   "outputs": [
    {
     "data": {
      "text/html": [
       "<div>\n",
       "<style scoped>\n",
       "    .dataframe tbody tr th:only-of-type {\n",
       "        vertical-align: middle;\n",
       "    }\n",
       "\n",
       "    .dataframe tbody tr th {\n",
       "        vertical-align: top;\n",
       "    }\n",
       "\n",
       "    .dataframe thead th {\n",
       "        text-align: right;\n",
       "    }\n",
       "</style>\n",
       "<table border=\"1\" class=\"dataframe\">\n",
       "  <thead>\n",
       "    <tr style=\"text-align: right;\">\n",
       "      <th></th>\n",
       "      <th>stock_id</th>\n",
       "      <th>date_time</th>\n",
       "      <th>open</th>\n",
       "      <th>high</th>\n",
       "      <th>low</th>\n",
       "      <th>close</th>\n",
       "      <th>volume</th>\n",
       "      <th>change</th>\n",
       "    </tr>\n",
       "  </thead>\n",
       "  <tbody>\n",
       "    <tr>\n",
       "      <th>0</th>\n",
       "      <td>012450</td>\n",
       "      <td>2023-07-25 15:20:00</td>\n",
       "      <td>132900.0</td>\n",
       "      <td>133000.0</td>\n",
       "      <td>132800.0</td>\n",
       "      <td>133000.0</td>\n",
       "      <td>1244.0</td>\n",
       "      <td>0.075245</td>\n",
       "    </tr>\n",
       "    <tr>\n",
       "      <th>1</th>\n",
       "      <td>012450</td>\n",
       "      <td>2023-07-25 15:19:00</td>\n",
       "      <td>132800.0</td>\n",
       "      <td>132900.0</td>\n",
       "      <td>132700.0</td>\n",
       "      <td>132900.0</td>\n",
       "      <td>726.0</td>\n",
       "      <td>0.150716</td>\n",
       "    </tr>\n",
       "    <tr>\n",
       "      <th>2</th>\n",
       "      <td>012450</td>\n",
       "      <td>2023-07-25 15:18:00</td>\n",
       "      <td>132600.0</td>\n",
       "      <td>132800.0</td>\n",
       "      <td>132500.0</td>\n",
       "      <td>132700.0</td>\n",
       "      <td>1515.0</td>\n",
       "      <td>0.075415</td>\n",
       "    </tr>\n",
       "    <tr>\n",
       "      <th>3</th>\n",
       "      <td>012450</td>\n",
       "      <td>2023-07-25 15:17:00</td>\n",
       "      <td>132500.0</td>\n",
       "      <td>132600.0</td>\n",
       "      <td>132400.0</td>\n",
       "      <td>132600.0</td>\n",
       "      <td>1975.0</td>\n",
       "      <td>0.075472</td>\n",
       "    </tr>\n",
       "    <tr>\n",
       "      <th>4</th>\n",
       "      <td>012450</td>\n",
       "      <td>2023-07-25 15:16:00</td>\n",
       "      <td>132400.0</td>\n",
       "      <td>132500.0</td>\n",
       "      <td>132400.0</td>\n",
       "      <td>132500.0</td>\n",
       "      <td>1141.0</td>\n",
       "      <td>0.075529</td>\n",
       "    </tr>\n",
       "    <tr>\n",
       "      <th>...</th>\n",
       "      <td>...</td>\n",
       "      <td>...</td>\n",
       "      <td>...</td>\n",
       "      <td>...</td>\n",
       "      <td>...</td>\n",
       "      <td>...</td>\n",
       "      <td>...</td>\n",
       "      <td>...</td>\n",
       "    </tr>\n",
       "    <tr>\n",
       "      <th>194055</th>\n",
       "      <td>012450</td>\n",
       "      <td>2021-07-01 09:05:00</td>\n",
       "      <td>46900.0</td>\n",
       "      <td>46900.0</td>\n",
       "      <td>46850.0</td>\n",
       "      <td>46850.0</td>\n",
       "      <td>923.0</td>\n",
       "      <td>-0.106610</td>\n",
       "    </tr>\n",
       "    <tr>\n",
       "      <th>194056</th>\n",
       "      <td>012450</td>\n",
       "      <td>2021-07-01 09:04:00</td>\n",
       "      <td>47000.0</td>\n",
       "      <td>47000.0</td>\n",
       "      <td>46850.0</td>\n",
       "      <td>46900.0</td>\n",
       "      <td>1535.0</td>\n",
       "      <td>-0.212766</td>\n",
       "    </tr>\n",
       "    <tr>\n",
       "      <th>194057</th>\n",
       "      <td>012450</td>\n",
       "      <td>2021-07-01 09:03:00</td>\n",
       "      <td>47000.0</td>\n",
       "      <td>47050.0</td>\n",
       "      <td>46900.0</td>\n",
       "      <td>47000.0</td>\n",
       "      <td>2886.0</td>\n",
       "      <td>0.000000</td>\n",
       "    </tr>\n",
       "    <tr>\n",
       "      <th>194058</th>\n",
       "      <td>012450</td>\n",
       "      <td>2021-07-01 09:02:00</td>\n",
       "      <td>46900.0</td>\n",
       "      <td>47100.0</td>\n",
       "      <td>46900.0</td>\n",
       "      <td>47000.0</td>\n",
       "      <td>784.0</td>\n",
       "      <td>0.320171</td>\n",
       "    </tr>\n",
       "    <tr>\n",
       "      <th>194059</th>\n",
       "      <td>012450</td>\n",
       "      <td>2021-07-01 09:01:00</td>\n",
       "      <td>46900.0</td>\n",
       "      <td>47000.0</td>\n",
       "      <td>46850.0</td>\n",
       "      <td>46850.0</td>\n",
       "      <td>4322.0</td>\n",
       "      <td>-0.425080</td>\n",
       "    </tr>\n",
       "  </tbody>\n",
       "</table>\n",
       "<p>194060 rows × 8 columns</p>\n",
       "</div>"
      ],
      "text/plain": [
       "       stock_id           date_time      open      high       low     close  \\\n",
       "0        012450 2023-07-25 15:20:00  132900.0  133000.0  132800.0  133000.0   \n",
       "1        012450 2023-07-25 15:19:00  132800.0  132900.0  132700.0  132900.0   \n",
       "2        012450 2023-07-25 15:18:00  132600.0  132800.0  132500.0  132700.0   \n",
       "3        012450 2023-07-25 15:17:00  132500.0  132600.0  132400.0  132600.0   \n",
       "4        012450 2023-07-25 15:16:00  132400.0  132500.0  132400.0  132500.0   \n",
       "...         ...                 ...       ...       ...       ...       ...   \n",
       "194055   012450 2021-07-01 09:05:00   46900.0   46900.0   46850.0   46850.0   \n",
       "194056   012450 2021-07-01 09:04:00   47000.0   47000.0   46850.0   46900.0   \n",
       "194057   012450 2021-07-01 09:03:00   47000.0   47050.0   46900.0   47000.0   \n",
       "194058   012450 2021-07-01 09:02:00   46900.0   47100.0   46900.0   47000.0   \n",
       "194059   012450 2021-07-01 09:01:00   46900.0   47000.0   46850.0   46850.0   \n",
       "\n",
       "        volume    change  \n",
       "0       1244.0  0.075245  \n",
       "1        726.0  0.150716  \n",
       "2       1515.0  0.075415  \n",
       "3       1975.0  0.075472  \n",
       "4       1141.0  0.075529  \n",
       "...        ...       ...  \n",
       "194055   923.0 -0.106610  \n",
       "194056  1535.0 -0.212766  \n",
       "194057  2886.0  0.000000  \n",
       "194058   784.0  0.320171  \n",
       "194059  4322.0 -0.425080  \n",
       "\n",
       "[194060 rows x 8 columns]"
      ]
     },
     "execution_count": 28,
     "metadata": {},
     "output_type": "execute_result"
    }
   ],
   "source": [
    "df"
   ]
  },
  {
   "cell_type": "code",
   "execution_count": 29,
   "metadata": {},
   "outputs": [],
   "source": [
    "news_df = pd.DataFrame(\n",
    "    data=None\n",
    "    , index=None\n",
    "    , columns=['date','title','content']\n",
    ")"
   ]
  },
  {
   "cell_type": "code",
   "execution_count": 30,
   "metadata": {},
   "outputs": [],
   "source": [
    "# ConnectionError방지\n",
    "headers = {'user-agent' : 'Mozilla/5.0 (Windows NT 10.0; Win64; x64) AppleWebKit/537.36 (KHTML, like Gecko) Chrome/100.0.4896.127 Safari/537.36'}\n",
    "\n",
    "# BeautifulSoup 객체 생성\n",
    "def get_soup_obj(url):\n",
    "    res = requests.get(url, headers = headers, verify=False)\n",
    "    soup = BeautifulSoup(res.text,'lxml')\n",
    "    \n",
    "    return soup"
   ]
  },
  {
   "cell_type": "code",
   "execution_count": 31,
   "metadata": {},
   "outputs": [],
   "source": [
    "# 뉴스의 기본 정보 가져오기\n",
    "def get_top3_news_info():\n",
    "    news_urls =[]\n",
    "    \n",
    "    # 해당 분야 상위 뉴스 목록 주소\n",
    "    sec_url = \"https://news.naver.com/main/list.nhn?mode=LSD&mid=sec&sid1=001\"\n",
    "    \n",
    "    # 해당 분야 상위 뉴스 HTML 가져오기\n",
    "    soup = get_soup_obj(sec_url)\n",
    "  \n",
    "    # 해당 분야 상위 뉴스 3개 가져오기\n",
    "\n",
    "    lis3 = soup.find('ul', class_='type06_headline').find_all(\"li\", limit=3)\n",
    "    for li in lis3:\n",
    "        news_url = li.a.attrs.get('href')\n",
    "        news_urls.append(news_url)\n",
    "        \n",
    "    return news_urls"
   ]
  },
  {
   "cell_type": "code",
   "execution_count": 32,
   "metadata": {},
   "outputs": [],
   "source": [
    "# 상위 3개 뉴스 크롤링\n",
    "def F_crawling(news_urls) :\n",
    "    news_titles = []\n",
    "    news_contents =[]\n",
    "    news_dates = []\n",
    "\n",
    "    for url in news_urls:\n",
    "        news_html = get_soup_obj(url)\n",
    "\n",
    "        # 뉴스 제목 가져오기\n",
    "        title = news_html.select_one(\"#ct > div.media_end_head.go_trans > div.media_end_head_title > h2\")\n",
    "        if title == None:\n",
    "            title = news_html.select_one(\"#content > div.end_ct > div > h2\")\n",
    "\n",
    "        # 뉴스 본문 가져오기\n",
    "        content = news_html.select(\"div#dic_area\")\n",
    "        if content == []:\n",
    "            content = news_html.select(\"#articeBody\")\n",
    "            \n",
    "        # 기사 텍스트만 가져오기\n",
    "        # list합치기\n",
    "        content = ''.join(str(content))\n",
    "\n",
    "        # html태그제거 및 텍스트 다듬기\n",
    "        pattern1 = '<[^>]*>'\n",
    "        title = re.sub(pattern=pattern1, repl='', string=str(title))\n",
    "        content = re.sub(pattern=pattern1, repl='', string=content)\n",
    "        pattern2 = \"\"\"[\\n\\n\\n\\n\\n// flash 오류를 우회하기 위한 함수 추가\\nfunction _flash_removeCallback() {}\"\"\"\n",
    "        content = content.replace(pattern2, '')\n",
    "\n",
    "        news_titles.append(title)\n",
    "        news_contents.append(content)\n",
    "\n",
    "        try:\n",
    "            html_date = news_html.select_one(\"div#ct > div.media_end_head > div.media_end_head_info > div span\")\n",
    "            news_date = html_date.attrs['data-date-time']\n",
    "        except AttributeError:\n",
    "            news_date = news_html.select_one(\"#content > div.end_ct > div > div.article_info > span > em\")\n",
    "            news_date = re.sub(pattern=pattern1,repl='',string=str(news_date))\n",
    "        # 날짜 가져오기\n",
    "        news_dates.append(news_date)\n",
    "        # html_date = news_html.select_one(\"div#ct > div.media_end_head > div.media_end_head_info > div span\")\n",
    "        # news_date = html_date.attrs['data-date-time']\n",
    "        # news_dates.append(news_date)\n",
    "    \n",
    "    a = pd.DataFrame({'date':news_dates,'title':news_titles,'content':news_contents})\n",
    "\n",
    "    #중복 행 지우기\n",
    "    a = a.drop_duplicates(keep='first',ignore_index=True)\n",
    "\n",
    "    return a"
   ]
  },
  {
   "cell_type": "code",
   "execution_count": 33,
   "metadata": {},
   "outputs": [],
   "source": [
    "def clean_text(d):\n",
    "  text = re.sub(r'\\([^)]*\\)', '', str(d))\n",
    "  text = re.sub(r'\\[[^]]*\\]', '', text)\n",
    "  text = re.sub(r'\\<[^>]*\\>', '', text)\n",
    "  pattern = r'[^가-힣0-9a-zA-Z\\s]'\n",
    "  text = re.sub(pattern, ' ', text)\n",
    "  text = re.sub(r'사진', ' ', text)\n",
    "  text = re.sub(r'.*뉴스', ' ', text)\n",
    "  text = re.sub(\"\\n\", ' ', text)\n",
    "  text = re.sub(\"  +\", \" \", text)\n",
    "  return text\n",
    "\n",
    "def text_clean(text):\n",
    "  pattern = '([a-zA-Z0-9_.+-]+@[a-zA-Z0-9-]+\\.[a-zA-Z0-9-.]+)' # E-mail제거\n",
    "  text = re.sub(pattern, '', text)\n",
    "  pattern = '(http|ftp|https)://(?:[-\\w.]|(?:%[\\da-fA-F]{2}))+' # URL제거\n",
    "  text = re.sub(pattern, '', text)\n",
    "  pattern = '([ㄱ-ㅎㅏ-ㅣ]+)'  # 한글 자음, 모음 제거\n",
    "  text = re.sub(pattern, '', text)\n",
    "  pattern = '<[^>]*>'         # HTML 태그 제거\n",
    "  text = re.sub(pattern, '', text)\n",
    "  pattern = '[^\\w\\s]'         # 특수기호제거\n",
    "  text = re.sub(pattern, '', text)\n",
    "  pattern = '[\\n]'            # \\n제거\n",
    "  text = re.sub(pattern, '', text)\n",
    "  pattern = '[\\t]'            # \\n제거\n",
    "  text = re.sub(pattern, '', text)\n",
    "  pattern = '[\\']'           \n",
    "  text = re.sub(pattern, '', text)\n",
    "  pattern = '[\\\"]'            \n",
    "  text = re.sub(pattern, '', text)\n",
    "  return text  "
   ]
  },
  {
   "cell_type": "code",
   "execution_count": 34,
   "metadata": {},
   "outputs": [],
   "source": [
    "def to_dbeaver(NewsDate, NewsTitle, NewsContent) :\n",
    "    conn = pymysql.connect(\n",
    "        host='34.64.240.96'\n",
    "        , user='root'\n",
    "        , password='tndusWkd1.'\n",
    "        , db='final_project'\n",
    "        , charset='utf8'\n",
    "    )\n",
    "    cur = conn.cursor()\n",
    "    \n",
    "    for date,title,content in zip(NewsDate, NewsTitle, NewsContent):\n",
    "        sql = \"INSERT INTO past_news_realtime VALUES ({}, {}, {})\".format(\"\\\"\"+date+\"\\\"\", \"\\\"\"+title+\"\\\"\", \"\\\"\"+content+\"\\\"\")\n",
    "        # print(sql)\n",
    "        try :\n",
    "            cur.execute(sql)\n",
    "            conn.commit()\n",
    "            conn.close()\n",
    "        except :\n",
    "            print(\"에러\")\n",
    "            return\n",
    "    # conn.commit()\n",
    "    # conn.close()"
   ]
  },
  {
   "cell_type": "code",
   "execution_count": 35,
   "metadata": {},
   "outputs": [],
   "source": [
    "# # 입력 데이터(문장) 길이 제한\n",
    "# MAX_SEQ_LEN = 64\n",
    "\n",
    "# # token, mask, segment 입력 정의\n",
    "# token_inputs = tf.keras.layers.Input((MAX_SEQ_LEN,), dtype = tf.int32, name = 'input_word_ids')\n",
    "# mask_inputs = tf.keras.layers.Input((MAX_SEQ_LEN,), dtype = tf.int32, name = 'input_masks')\n",
    "# segment_inputs = tf.keras.layers.Input((MAX_SEQ_LEN,), dtype = tf.int32, name = 'input_segment')\n",
    "# bert_outputs = model([token_inputs, mask_inputs, segment_inputs])\n",
    "\n",
    "# bert_output = bert_outputs[0]\n",
    "\n",
    "# import tensorflow as tf\n",
    "# from transformers import BertTokenizer, TFBertForSequenceClassification\n",
    "\n",
    "# # BERT 모델 불러오기\n",
    "# MODEL_NAME = \"klue/bert-base\"\n",
    "# bert_model = TFBertForSequenceClassification.from_pretrained(MODEL_NAME, num_labels=NUM_CLASS, from_pt=True)\n",
    "\n",
    "# # BERT 모델의 입력 텐서 정의\n",
    "# input_ids = tf.keras.layers.Input(shape=(MAX_SEQ_LEN,), dtype=tf.int32, name='input_ids')\n",
    "# attention_mask = tf.keras.layers.Input(shape=(MAX_SEQ_LEN,), dtype=tf.int32, name='attention_mask')\n",
    "# token_type_ids = tf.keras.layers.Input(shape=(MAX_SEQ_LEN,), dtype=tf.int32, name='token_type_ids')\n",
    "\n",
    "# # BERT 모델에 입력 텐서 주입하여 출력 얻기\n",
    "# bert_output = bert_model([input_ids, attention_mask, token_type_ids])[0]\n",
    "\n",
    "\n",
    "# DROPOUT_RATE = 0.5\n",
    "# NUM_CLASS = 3\n",
    "# dropout = tf.keras.layers.Dropout(DROPOUT_RATE)(bert_output)\n",
    "# # Multi-class classification 문제이므로 activation function은 softmax로 설정\n",
    "# sentiment_layer = tf.keras.layers.Dense(NUM_CLASS, activation='softmax', kernel_initializer = tf.keras.initializers.TruncatedNormal(stddev=0.02))(dropout)\n",
    "# sentiment_model = tf.keras.Model([token_inputs, mask_inputs, segment_inputs], sentiment_layer)\n",
    "\n",
    "import tensorflow as tf\n",
    "from transformers import BertTokenizer, TFBertForSequenceClassification\n",
    "\n",
    "# 입력 데이터(문장) 길이 제한\n",
    "MAX_SEQ_LEN = 64\n",
    "\n",
    "# Multi-class classification 문제이므로 클래스 수 설정\n",
    "NUM_CLASS = 3\n",
    "\n",
    "# BERT 모델 불러오기\n",
    "MODEL_NAME = \"klue/bert-base\"\n",
    "bert_model = TFBertForSequenceClassification.from_pretrained(MODEL_NAME, num_labels=NUM_CLASS, from_pt=True)\n",
    "\n",
    "# BERT 모델의 입력 텐서 정의\n",
    "input_ids = tf.keras.layers.Input(shape=(MAX_SEQ_LEN,), dtype=tf.int32, name='input_ids')\n",
    "attention_mask = tf.keras.layers.Input(shape=(MAX_SEQ_LEN,), dtype=tf.int32, name='attention_mask')\n",
    "token_type_ids = tf.keras.layers.Input(shape=(MAX_SEQ_LEN,), dtype=tf.int32, name='token_type_ids')\n",
    "\n",
    "# BERT 모델에 입력 텐서 주입하여 출력 얻기\n",
    "bert_output = bert_model([input_ids, attention_mask, token_type_ids])[0]\n",
    "\n",
    "DROPOUT_RATE = 0.5\n",
    "\n",
    "# Dropout 레이어 추가\n",
    "dropout = tf.keras.layers.Dropout(DROPOUT_RATE)(bert_output)\n",
    "\n",
    "# Multi-class classification 문제이므로 activation function은 softmax로 설정\n",
    "sentiment_layer = tf.keras.layers.Dense(NUM_CLASS, activation='softmax', kernel_initializer=tf.keras.initializers.TruncatedNormal(stddev=0.02))(dropout)\n",
    "\n",
    "# Sentiment 모델 생성\n",
    "sentiment_model = tf.keras.Model(inputs=[input_ids, attention_mask, token_type_ids], outputs=sentiment_layer)\n",
    "\n",
    "# 모델 컴파일\n",
    "sentiment_model.compile(optimizer=tf.keras.optimizers.Adam(learning_rate=2e-5),\n",
    "                        loss=tf.keras.losses.SparseCategoricalCrossentropy(from_logits=False),\n",
    "                        metrics=['accuracy'])\n"
   ]
  },
  {
   "cell_type": "code",
   "execution_count": 36,
   "metadata": {},
   "outputs": [],
   "source": [
    "# 최고 성능의 모델 파일을 저장할 이름과 경로 설정\n",
    "BEST_MODEL_NAME = './best_model.h5'\n",
    "\n",
    "# 최고 성능의 모델 불러오기\n",
    "sentiment_model_best = tf.keras.models.load_model(BEST_MODEL_NAME,\n",
    "                                                  custom_objects={'TFBertForSequenceClassification': TFBertForSequenceClassification})"
   ]
  },
  {
   "cell_type": "code",
   "execution_count": 37,
   "metadata": {},
   "outputs": [
    {
     "name": "stderr",
     "output_type": "stream",
     "text": [
      "100%|██████████| 3/3 [00:00<00:00, 5946.56it/s]\n"
     ]
    },
    {
     "name": "stdout",
     "output_type": "stream",
     "text": [
      "1/1 [==============================] - 4s 4s/step\n",
      "0    0\n",
      "1    0\n",
      "2    0\n",
      "Name: predicted_label, dtype: object\n",
      "Mapped Label: 0.0\n",
      "Mapped Label: 0.0\n",
      "['2023-08-07 12:33:01', '2023-08-07 12:33:05']\n",
      "['0.0', '0.0']\n"
     ]
    },
    {
     "name": "stderr",
     "output_type": "stream",
     "text": [
      "100%|██████████| 3/3 [00:00<00:00, 5960.64it/s]\n"
     ]
    },
    {
     "name": "stdout",
     "output_type": "stream",
     "text": [
      "1/1 [==============================] - 0s 387ms/step\n",
      "0    0\n",
      "1    0\n",
      "2    0\n",
      "Name: predicted_label, dtype: object\n",
      "Mapped Label: 0.0\n",
      "Mapped Label: 0.0\n",
      "['2023-08-07 12:34:00', '2023-08-07 12:34:01']\n",
      "['0.0', '0.0']\n"
     ]
    },
    {
     "name": "stderr",
     "output_type": "stream",
     "text": [
      "100%|██████████| 1/1 [00:00<00:00, 3912.60it/s]\n"
     ]
    },
    {
     "name": "stdout",
     "output_type": "stream",
     "text": [
      "1/1 [==============================] - 0s 308ms/step\n",
      "0    0\n",
      "Name: predicted_label, dtype: object\n",
      "Mapped Label: 0.0\n",
      "['2023-08-07 12:34:06']\n",
      "['0.0']\n"
     ]
    },
    {
     "name": "stderr",
     "output_type": "stream",
     "text": [
      "100%|██████████| 3/3 [00:00<00:00, 6963.43it/s]\n"
     ]
    },
    {
     "name": "stdout",
     "output_type": "stream",
     "text": [
      "1/1 [==============================] - 0s 262ms/step\n",
      "0    0\n",
      "1    0\n",
      "2    0\n",
      "Name: predicted_label, dtype: object\n",
      "Mapped Label: 0.0\n",
      "Mapped Label: 0.0\n",
      "Mapped Label: 0.0\n",
      "['2023-08-07 12:35:05', '2023-08-07 12:35:07', '2023-08-07 12:35:09']\n",
      "['0.0', '0.0', '0.0']\n"
     ]
    },
    {
     "name": "stderr",
     "output_type": "stream",
     "text": [
      "100%|██████████| 2/2 [00:00<00:00, 5548.02it/s]\n"
     ]
    },
    {
     "name": "stdout",
     "output_type": "stream",
     "text": [
      "1/1 [==============================] - 0s 299ms/step\n",
      "0    0\n",
      "1    0\n",
      "Name: predicted_label, dtype: object\n",
      "Mapped Label: 0.0\n",
      "Mapped Label: 0.0\n",
      "['2023-08-07 12:35:14', '2023-08-07 12:35:16']\n",
      "['0.0', '0.0']\n"
     ]
    },
    {
     "name": "stderr",
     "output_type": "stream",
     "text": [
      "100%|██████████| 1/1 [00:00<00:00, 3994.58it/s]\n"
     ]
    },
    {
     "name": "stdout",
     "output_type": "stream",
     "text": [
      "1/1 [==============================] - 0s 156ms/step\n",
      "0    0\n",
      "Name: predicted_label, dtype: object\n",
      "Mapped Label: 0.0\n",
      "['2023-08-07 12:35:18']\n",
      "['0.0']\n"
     ]
    },
    {
     "name": "stderr",
     "output_type": "stream",
     "text": [
      "100%|██████████| 3/3 [00:00<00:00, 6955.73it/s]\n"
     ]
    },
    {
     "name": "stdout",
     "output_type": "stream",
     "text": [
      "1/1 [==============================] - 0s 311ms/step\n",
      "0    0\n",
      "1    0\n",
      "2    0\n",
      "Name: predicted_label, dtype: object\n",
      "Mapped Label: 0.0\n",
      "Mapped Label: 0.0\n",
      "['2023-08-07 12:36:01', '2023-08-07 12:36:02']\n",
      "['0.0', '0.0']\n"
     ]
    },
    {
     "name": "stderr",
     "output_type": "stream",
     "text": [
      "100%|██████████| 3/3 [00:00<00:00, 6413.31it/s]\n"
     ]
    },
    {
     "name": "stdout",
     "output_type": "stream",
     "text": [
      "1/1 [==============================] - 0s 267ms/step\n",
      "0    0\n",
      "1    0\n",
      "2    0\n",
      "Name: predicted_label, dtype: object\n",
      "Mapped Label: 0.0\n",
      "Mapped Label: 0.0\n",
      "['2023-08-07 12:36:32', '2023-08-07 12:37:01']\n",
      "['0.0', '0.0']\n"
     ]
    },
    {
     "name": "stderr",
     "output_type": "stream",
     "text": [
      "100%|██████████| 2/2 [00:00<00:00, 4969.55it/s]\n"
     ]
    },
    {
     "name": "stdout",
     "output_type": "stream",
     "text": [
      "1/1 [==============================] - 0s 239ms/step\n",
      "0    0\n",
      "1    0\n",
      "Name: predicted_label, dtype: object\n",
      "Mapped Label: 0.0\n",
      "Mapped Label: 0.0\n",
      "['2023-08-07 12:37:01', '2023-08-07 12:37:03']\n",
      "['0.0', '0.0']\n"
     ]
    },
    {
     "name": "stderr",
     "output_type": "stream",
     "text": [
      "100%|██████████| 3/3 [00:00<00:00, 6400.26it/s]\n"
     ]
    },
    {
     "name": "stdout",
     "output_type": "stream",
     "text": [
      "1/1 [==============================] - 0s 303ms/step\n",
      "0    0\n",
      "1    0\n",
      "2    0\n",
      "Name: predicted_label, dtype: object\n",
      "Mapped Label: 0.0\n",
      "Mapped Label: 0.0\n",
      "['2023-08-07 12:38:01', '2023-08-07 12:38:05']\n",
      "['0.0', '0.0']\n"
     ]
    },
    {
     "name": "stderr",
     "output_type": "stream",
     "text": [
      "100%|██████████| 1/1 [00:00<00:00, 4514.86it/s]"
     ]
    },
    {
     "name": "stdout",
     "output_type": "stream",
     "text": [
      "1/1 [==============================] - 0s 150ms/step\n"
     ]
    },
    {
     "name": "stderr",
     "output_type": "stream",
     "text": [
      "\n"
     ]
    },
    {
     "name": "stdout",
     "output_type": "stream",
     "text": [
      "0    0\n",
      "Name: predicted_label, dtype: object\n",
      "Mapped Label: 0.0\n",
      "['2023-08-07 12:38:07']\n",
      "['0.0']\n"
     ]
    },
    {
     "name": "stderr",
     "output_type": "stream",
     "text": [
      "100%|██████████| 3/3 [00:00<00:00, 5421.33it/s]\n"
     ]
    },
    {
     "name": "stdout",
     "output_type": "stream",
     "text": [
      "1/1 [==============================] - 0s 373ms/step\n",
      "0    0\n",
      "1    0\n",
      "2    0\n",
      "Name: predicted_label, dtype: object\n",
      "Mapped Label: 0.0\n",
      "Mapped Label: 0.0\n",
      "Mapped Label: 0.0\n",
      "['2023-08-07 12:38:42', '2023-08-07 12:39:00', '2023-08-07 12:39:01']\n",
      "['0.0', '0.0', '0.0']\n"
     ]
    },
    {
     "name": "stderr",
     "output_type": "stream",
     "text": [
      "100%|██████████| 1/1 [00:00<00:00, 3209.11it/s]"
     ]
    },
    {
     "name": "stdout",
     "output_type": "stream",
     "text": [
      "1/1 [==============================] - 0s 141ms/step\n"
     ]
    },
    {
     "name": "stderr",
     "output_type": "stream",
     "text": [
      "\n"
     ]
    },
    {
     "name": "stdout",
     "output_type": "stream",
     "text": [
      "0    0\n",
      "Name: predicted_label, dtype: object\n",
      "Mapped Label: 0.0\n",
      "['2023-08-07 12:39:05']\n",
      "['0.0']\n"
     ]
    },
    {
     "name": "stderr",
     "output_type": "stream",
     "text": [
      "100%|██████████| 3/3 [00:00<00:00, 4967.59it/s]\n"
     ]
    },
    {
     "name": "stdout",
     "output_type": "stream",
     "text": [
      "1/1 [==============================] - 0s 355ms/step\n",
      "0    0\n",
      "1    0\n",
      "2    0\n",
      "Name: predicted_label, dtype: object\n",
      "Mapped Label: 0.0\n",
      "Mapped Label: 0.0\n",
      "['2023-08-07 12:40:01', '2023-08-07 12:40:04']\n",
      "['0.0', '0.0']\n"
     ]
    },
    {
     "name": "stderr",
     "output_type": "stream",
     "text": [
      "100%|██████████| 3/3 [00:00<00:00, 6587.91it/s]\n"
     ]
    },
    {
     "name": "stdout",
     "output_type": "stream",
     "text": [
      "1/1 [==============================] - 0s 299ms/step\n",
      "0    0\n",
      "1    0\n",
      "2    0\n",
      "Name: predicted_label, dtype: object\n",
      "Mapped Label: 0.0\n",
      "['2023-08-07 12:41:01']\n",
      "['0.0']\n"
     ]
    },
    {
     "name": "stderr",
     "output_type": "stream",
     "text": [
      "100%|██████████| 3/3 [00:00<00:00, 5494.72it/s]\n"
     ]
    },
    {
     "name": "stdout",
     "output_type": "stream",
     "text": [
      "1/1 [==============================] - 0s 243ms/step\n",
      "0    0\n",
      "1    0\n",
      "2    0\n",
      "Name: predicted_label, dtype: object\n",
      "Mapped Label: 0.0\n",
      "Mapped Label: 0.0\n",
      "['2023-08-07 12:42:04', '2023-08-07 12:42:06']\n",
      "['0.0', '0.0']\n"
     ]
    },
    {
     "name": "stderr",
     "output_type": "stream",
     "text": [
      "100%|██████████| 2/2 [00:00<00:00, 4750.06it/s]\n"
     ]
    },
    {
     "name": "stdout",
     "output_type": "stream",
     "text": [
      "1/1 [==============================] - 0s 286ms/step\n",
      "0    0\n",
      "1    0\n",
      "Name: predicted_label, dtype: object\n",
      "Mapped Label: 0.0\n",
      "Mapped Label: 0.0\n",
      "['2023-08-07 12:42:08', '2023-08-07 12:42:10']\n",
      "['0.0', '0.0']\n"
     ]
    },
    {
     "name": "stderr",
     "output_type": "stream",
     "text": [
      "100%|██████████| 3/3 [00:00<00:00, 6834.82it/s]\n"
     ]
    },
    {
     "name": "stdout",
     "output_type": "stream",
     "text": [
      "1/1 [==============================] - 0s 299ms/step\n",
      "0    0\n",
      "1    0\n",
      "2    0\n",
      "Name: predicted_label, dtype: object\n",
      "Mapped Label: 0.0\n",
      "['2023-08-07 12:43:01']\n",
      "['0.0']\n"
     ]
    },
    {
     "name": "stderr",
     "output_type": "stream",
     "text": [
      "100%|██████████| 3/3 [00:00<00:00, 6827.41it/s]\n"
     ]
    },
    {
     "name": "stdout",
     "output_type": "stream",
     "text": [
      "1/1 [==============================] - 0s 320ms/step\n",
      "0    0\n",
      "1    0\n",
      "2    0\n",
      "Name: predicted_label, dtype: object\n",
      "Mapped Label: 0.0\n",
      "Mapped Label: 0.0\n",
      "Mapped Label: 0.0\n",
      "['2023-08-07 12:43:04', '2023-08-07 12:43:37', '2023-08-07 12:44:01']\n",
      "['0.0', '0.0', '0.0']\n"
     ]
    },
    {
     "name": "stderr",
     "output_type": "stream",
     "text": [
      "100%|██████████| 3/3 [00:00<00:00, 6345.39it/s]\n"
     ]
    },
    {
     "name": "stdout",
     "output_type": "stream",
     "text": [
      "1/1 [==============================] - 0s 266ms/step\n",
      "0    0\n",
      "1    0\n",
      "2    0\n",
      "Name: predicted_label, dtype: object\n",
      "Mapped Label: 0.0\n",
      "Mapped Label: 0.0\n",
      "['2023-08-07 12:44:03', '2023-08-07 12:44:05']\n",
      "['0.0', '0.0']\n"
     ]
    },
    {
     "name": "stderr",
     "output_type": "stream",
     "text": [
      "100%|██████████| 2/2 [00:00<00:00, 4990.25it/s]\n"
     ]
    },
    {
     "name": "stdout",
     "output_type": "stream",
     "text": [
      "1/1 [==============================] - 0s 279ms/step\n",
      "0    0\n",
      "1    0\n",
      "Name: predicted_label, dtype: object\n",
      "Mapped Label: 0.0\n",
      "['2023-08-07 12:45:01']\n",
      "['0.0']\n"
     ]
    },
    {
     "name": "stderr",
     "output_type": "stream",
     "text": [
      "100%|██████████| 3/3 [00:00<00:00, 5433.04it/s]\n"
     ]
    },
    {
     "name": "stdout",
     "output_type": "stream",
     "text": [
      "1/1 [==============================] - 0s 282ms/step\n",
      "0    0\n",
      "1    0\n",
      "2    0\n",
      "Name: predicted_label, dtype: object\n",
      "Mapped Label: 0.0\n",
      "Mapped Label: 0.0\n",
      "Mapped Label: 0.0\n",
      "['2023-08-07 12:46:01', '2023-08-07 12:46:05', '2023-08-07 12:46:07']\n",
      "['0.0', '0.0', '0.0']\n"
     ]
    },
    {
     "name": "stderr",
     "output_type": "stream",
     "text": [
      "100%|██████████| 3/3 [00:00<00:00, 6754.11it/s]\n"
     ]
    },
    {
     "name": "stdout",
     "output_type": "stream",
     "text": [
      "1/1 [==============================] - 0s 295ms/step\n",
      "0    0\n",
      "1    0\n",
      "2    0\n",
      "Name: predicted_label, dtype: object\n",
      "Mapped Label: 0.0\n",
      "Mapped Label: 0.0\n",
      "Mapped Label: 0.0\n",
      "['2023-08-07 12:46:22', '2023-08-07 12:46:52', '2023-08-07 12:47:03']\n",
      "['0.0', '0.0', '0.0']\n"
     ]
    },
    {
     "name": "stderr",
     "output_type": "stream",
     "text": [
      "100%|██████████| 3/3 [00:00<00:00, 7449.92it/s]\n"
     ]
    },
    {
     "name": "stdout",
     "output_type": "stream",
     "text": [
      "1/1 [==============================] - 0s 280ms/step\n",
      "0    0\n",
      "1    0\n",
      "2    0\n",
      "Name: predicted_label, dtype: object\n",
      "Mapped Label: 0.0\n",
      "Mapped Label: 0.0\n",
      "Mapped Label: 0.0\n",
      "['2023-08-07 12:48:03', '2023-08-07 12:48:05', '2023-08-07 12:48:07']\n",
      "['0.0', '0.0', '0.0']\n"
     ]
    },
    {
     "name": "stderr",
     "output_type": "stream",
     "text": [
      "100%|██████████| 3/3 [00:00<00:00, 6117.12it/s]\n"
     ]
    },
    {
     "name": "stdout",
     "output_type": "stream",
     "text": [
      "1/1 [==============================] - 0s 341ms/step\n",
      "0    0\n",
      "1    0\n",
      "2    0\n",
      "Name: predicted_label, dtype: object\n",
      "Mapped Label: 0.0\n",
      "Mapped Label: 0.0\n",
      "Mapped Label: 0.0\n",
      "['2023-08-07 12:49:03', '2023-08-07 12:49:05', '2023-08-07 12:49:07']\n",
      "['0.0', '0.0', '0.0']\n"
     ]
    },
    {
     "name": "stderr",
     "output_type": "stream",
     "text": [
      "100%|██████████| 3/3 [00:00<00:00, 7397.36it/s]\n"
     ]
    },
    {
     "name": "stdout",
     "output_type": "stream",
     "text": [
      "1/1 [==============================] - 0s 304ms/step\n",
      "0    0\n",
      "1    0\n",
      "2    0\n",
      "Name: predicted_label, dtype: object\n",
      "Mapped Label: 0.0\n",
      "Mapped Label: 0.0\n",
      "Mapped Label: 0.0\n",
      "['2023-08-07 12:49:10', '2023-08-07 12:49:12', '2023-08-07 12:49:14']\n",
      "['0.0', '0.0', '0.0']\n"
     ]
    },
    {
     "name": "stderr",
     "output_type": "stream",
     "text": [
      "100%|██████████| 2/2 [00:00<00:00, 5038.20it/s]\n"
     ]
    },
    {
     "name": "stdout",
     "output_type": "stream",
     "text": [
      "1/1 [==============================] - 0s 266ms/step\n",
      "0    0\n",
      "1    0\n",
      "Name: predicted_label, dtype: object\n",
      "Mapped Label: 0.0\n",
      "Mapped Label: 0.0\n",
      "['2023-08-07 12:49:16', '2023-08-07 12:49:18']\n",
      "['0.0', '0.0']\n"
     ]
    },
    {
     "name": "stderr",
     "output_type": "stream",
     "text": [
      "100%|██████████| 3/3 [00:00<00:00, 5516.40it/s]\n"
     ]
    },
    {
     "name": "stdout",
     "output_type": "stream",
     "text": [
      "1/1 [==============================] - 0s 262ms/step\n",
      "0    0\n",
      "1    0\n",
      "2    0\n",
      "Name: predicted_label, dtype: object\n",
      "Mapped Label: 0.0\n",
      "Mapped Label: 0.0\n",
      "Mapped Label: 0.0\n",
      "['2023-08-07 12:50:02', '2023-08-07 12:50:04', '2023-08-07 12:50:05']\n",
      "['0.0', '0.0', '0.0']\n"
     ]
    },
    {
     "name": "stderr",
     "output_type": "stream",
     "text": [
      "100%|██████████| 3/3 [00:00<00:00, 3741.57it/s]\n"
     ]
    },
    {
     "name": "stdout",
     "output_type": "stream",
     "text": [
      "1/1 [==============================] - 0s 331ms/step\n",
      "0    0\n",
      "1    0\n",
      "2    0\n",
      "Name: predicted_label, dtype: object\n",
      "Mapped Label: 0.0\n",
      "Mapped Label: 0.0\n",
      "['2023-08-07 12:51:01', '2023-08-07 12:51:04']\n",
      "['0.0', '0.0']\n"
     ]
    },
    {
     "name": "stderr",
     "output_type": "stream",
     "text": [
      "100%|██████████| 3/3 [00:00<00:00, 6469.36it/s]\n"
     ]
    },
    {
     "name": "stdout",
     "output_type": "stream",
     "text": [
      "1/1 [==============================] - 0s 268ms/step\n",
      "0    0\n",
      "1    0\n",
      "2    0\n",
      "Name: predicted_label, dtype: object\n",
      "Mapped Label: 0.0\n",
      "Mapped Label: 0.0\n",
      "Mapped Label: 0.0\n",
      "['2023-08-07 12:52:01', '2023-08-07 12:52:02', '2023-08-07 12:52:05']\n",
      "['0.0', '0.0', '0.0']\n"
     ]
    },
    {
     "name": "stderr",
     "output_type": "stream",
     "text": [
      "100%|██████████| 3/3 [00:00<00:00, 4276.99it/s]\n"
     ]
    },
    {
     "name": "stdout",
     "output_type": "stream",
     "text": [
      "1/1 [==============================] - 0s 266ms/step\n",
      "0    0\n",
      "1    0\n",
      "2    0\n",
      "Name: predicted_label, dtype: object\n",
      "Mapped Label: 0.0\n",
      "Mapped Label: 0.0\n",
      "['2023-08-07 12:53:02', '2023-08-07 12:53:06']\n",
      "['0.0', '0.0']\n"
     ]
    },
    {
     "name": "stderr",
     "output_type": "stream",
     "text": [
      "100%|██████████| 3/3 [00:00<00:00, 5273.64it/s]\n"
     ]
    },
    {
     "name": "stdout",
     "output_type": "stream",
     "text": [
      "1/1 [==============================] - 0s 326ms/step\n",
      "0    0\n",
      "1    0\n",
      "2    0\n",
      "Name: predicted_label, dtype: object\n",
      "Mapped Label: 0.0\n",
      "Mapped Label: 0.0\n",
      "['2023-08-07 12:54:03', '2023-08-07 12:54:06']\n",
      "['0.0', '0.0']\n"
     ]
    },
    {
     "name": "stderr",
     "output_type": "stream",
     "text": [
      "100%|██████████| 3/3 [00:00<00:00, 5513.98it/s]\n"
     ]
    },
    {
     "name": "stdout",
     "output_type": "stream",
     "text": [
      "1/1 [==============================] - 0s 318ms/step\n",
      "0    0\n",
      "1    0\n",
      "2    0\n",
      "Name: predicted_label, dtype: object\n",
      "Mapped Label: 0.0\n",
      "Mapped Label: 0.0\n",
      "Mapped Label: 0.0\n",
      "['2023-08-07 12:55:01', '2023-08-07 12:55:05', '2023-08-07 12:55:07']\n",
      "['0.0', '0.0', '0.0']\n"
     ]
    },
    {
     "name": "stderr",
     "output_type": "stream",
     "text": [
      "100%|██████████| 2/2 [00:00<00:00, 4728.64it/s]\n"
     ]
    },
    {
     "name": "stdout",
     "output_type": "stream",
     "text": [
      "1/1 [==============================] - 0s 296ms/step\n",
      "0    0\n",
      "1    0\n",
      "Name: predicted_label, dtype: object\n",
      "Mapped Label: 0.0\n",
      "Mapped Label: 0.0\n",
      "['2023-08-07 12:55:08', '2023-08-07 12:55:09']\n",
      "['0.0', '0.0']\n"
     ]
    },
    {
     "name": "stderr",
     "output_type": "stream",
     "text": [
      "100%|██████████| 2/2 [00:00<00:00, 5422.50it/s]\n"
     ]
    },
    {
     "name": "stdout",
     "output_type": "stream",
     "text": [
      "1/1 [==============================] - 0s 285ms/step\n",
      "0    0\n",
      "1    0\n",
      "Name: predicted_label, dtype: object\n",
      "Mapped Label: 0.0\n",
      "['2023-08-07 12:56:01']\n",
      "['0.0']\n"
     ]
    },
    {
     "name": "stderr",
     "output_type": "stream",
     "text": [
      "100%|██████████| 3/3 [00:00<00:00, 6509.53it/s]\n"
     ]
    },
    {
     "name": "stdout",
     "output_type": "stream",
     "text": [
      "1/1 [==============================] - 0s 296ms/step\n",
      "0    0\n",
      "1    0\n",
      "2    0\n",
      "Name: predicted_label, dtype: object\n",
      "Mapped Label: 0.0\n",
      "Mapped Label: 0.0\n",
      "Mapped Label: 0.0\n",
      "['2023-08-07 12:56:04', '2023-08-07 12:56:06', '2023-08-07 12:56:07']\n",
      "['0.0', '0.0', '0.0']\n"
     ]
    },
    {
     "name": "stderr",
     "output_type": "stream",
     "text": [
      "100%|██████████| 3/3 [00:00<00:00, 6879.67it/s]\n"
     ]
    },
    {
     "name": "stdout",
     "output_type": "stream",
     "text": [
      "1/1 [==============================] - 0s 289ms/step\n",
      "0    0\n",
      "1    0\n",
      "2    0\n",
      "Name: predicted_label, dtype: object\n",
      "Mapped Label: 0.0\n",
      "Mapped Label: 0.0\n",
      "['2023-08-07 12:57:06', '2023-08-07 12:57:08']\n",
      "['0.0', '0.0']\n"
     ]
    },
    {
     "name": "stderr",
     "output_type": "stream",
     "text": [
      "100%|██████████| 3/3 [00:00<00:00, 7686.57it/s]\n"
     ]
    },
    {
     "name": "stdout",
     "output_type": "stream",
     "text": [
      "1/1 [==============================] - 0s 283ms/step\n",
      "0    0\n",
      "1    0\n",
      "2    0\n",
      "Name: predicted_label, dtype: object\n",
      "Mapped Label: 0.0\n",
      "Mapped Label: 0.0\n",
      "Mapped Label: 0.0\n",
      "['2023-08-07 12:57:10', '2023-08-07 12:57:12', '2023-08-07 12:57:14']\n",
      "['0.0', '0.0', '0.0']\n"
     ]
    },
    {
     "name": "stderr",
     "output_type": "stream",
     "text": [
      "100%|██████████| 3/3 [00:00<00:00, 6210.72it/s]\n"
     ]
    },
    {
     "name": "stdout",
     "output_type": "stream",
     "text": [
      "1/1 [==============================] - 0s 262ms/step\n",
      "0    0\n",
      "1    0\n",
      "2    0\n",
      "Name: predicted_label, dtype: object\n",
      "Mapped Label: 0.0\n",
      "Mapped Label: 0.0\n",
      "Mapped Label: 0.0\n",
      "['2023-08-07 12:57:17', '2023-08-07 12:57:19', '2023-08-07 12:57:21']\n",
      "['0.0', '0.0', '0.0']\n"
     ]
    },
    {
     "name": "stderr",
     "output_type": "stream",
     "text": [
      "100%|██████████| 1/1 [00:00<00:00, 3813.00it/s]\n"
     ]
    },
    {
     "name": "stdout",
     "output_type": "stream",
     "text": [
      "1/1 [==============================] - 0s 162ms/step\n",
      "0    0\n",
      "Name: predicted_label, dtype: object\n",
      "Mapped Label: 0.0\n",
      "['2023-08-07 12:57:23']\n",
      "['0.0']\n"
     ]
    },
    {
     "name": "stderr",
     "output_type": "stream",
     "text": [
      "100%|██████████| 3/3 [00:00<00:00, 6436.27it/s]\n"
     ]
    },
    {
     "name": "stdout",
     "output_type": "stream",
     "text": [
      "1/1 [==============================] - 0s 230ms/step\n",
      "0    0\n",
      "1    0\n",
      "2    0\n",
      "Name: predicted_label, dtype: object\n",
      "Mapped Label: 0.0\n",
      "['2023-08-07 12:58:04']\n",
      "['0.0']\n"
     ]
    },
    {
     "name": "stderr",
     "output_type": "stream",
     "text": [
      "100%|██████████| 3/3 [00:00<00:00, 4051.16it/s]\n"
     ]
    },
    {
     "name": "stdout",
     "output_type": "stream",
     "text": [
      "1/1 [==============================] - 0s 302ms/step\n",
      "0    0\n",
      "1    0\n",
      "2    0\n",
      "Name: predicted_label, dtype: object\n",
      "Mapped Label: 0.0\n",
      "Mapped Label: 0.0\n",
      "Mapped Label: 0.0\n",
      "['2023-08-07 12:58:06', '2023-08-07 12:58:08', '2023-08-07 12:58:10']\n",
      "['0.0', '0.0', '0.0']\n"
     ]
    },
    {
     "name": "stderr",
     "output_type": "stream",
     "text": [
      "100%|██████████| 3/3 [00:00<00:00, 7177.93it/s]\n"
     ]
    },
    {
     "name": "stdout",
     "output_type": "stream",
     "text": [
      "1/1 [==============================] - 0s 299ms/step\n",
      "0    0\n",
      "1    0\n",
      "2    0\n",
      "Name: predicted_label, dtype: object\n",
      "Mapped Label: 0.0\n",
      "['2023-08-07 12:59:01']\n",
      "['0.0']\n"
     ]
    },
    {
     "name": "stderr",
     "output_type": "stream",
     "text": [
      "100%|██████████| 3/3 [00:00<00:00, 5216.80it/s]\n"
     ]
    },
    {
     "name": "stdout",
     "output_type": "stream",
     "text": [
      "1/1 [==============================] - 0s 330ms/step\n",
      "0    0\n",
      "1    0\n",
      "2    0\n",
      "Name: predicted_label, dtype: object\n",
      "Mapped Label: 0.0\n",
      "Mapped Label: 0.0\n",
      "Mapped Label: 0.0\n",
      "['2023-08-07 12:59:02', '2023-08-07 12:59:04', '2023-08-07 12:59:05']\n",
      "['0.0', '0.0', '0.0']\n"
     ]
    },
    {
     "name": "stderr",
     "output_type": "stream",
     "text": [
      "100%|██████████| 3/3 [00:00<00:00, 7037.42it/s]\n"
     ]
    },
    {
     "name": "stdout",
     "output_type": "stream",
     "text": [
      "1/1 [==============================] - 0s 277ms/step\n",
      "0    0\n",
      "1    0\n",
      "2    0\n",
      "Name: predicted_label, dtype: object\n",
      "Mapped Label: 0.0\n",
      "Mapped Label: 0.0\n",
      "Mapped Label: 0.0\n",
      "['2023-08-07 13:00:05', '2023-08-07 13:00:06', '2023-08-07 13:00:08']\n",
      "['0.0', '0.0', '0.0']\n"
     ]
    },
    {
     "name": "stderr",
     "output_type": "stream",
     "text": [
      "100%|██████████| 3/3 [00:00<00:00, 7277.57it/s]\n"
     ]
    },
    {
     "name": "stdout",
     "output_type": "stream",
     "text": [
      "1/1 [==============================] - 0s 338ms/step\n",
      "0    0\n",
      "1    0\n",
      "2    0\n",
      "Name: predicted_label, dtype: object\n",
      "Mapped Label: 0.0\n",
      "Mapped Label: 0.0\n",
      "Mapped Label: 0.0\n",
      "['2023-08-07 13:01:01', '2023-08-07 13:01:02', '2023-08-07 13:01:03']\n",
      "['0.0', '0.0', '0.0']\n"
     ]
    },
    {
     "name": "stderr",
     "output_type": "stream",
     "text": [
      "100%|██████████| 3/3 [00:00<00:00, 5779.93it/s]\n"
     ]
    },
    {
     "name": "stdout",
     "output_type": "stream",
     "text": [
      "1/1 [==============================] - 0s 307ms/step\n",
      "0    0\n",
      "1    0\n",
      "2    0\n",
      "Name: predicted_label, dtype: object\n",
      "Mapped Label: 0.0\n",
      "Mapped Label: 0.0\n",
      "['2023-08-07 13:02:01', '2023-08-07 13:02:03']\n",
      "['0.0', '0.0']\n"
     ]
    },
    {
     "name": "stderr",
     "output_type": "stream",
     "text": [
      "100%|██████████| 3/3 [00:00<00:00, 7161.59it/s]\n"
     ]
    },
    {
     "name": "stdout",
     "output_type": "stream",
     "text": [
      "1/1 [==============================] - 0s 284ms/step\n",
      "0    0\n",
      "1    0\n",
      "2    0\n",
      "Name: predicted_label, dtype: object\n",
      "Mapped Label: 0.0\n",
      "Mapped Label: 0.0\n",
      "['2023-08-07 13:03:03', '2023-08-07 13:03:05']\n",
      "['0.0', '0.0']\n"
     ]
    },
    {
     "name": "stderr",
     "output_type": "stream",
     "text": [
      "100%|██████████| 2/2 [00:00<00:00, 4934.48it/s]\n"
     ]
    },
    {
     "name": "stdout",
     "output_type": "stream",
     "text": [
      "1/1 [==============================] - 0s 232ms/step\n",
      "0    0\n",
      "1    0\n",
      "Name: predicted_label, dtype: object\n",
      "Mapped Label: 0.0\n",
      "Mapped Label: 0.0\n",
      "['2023-08-07 13:03:08', '2023-08-07 13:03:10']\n",
      "['0.0', '0.0']\n"
     ]
    },
    {
     "name": "stderr",
     "output_type": "stream",
     "text": [
      "100%|██████████| 2/2 [00:00<00:00, 6150.01it/s]\n"
     ]
    },
    {
     "name": "stdout",
     "output_type": "stream",
     "text": [
      "1/1 [==============================] - 0s 243ms/step\n",
      "0    0\n",
      "1    0\n",
      "Name: predicted_label, dtype: object\n",
      "Mapped Label: 0.0\n",
      "Mapped Label: 0.0\n",
      "['2023-08-07 13:03:12', '2023-08-07 13:03:14']\n",
      "['0.0', '0.0']\n"
     ]
    },
    {
     "name": "stderr",
     "output_type": "stream",
     "text": [
      "100%|██████████| 3/3 [00:00<00:00, 5830.82it/s]\n"
     ]
    },
    {
     "name": "stdout",
     "output_type": "stream",
     "text": [
      "1/1 [==============================] - 0s 300ms/step\n",
      "0    0\n",
      "1    0\n",
      "2    0\n",
      "Name: predicted_label, dtype: object\n",
      "Mapped Label: 0.0\n",
      "['2023-08-07 13:04:03']\n",
      "['0.0']\n"
     ]
    },
    {
     "name": "stderr",
     "output_type": "stream",
     "text": [
      "100%|██████████| 2/2 [00:00<00:00, 5633.72it/s]\n"
     ]
    },
    {
     "name": "stdout",
     "output_type": "stream",
     "text": [
      "1/1 [==============================] - 0s 272ms/step\n",
      "0    0\n",
      "2    0\n",
      "Name: predicted_label, dtype: object\n",
      "Mapped Label: 0.0\n",
      "Mapped Label: 0.0\n",
      "['2023-08-07 13:05:03', '2023-08-07 13:05:07']\n",
      "['0.0', '0.0']\n"
     ]
    },
    {
     "name": "stderr",
     "output_type": "stream",
     "text": [
      "100%|██████████| 3/3 [00:00<00:00, 6426.41it/s]\n"
     ]
    },
    {
     "name": "stdout",
     "output_type": "stream",
     "text": [
      "1/1 [==============================] - 0s 361ms/step\n",
      "0    0\n",
      "1    0\n",
      "2    0\n",
      "Name: predicted_label, dtype: object\n",
      "Mapped Label: 0.0\n",
      "Mapped Label: 0.0\n",
      "Mapped Label: 0.0\n",
      "['2023-08-07 13:06:03', '2023-08-07 13:06:05', '2023-08-07 13:06:06']\n",
      "['0.0', '0.0', '0.0']\n"
     ]
    },
    {
     "name": "stderr",
     "output_type": "stream",
     "text": [
      "100%|██████████| 2/2 [00:00<00:00, 4891.32it/s]\n"
     ]
    },
    {
     "name": "stdout",
     "output_type": "stream",
     "text": [
      "1/1 [==============================] - 0s 199ms/step\n",
      "0    0\n",
      "1    0\n",
      "Name: predicted_label, dtype: object\n",
      "Mapped Label: 0.0\n",
      "Mapped Label: 0.0\n",
      "['2023-08-07 13:07:03', '2023-08-07 13:07:05']\n",
      "['0.0', '0.0']\n"
     ]
    },
    {
     "name": "stderr",
     "output_type": "stream",
     "text": [
      "100%|██████████| 3/3 [00:00<00:00, 5444.79it/s]\n"
     ]
    },
    {
     "name": "stdout",
     "output_type": "stream",
     "text": [
      "1/1 [==============================] - 0s 331ms/step\n",
      "0    0\n",
      "1    0\n",
      "2    0\n",
      "Name: predicted_label, dtype: object\n",
      "Mapped Label: 0.0\n",
      "Mapped Label: 0.0\n",
      "Mapped Label: 0.0\n",
      "['2023-08-07 13:07:07', '2023-08-07 13:07:09', '2023-08-07 13:07:11']\n",
      "['0.0', '0.0', '0.0']\n"
     ]
    },
    {
     "name": "stderr",
     "output_type": "stream",
     "text": [
      "100%|██████████| 3/3 [00:00<00:00, 6783.24it/s]\n"
     ]
    },
    {
     "name": "stdout",
     "output_type": "stream",
     "text": [
      "1/1 [==============================] - 0s 297ms/step\n",
      "0    0\n",
      "1    0\n",
      "2    0\n",
      "Name: predicted_label, dtype: object\n",
      "Mapped Label: 0.0\n",
      "Mapped Label: 0.0\n",
      "Mapped Label: 0.0\n",
      "['2023-08-07 13:07:14', '2023-08-07 13:07:16', '2023-08-07 13:07:18']\n",
      "['0.0', '0.0', '0.0']\n"
     ]
    },
    {
     "name": "stderr",
     "output_type": "stream",
     "text": [
      "100%|██████████| 3/3 [00:00<00:00, 6883.43it/s]\n"
     ]
    },
    {
     "name": "stdout",
     "output_type": "stream",
     "text": [
      "1/1 [==============================] - 0s 257ms/step\n",
      "0    0\n",
      "1    0\n",
      "2    0\n",
      "Name: predicted_label, dtype: object\n",
      "Mapped Label: 0.0\n",
      "Mapped Label: 0.0\n",
      "['2023-08-07 13:08:02', '2023-08-07 13:08:05']\n",
      "['0.0', '0.0']\n"
     ]
    },
    {
     "name": "stderr",
     "output_type": "stream",
     "text": [
      "100%|██████████| 3/3 [00:00<00:00, 6994.39it/s]\n"
     ]
    },
    {
     "name": "stdout",
     "output_type": "stream",
     "text": [
      "1/1 [==============================] - 0s 345ms/step\n",
      "0    0\n",
      "1    0\n",
      "2    0\n",
      "Name: predicted_label, dtype: object\n",
      "Mapped Label: 0.0\n",
      "Mapped Label: 0.0\n",
      "Mapped Label: 0.0\n",
      "['2023-08-07 13:08:10', '2023-08-07 13:08:11', '2023-08-07 13:08:12']\n",
      "['0.0', '0.0', '0.0']\n"
     ]
    },
    {
     "name": "stderr",
     "output_type": "stream",
     "text": [
      "100%|██████████| 1/1 [00:00<00:00, 3548.48it/s]"
     ]
    },
    {
     "name": "stdout",
     "output_type": "stream",
     "text": [
      "1/1 [==============================] - 0s 151ms/step\n"
     ]
    },
    {
     "name": "stderr",
     "output_type": "stream",
     "text": [
      "\n"
     ]
    },
    {
     "name": "stdout",
     "output_type": "stream",
     "text": [
      "0    0\n",
      "Name: predicted_label, dtype: object\n",
      "Mapped Label: 0.0\n",
      "['2023-08-07 13:08:12']\n",
      "['0.0']\n"
     ]
    },
    {
     "name": "stderr",
     "output_type": "stream",
     "text": [
      "100%|██████████| 3/3 [00:00<00:00, 5910.25it/s]\n"
     ]
    },
    {
     "name": "stdout",
     "output_type": "stream",
     "text": [
      "1/1 [==============================] - 0s 470ms/step\n",
      "0    0\n",
      "1    0\n",
      "2    0\n",
      "Name: predicted_label, dtype: object\n",
      "Mapped Label: 0.0\n",
      "Mapped Label: 0.0\n",
      "Mapped Label: 0.0\n",
      "['2023-08-07 13:09:03', '2023-08-07 13:09:04', '2023-08-07 13:09:07']\n",
      "['0.0', '0.0', '0.0']\n"
     ]
    },
    {
     "name": "stderr",
     "output_type": "stream",
     "text": [
      "100%|██████████| 3/3 [00:00<00:00, 7100.97it/s]\n"
     ]
    },
    {
     "name": "stdout",
     "output_type": "stream",
     "text": [
      "1/1 [==============================] - 0s 364ms/step\n",
      "0    0\n",
      "1    0\n",
      "2    0\n",
      "Name: predicted_label, dtype: object\n",
      "Mapped Label: 0.0\n",
      "Mapped Label: 0.0\n",
      "['2023-08-07 13:10:01', '2023-08-07 13:10:03']\n",
      "['0.0', '0.0']\n"
     ]
    },
    {
     "name": "stderr",
     "output_type": "stream",
     "text": [
      "100%|██████████| 3/3 [00:00<00:00, 7186.13it/s]\n"
     ]
    },
    {
     "name": "stdout",
     "output_type": "stream",
     "text": [
      "1/1 [==============================] - 0s 352ms/step\n",
      "0    0\n",
      "1    0\n",
      "2    0\n",
      "Name: predicted_label, dtype: object\n",
      "Mapped Label: 0.0\n",
      "Mapped Label: 0.0\n",
      "Mapped Label: 0.0\n",
      "['2023-08-07 13:11:03', '2023-08-07 13:11:04', '2023-08-07 13:11:06']\n",
      "['0.0', '0.0', '0.0']\n"
     ]
    },
    {
     "name": "stderr",
     "output_type": "stream",
     "text": [
      "100%|██████████| 2/2 [00:00<00:00, 6069.90it/s]\n"
     ]
    },
    {
     "name": "stdout",
     "output_type": "stream",
     "text": [
      "1/1 [==============================] - 0s 220ms/step\n",
      "0    0\n",
      "1    0\n",
      "Name: predicted_label, dtype: object\n",
      "Mapped Label: 0.0\n",
      "Mapped Label: 0.0\n",
      "['2023-08-07 13:11:08', '2023-08-07 13:11:09']\n",
      "['0.0', '0.0']\n"
     ]
    },
    {
     "name": "stderr",
     "output_type": "stream",
     "text": [
      "100%|██████████| 3/3 [00:00<00:00, 4739.33it/s]\n"
     ]
    },
    {
     "name": "stdout",
     "output_type": "stream",
     "text": [
      "1/1 [==============================] - 0s 295ms/step\n",
      "0    0\n",
      "1    0\n",
      "2    0\n",
      "Name: predicted_label, dtype: object\n",
      "Mapped Label: 0.0\n",
      "['2023-08-07 13:12:01']\n",
      "['0.0']\n"
     ]
    },
    {
     "name": "stderr",
     "output_type": "stream",
     "text": [
      "100%|██████████| 1/1 [00:00<00:00, 4206.92it/s]\n"
     ]
    },
    {
     "name": "stdout",
     "output_type": "stream",
     "text": [
      "1/1 [==============================] - 0s 204ms/step\n",
      "0    0\n",
      "Name: predicted_label, dtype: object\n",
      "Mapped Label: 0.0\n",
      "['2023-08-07 13:12:03']\n",
      "['0.0']\n"
     ]
    },
    {
     "name": "stderr",
     "output_type": "stream",
     "text": [
      "100%|██████████| 3/3 [00:00<00:00, 6902.31it/s]\n"
     ]
    },
    {
     "name": "stdout",
     "output_type": "stream",
     "text": [
      "1/1 [==============================] - 0s 295ms/step\n",
      "0    0\n",
      "1    0\n",
      "2    0\n",
      "Name: predicted_label, dtype: object\n",
      "Mapped Label: 0.0\n",
      "Mapped Label: 0.0\n",
      "['2023-08-07 13:13:03', '2023-08-07 13:13:05']\n",
      "['0.0', '0.0']\n"
     ]
    },
    {
     "name": "stderr",
     "output_type": "stream",
     "text": [
      "100%|██████████| 3/3 [00:00<00:00, 7410.43it/s]\n"
     ]
    },
    {
     "name": "stdout",
     "output_type": "stream",
     "text": [
      "1/1 [==============================] - 0s 304ms/step\n",
      "0    0\n",
      "1    0\n",
      "2    0\n",
      "Name: predicted_label, dtype: object\n",
      "Mapped Label: 0.0\n",
      "['2023-08-07 13:14:03']\n",
      "['0.0']\n"
     ]
    },
    {
     "name": "stderr",
     "output_type": "stream",
     "text": [
      "100%|██████████| 3/3 [00:00<00:00, 6963.43it/s]\n"
     ]
    },
    {
     "name": "stdout",
     "output_type": "stream",
     "text": [
      "1/1 [==============================] - 1s 538ms/step\n",
      "0    0\n",
      "1    0\n",
      "2    0\n",
      "Name: predicted_label, dtype: object\n",
      "Mapped Label: 0.0\n",
      "Mapped Label: 0.0\n",
      "Mapped Label: 0.0\n",
      "['2023-08-07 13:15:01', '2023-08-07 13:15:02', '2023-08-07 13:15:05']\n",
      "['0.0', '0.0', '0.0']\n"
     ]
    },
    {
     "name": "stderr",
     "output_type": "stream",
     "text": [
      "100%|██████████| 1/1 [00:00<00:00, 2598.70it/s]"
     ]
    },
    {
     "name": "stdout",
     "output_type": "stream",
     "text": [
      "1/1 [==============================] - 0s 117ms/step\n"
     ]
    },
    {
     "name": "stderr",
     "output_type": "stream",
     "text": [
      "\n"
     ]
    },
    {
     "name": "stdout",
     "output_type": "stream",
     "text": [
      "0    0\n",
      "Name: predicted_label, dtype: object\n",
      "Mapped Label: 0.0\n",
      "['2023-08-07 13:15:21']\n",
      "['0.0']\n"
     ]
    },
    {
     "name": "stderr",
     "output_type": "stream",
     "text": [
      "100%|██████████| 2/2 [00:00<00:00, 4785.29it/s]\n"
     ]
    },
    {
     "name": "stdout",
     "output_type": "stream",
     "text": [
      "1/1 [==============================] - 0s 265ms/step\n",
      "0    0\n",
      "1    0\n",
      "Name: predicted_label, dtype: object\n",
      "Mapped Label: 0.0\n",
      "['2023-08-07 13:16:01']\n",
      "['0.0']\n"
     ]
    },
    {
     "name": "stderr",
     "output_type": "stream",
     "text": [
      "100%|██████████| 2/2 [00:00<00:00, 6743.25it/s]\n"
     ]
    },
    {
     "name": "stdout",
     "output_type": "stream",
     "text": [
      "1/1 [==============================] - 0s 177ms/step\n",
      "0    0\n",
      "1    0\n",
      "Name: predicted_label, dtype: object\n",
      "Mapped Label: 0.0\n",
      "Mapped Label: 0.0\n",
      "['2023-08-07 13:16:03', '2023-08-07 13:16:06']\n",
      "['0.0', '0.0']\n"
     ]
    },
    {
     "name": "stderr",
     "output_type": "stream",
     "text": [
      "100%|██████████| 3/3 [00:00<00:00, 5617.37it/s]\n"
     ]
    },
    {
     "name": "stdout",
     "output_type": "stream",
     "text": [
      "1/1 [==============================] - 0s 274ms/step\n",
      "0    0\n",
      "1    0\n",
      "2    0\n",
      "Name: predicted_label, dtype: object\n",
      "Mapped Label: 0.0\n",
      "['2023-08-07 13:17:03']\n",
      "['0.0']\n"
     ]
    },
    {
     "name": "stderr",
     "output_type": "stream",
     "text": [
      "100%|██████████| 3/3 [00:00<00:00, 8144.28it/s]\n"
     ]
    },
    {
     "name": "stdout",
     "output_type": "stream",
     "text": [
      "1/1 [==============================] - 0s 231ms/step\n",
      "0    0\n",
      "1    0\n",
      "2    0\n",
      "Name: predicted_label, dtype: object\n",
      "Mapped Label: 0.0\n",
      "Mapped Label: 0.0\n",
      "Mapped Label: 0.0\n",
      "['2023-08-07 13:18:03', '2023-08-07 13:18:05', '2023-08-07 13:18:06']\n",
      "['0.0', '0.0', '0.0']\n"
     ]
    },
    {
     "name": "stderr",
     "output_type": "stream",
     "text": [
      "100%|██████████| 3/3 [00:00<00:00, 7781.64it/s]\n"
     ]
    },
    {
     "name": "stdout",
     "output_type": "stream",
     "text": [
      "1/1 [==============================] - 0s 232ms/step\n",
      "0    0\n",
      "1    0\n",
      "2    0\n",
      "Name: predicted_label, dtype: object\n",
      "Mapped Label: 0.0\n",
      "Mapped Label: 0.0\n",
      "['2023-08-07 13:19:03', '2023-08-07 13:19:05']\n",
      "['0.0', '0.0']\n"
     ]
    },
    {
     "name": "stderr",
     "output_type": "stream",
     "text": [
      "100%|██████████| 3/3 [00:00<00:00, 4965.63it/s]\n"
     ]
    },
    {
     "name": "stdout",
     "output_type": "stream",
     "text": [
      "1/1 [==============================] - 0s 249ms/step\n",
      "0    0\n",
      "1    0\n",
      "2    0\n",
      "Name: predicted_label, dtype: object\n",
      "Mapped Label: 0.0\n",
      "Mapped Label: 0.0\n",
      "Mapped Label: 0.0\n",
      "['2023-08-07 13:20:03', '2023-08-07 13:20:04', '2023-08-07 13:20:05']\n",
      "['0.0', '0.0', '0.0']\n"
     ]
    },
    {
     "name": "stderr",
     "output_type": "stream",
     "text": [
      "100%|██████████| 1/1 [00:00<00:00, 4301.85it/s]"
     ]
    },
    {
     "name": "stdout",
     "output_type": "stream",
     "text": [
      "1/1 [==============================] - 0s 121ms/step\n"
     ]
    },
    {
     "name": "stderr",
     "output_type": "stream",
     "text": [
      "\n"
     ]
    },
    {
     "name": "stdout",
     "output_type": "stream",
     "text": [
      "0    0\n",
      "Name: predicted_label, dtype: object\n",
      "Mapped Label: 0.0\n",
      "['2023-08-07 13:20:07']\n",
      "['0.0']\n"
     ]
    },
    {
     "name": "stderr",
     "output_type": "stream",
     "text": [
      "100%|██████████| 3/3 [00:00<00:00, 9590.63it/s]\n"
     ]
    },
    {
     "name": "stdout",
     "output_type": "stream",
     "text": [
      "1/1 [==============================] - 0s 244ms/step\n",
      "0    0\n",
      "1    0\n",
      "2    0\n",
      "Name: predicted_label, dtype: object\n",
      "Mapped Label: 0.0\n",
      "Mapped Label: 0.0\n",
      "['2023-08-07 13:21:03', '2023-08-07 13:21:05']\n",
      "['0.0', '0.0']\n"
     ]
    },
    {
     "name": "stderr",
     "output_type": "stream",
     "text": [
      "100%|██████████| 3/3 [00:00<00:00, 7319.90it/s]\n"
     ]
    },
    {
     "name": "stdout",
     "output_type": "stream",
     "text": [
      "1/1 [==============================] - 0s 226ms/step\n",
      "0    0\n",
      "1    0\n",
      "2    0\n",
      "Name: predicted_label, dtype: object\n",
      "Mapped Label: 0.0\n",
      "Mapped Label: 0.0\n",
      "['2023-08-07 13:22:01', '2023-08-07 13:22:05']\n",
      "['0.0', '0.0']\n"
     ]
    },
    {
     "name": "stderr",
     "output_type": "stream",
     "text": [
      "100%|██████████| 3/3 [00:00<00:00, 8713.93it/s]\n"
     ]
    },
    {
     "name": "stdout",
     "output_type": "stream",
     "text": [
      "1/1 [==============================] - 0s 229ms/step\n",
      "0    0\n",
      "1    0\n",
      "2    0\n",
      "Name: predicted_label, dtype: object\n",
      "Mapped Label: 0.0\n",
      "Mapped Label: 0.0\n",
      "Mapped Label: 0.0\n",
      "['2023-08-07 13:23:03', '2023-08-07 13:23:05', '2023-08-07 13:23:08']\n",
      "['0.0', '0.0', '0.0']\n"
     ]
    },
    {
     "name": "stderr",
     "output_type": "stream",
     "text": [
      "100%|██████████| 3/3 [00:00<00:00, 5521.24it/s]\n"
     ]
    },
    {
     "name": "stdout",
     "output_type": "stream",
     "text": [
      "1/1 [==============================] - 0s 281ms/step\n",
      "0    0\n",
      "1    0\n",
      "2    0\n",
      "Name: predicted_label, dtype: object\n",
      "Mapped Label: 0.0\n",
      "Mapped Label: 0.0\n",
      "Mapped Label: 0.0\n",
      "['2023-08-07 13:24:03', '2023-08-07 13:24:04', '2023-08-07 13:24:06']\n",
      "['0.0', '0.0', '0.0']\n"
     ]
    },
    {
     "name": "stderr",
     "output_type": "stream",
     "text": [
      "100%|██████████| 3/3 [00:00<00:00, 7677.19it/s]\n"
     ]
    },
    {
     "name": "stdout",
     "output_type": "stream",
     "text": [
      "1/1 [==============================] - 0s 271ms/step\n",
      "0    0\n",
      "1    0\n",
      "2    0\n",
      "Name: predicted_label, dtype: object\n",
      "Mapped Label: 0.0\n",
      "Mapped Label: 0.0\n",
      "['2023-08-07 13:25:01', '2023-08-07 13:25:03']\n",
      "['0.0', '0.0']\n"
     ]
    },
    {
     "name": "stderr",
     "output_type": "stream",
     "text": [
      "100%|██████████| 3/3 [00:00<00:00, 5216.80it/s]\n"
     ]
    },
    {
     "name": "stdout",
     "output_type": "stream",
     "text": [
      "1/1 [==============================] - 0s 268ms/step\n",
      "0    0\n",
      "1    0\n",
      "2    0\n",
      "Name: predicted_label, dtype: object\n",
      "Mapped Label: 0.0\n",
      "Mapped Label: 0.0\n",
      "['2023-08-07 13:26:05', '2023-08-07 13:26:07']\n",
      "['0.0', '0.0']\n"
     ]
    },
    {
     "name": "stderr",
     "output_type": "stream",
     "text": [
      "100%|██████████| 3/3 [00:00<00:00, 6223.00it/s]\n"
     ]
    },
    {
     "name": "stdout",
     "output_type": "stream",
     "text": [
      "1/1 [==============================] - 0s 274ms/step\n",
      "0    0\n",
      "1    0\n",
      "2    0\n",
      "Name: predicted_label, dtype: object\n",
      "Mapped Label: 0.0\n",
      "Mapped Label: 0.0\n",
      "Mapped Label: 0.0\n",
      "['2023-08-07 13:27:01', '2023-08-07 13:27:03', '2023-08-07 13:27:05']\n",
      "['0.0', '0.0', '0.0']\n"
     ]
    },
    {
     "name": "stderr",
     "output_type": "stream",
     "text": [
      "100%|██████████| 3/3 [00:00<00:00, 6348.59it/s]\n"
     ]
    },
    {
     "name": "stdout",
     "output_type": "stream",
     "text": [
      "1/1 [==============================] - 0s 332ms/step\n",
      "0    0\n",
      "1    0\n",
      "2    0\n",
      "Name: predicted_label, dtype: object\n",
      "Mapped Label: 0.0\n",
      "Mapped Label: 0.0\n",
      "Mapped Label: 0.0\n",
      "['2023-08-07 13:28:05', '2023-08-07 13:28:06', '2023-08-07 13:28:07']\n",
      "['0.0', '0.0', '0.0']\n"
     ]
    },
    {
     "name": "stderr",
     "output_type": "stream",
     "text": [
      "100%|██████████| 1/1 [00:00<00:00, 3426.72it/s]\n"
     ]
    },
    {
     "name": "stdout",
     "output_type": "stream",
     "text": [
      "1/1 [==============================] - 0s 157ms/step\n",
      "0    0\n",
      "Name: predicted_label, dtype: object\n",
      "Mapped Label: 0.0\n",
      "['2023-08-07 13:28:11']\n",
      "['0.0']\n"
     ]
    },
    {
     "name": "stderr",
     "output_type": "stream",
     "text": [
      "100%|██████████| 3/3 [00:00<00:00, 6736.03it/s]\n"
     ]
    },
    {
     "name": "stdout",
     "output_type": "stream",
     "text": [
      "1/1 [==============================] - 0s 295ms/step\n",
      "0    0\n",
      "1    0\n",
      "2    0\n",
      "Name: predicted_label, dtype: object\n",
      "Mapped Label: 0.0\n",
      "['2023-08-07 13:29:01']\n",
      "['0.0']\n"
     ]
    },
    {
     "name": "stderr",
     "output_type": "stream",
     "text": [
      "100%|██████████| 3/3 [00:00<00:00, 7033.49it/s]\n"
     ]
    },
    {
     "name": "stdout",
     "output_type": "stream",
     "text": [
      "1/1 [==============================] - 0s 402ms/step\n",
      "0    0\n",
      "1    0\n",
      "2    0\n",
      "Name: predicted_label, dtype: object\n",
      "Mapped Label: 0.0\n",
      "Mapped Label: 0.0\n",
      "['2023-08-07 13:29:02', '2023-08-07 13:29:03']\n",
      "['0.0', '0.0']\n"
     ]
    },
    {
     "name": "stderr",
     "output_type": "stream",
     "text": [
      "100%|██████████| 3/3 [00:00<00:00, 6587.91it/s]\n"
     ]
    },
    {
     "name": "stdout",
     "output_type": "stream",
     "text": [
      "1/1 [==============================] - 0s 314ms/step\n",
      "0    0\n",
      "1    0\n",
      "2    0\n",
      "Name: predicted_label, dtype: object\n",
      "Mapped Label: 0.0\n",
      "Mapped Label: 0.0\n",
      "Mapped Label: 0.0\n",
      "['2023-08-07 13:30:06', '2023-08-07 13:30:07', '2023-08-07 13:30:08']\n",
      "['0.0', '0.0', '0.0']\n"
     ]
    },
    {
     "name": "stderr",
     "output_type": "stream",
     "text": [
      "100%|██████████| 3/3 [00:00<00:00, 7037.42it/s]\n"
     ]
    },
    {
     "name": "stdout",
     "output_type": "stream",
     "text": [
      "1/1 [==============================] - 0s 271ms/step\n",
      "0    0\n",
      "1    0\n",
      "2    0\n",
      "Name: predicted_label, dtype: object\n",
      "Mapped Label: 0.0\n",
      "Mapped Label: 0.0\n",
      "Mapped Label: 0.0\n",
      "['2023-08-07 13:30:09', '2023-08-07 13:30:11', '2023-08-07 13:30:13']\n",
      "['0.0', '0.0', '0.0']\n"
     ]
    },
    {
     "name": "stderr",
     "output_type": "stream",
     "text": [
      "100%|██████████| 3/3 [00:00<00:00, 7256.58it/s]\n"
     ]
    },
    {
     "name": "stdout",
     "output_type": "stream",
     "text": [
      "1/1 [==============================] - 0s 282ms/step\n",
      "0    0\n",
      "1    0\n",
      "2    0\n",
      "Name: predicted_label, dtype: object\n",
      "Mapped Label: 0.0\n",
      "Mapped Label: 0.0\n",
      "Mapped Label: 0.0\n",
      "['2023-08-07 13:30:17', '2023-08-07 13:30:18', '2023-08-07 13:30:20']\n",
      "['0.0', '0.0', '0.0']\n"
     ]
    },
    {
     "name": "stderr",
     "output_type": "stream",
     "text": [
      "100%|██████████| 3/3 [00:00<00:00, 6875.91it/s]\n"
     ]
    },
    {
     "name": "stdout",
     "output_type": "stream",
     "text": [
      "1/1 [==============================] - 0s 283ms/step\n",
      "0    0\n",
      "1    0\n",
      "2    0\n",
      "Name: predicted_label, dtype: object\n",
      "Mapped Label: 0.0\n",
      "Mapped Label: 0.0\n",
      "Mapped Label: 0.0\n",
      "['2023-08-07 13:31:04', '2023-08-07 13:31:05', '2023-08-07 13:31:06']\n",
      "['0.0', '0.0', '0.0']\n"
     ]
    },
    {
     "name": "stderr",
     "output_type": "stream",
     "text": [
      "100%|██████████| 3/3 [00:00<00:00, 5318.22it/s]\n"
     ]
    },
    {
     "name": "stdout",
     "output_type": "stream",
     "text": [
      "1/1 [==============================] - 0s 305ms/step\n",
      "0    0\n",
      "1    0\n",
      "2    0\n",
      "Name: predicted_label, dtype: object\n",
      "Mapped Label: 0.0\n",
      "Mapped Label: 0.0\n",
      "Mapped Label: 0.0\n",
      "['2023-08-07 13:32:05', '2023-08-07 13:32:06', '2023-08-07 13:32:09']\n",
      "['0.0', '0.0', '0.0']\n"
     ]
    },
    {
     "name": "stderr",
     "output_type": "stream",
     "text": [
      "100%|██████████| 2/2 [00:00<00:00, 5279.17it/s]\n"
     ]
    },
    {
     "name": "stdout",
     "output_type": "stream",
     "text": [
      "1/1 [==============================] - 0s 222ms/step\n",
      "0    0\n",
      "1    0\n",
      "Name: predicted_label, dtype: object\n",
      "Mapped Label: 0.0\n",
      "Mapped Label: 0.0\n",
      "['2023-08-07 13:33:05', '2023-08-07 13:33:06']\n",
      "['0.0', '0.0']\n"
     ]
    },
    {
     "name": "stderr",
     "output_type": "stream",
     "text": [
      "100%|██████████| 3/3 [00:00<00:00, 5533.38it/s]\n"
     ]
    },
    {
     "name": "stdout",
     "output_type": "stream",
     "text": [
      "1/1 [==============================] - 0s 295ms/step\n",
      "0    0\n",
      "1    0\n",
      "2    0\n",
      "Name: predicted_label, dtype: object\n",
      "Mapped Label: 0.0\n",
      "Mapped Label: 0.0\n",
      "['2023-08-07 13:34:01', '2023-08-07 13:34:05']\n",
      "['0.0', '0.0']\n"
     ]
    },
    {
     "name": "stderr",
     "output_type": "stream",
     "text": [
      "100%|██████████| 1/1 [00:00<00:00, 2601.93it/s]\n"
     ]
    },
    {
     "name": "stdout",
     "output_type": "stream",
     "text": [
      "1/1 [==============================] - 0s 195ms/step\n",
      "0    0\n",
      "Name: predicted_label, dtype: object\n",
      "Mapped Label: 0.0\n",
      "['2023-08-07 13:34:09']\n",
      "['0.0']\n"
     ]
    },
    {
     "name": "stderr",
     "output_type": "stream",
     "text": [
      "100%|██████████| 3/3 [00:00<00:00, 6567.28it/s]\n"
     ]
    },
    {
     "name": "stdout",
     "output_type": "stream",
     "text": [
      "1/1 [==============================] - 0s 302ms/step\n",
      "0    0\n",
      "1    0\n",
      "2    0\n",
      "Name: predicted_label, dtype: object\n",
      "Mapped Label: 0.0\n",
      "Mapped Label: 0.0\n",
      "['2023-08-07 13:35:01', '2023-08-07 13:35:03']\n",
      "['0.0', '0.0']\n"
     ]
    },
    {
     "name": "stderr",
     "output_type": "stream",
     "text": [
      "100%|██████████| 3/3 [00:00<00:00, 6909.89it/s]\n"
     ]
    },
    {
     "name": "stdout",
     "output_type": "stream",
     "text": [
      "1/1 [==============================] - 0s 285ms/step\n",
      "0    0\n",
      "1    0\n",
      "2    0\n",
      "Name: predicted_label, dtype: object\n",
      "Mapped Label: 0.0\n",
      "Mapped Label: 0.0\n",
      "Mapped Label: 0.0\n",
      "['2023-08-07 13:35:06', '2023-08-07 13:35:07', '2023-08-07 13:35:09']\n",
      "['0.0', '0.0', '0.0']\n"
     ]
    },
    {
     "name": "stderr",
     "output_type": "stream",
     "text": [
      "100%|██████████| 3/3 [00:00<00:00, 6831.11it/s]\n"
     ]
    },
    {
     "name": "stdout",
     "output_type": "stream",
     "text": [
      "1/1 [==============================] - 0s 289ms/step\n",
      "0    0\n",
      "1    0\n",
      "2    0\n",
      "Name: predicted_label, dtype: object\n",
      "Mapped Label: 0.0\n",
      "Mapped Label: 0.0\n",
      "['2023-08-07 13:36:05', '2023-08-07 13:36:08']\n",
      "['0.0', '0.0']\n"
     ]
    },
    {
     "name": "stderr",
     "output_type": "stream",
     "text": [
      "100%|██████████| 3/3 [00:00<00:00, 7705.40it/s]\n"
     ]
    },
    {
     "name": "stdout",
     "output_type": "stream",
     "text": [
      "1/1 [==============================] - 0s 336ms/step\n",
      "0    0\n",
      "1    0\n",
      "2    0\n",
      "Name: predicted_label, dtype: object\n",
      "Mapped Label: 0.0\n",
      "Mapped Label: 0.0\n",
      "Mapped Label: 0.0\n",
      "['2023-08-07 13:37:05', '2023-08-07 13:37:06', '2023-08-07 13:37:08']\n",
      "['0.0', '0.0', '0.0']\n"
     ]
    },
    {
     "name": "stderr",
     "output_type": "stream",
     "text": [
      "100%|██████████| 1/1 [00:00<00:00, 3313.04it/s]\n"
     ]
    },
    {
     "name": "stdout",
     "output_type": "stream",
     "text": [
      "1/1 [==============================] - 0s 161ms/step\n",
      "0    0\n",
      "Name: predicted_label, dtype: object\n",
      "Mapped Label: 0.0\n",
      "['2023-08-07 13:37:09']\n",
      "['0.0']\n"
     ]
    },
    {
     "name": "stderr",
     "output_type": "stream",
     "text": [
      "100%|██████████| 3/3 [00:00<00:00, 6743.25it/s]\n"
     ]
    },
    {
     "name": "stdout",
     "output_type": "stream",
     "text": [
      "1/1 [==============================] - 0s 321ms/step\n",
      "0    0\n",
      "1    0\n",
      "2    0\n",
      "Name: predicted_label, dtype: object\n",
      "Mapped Label: 0.0\n",
      "Mapped Label: 0.0\n",
      "['2023-08-07 13:38:01', '2023-08-07 13:38:03']\n",
      "['0.0', '0.0']\n"
     ]
    },
    {
     "name": "stderr",
     "output_type": "stream",
     "text": [
      "100%|██████████| 2/2 [00:00<00:00, 5671.81it/s]\n"
     ]
    },
    {
     "name": "stdout",
     "output_type": "stream",
     "text": [
      "1/1 [==============================] - 0s 253ms/step\n",
      "0    0\n",
      "1    0\n",
      "Name: predicted_label, dtype: object\n",
      "Mapped Label: 0.0\n",
      "Mapped Label: 0.0\n",
      "['2023-08-07 13:38:08', '2023-08-07 13:38:09']\n",
      "['0.0', '0.0']\n"
     ]
    },
    {
     "name": "stderr",
     "output_type": "stream",
     "text": [
      "100%|██████████| 3/3 [00:00<00:00, 5645.09it/s]\n"
     ]
    },
    {
     "name": "stdout",
     "output_type": "stream",
     "text": [
      "1/1 [==============================] - 0s 353ms/step\n",
      "0    0\n",
      "1    0\n",
      "2    0\n",
      "Name: predicted_label, dtype: object\n",
      "Mapped Label: 0.0\n",
      "Mapped Label: 0.0\n",
      "Mapped Label: 0.0\n",
      "['2023-08-07 13:39:04', '2023-08-07 13:39:05', '2023-08-07 13:39:07']\n",
      "['0.0', '0.0', '0.0']\n"
     ]
    },
    {
     "name": "stderr",
     "output_type": "stream",
     "text": [
      "100%|██████████| 3/3 [00:00<00:00, 6442.86it/s]\n"
     ]
    },
    {
     "name": "stdout",
     "output_type": "stream",
     "text": [
      "1/1 [==============================] - 0s 347ms/step\n",
      "0    0\n",
      "1    0\n",
      "2    0\n",
      "Name: predicted_label, dtype: object\n",
      "Mapped Label: 0.0\n",
      "Mapped Label: 0.0\n",
      "Mapped Label: 0.0\n",
      "['2023-08-07 13:39:09', '2023-08-07 13:39:13', '2023-08-07 13:39:15']\n",
      "['0.0', '0.0', '0.0']\n"
     ]
    },
    {
     "name": "stderr",
     "output_type": "stream",
     "text": [
      "100%|██████████| 3/3 [00:00<00:00, 6622.59it/s]\n"
     ]
    },
    {
     "name": "stdout",
     "output_type": "stream",
     "text": [
      "1/1 [==============================] - 0s 284ms/step\n",
      "0    0\n",
      "1    0\n",
      "2    0\n",
      "Name: predicted_label, dtype: object\n",
      "Mapped Label: 0.0\n",
      "Mapped Label: 0.0\n",
      "['2023-08-07 13:40:01', '2023-08-07 13:40:03']\n",
      "['0.0', '0.0']\n"
     ]
    },
    {
     "name": "stderr",
     "output_type": "stream",
     "text": [
      "100%|██████████| 2/2 [00:00<00:00, 6413.31it/s]\n"
     ]
    },
    {
     "name": "stdout",
     "output_type": "stream",
     "text": [
      "1/1 [==============================] - 0s 232ms/step\n",
      "0    0\n",
      "1    0\n",
      "Name: predicted_label, dtype: object\n",
      "Mapped Label: 0.0\n",
      "Mapped Label: 0.0\n",
      "['2023-08-07 13:40:07', '2023-08-07 13:40:08']\n",
      "['0.0', '0.0']\n"
     ]
    },
    {
     "name": "stderr",
     "output_type": "stream",
     "text": [
      "100%|██████████| 1/1 [00:00<00:00, 3258.98it/s]\n"
     ]
    },
    {
     "name": "stdout",
     "output_type": "stream",
     "text": [
      "1/1 [==============================] - 0s 154ms/step\n",
      "0    0\n",
      "Name: predicted_label, dtype: object\n",
      "Mapped Label: 0.0\n",
      "['2023-08-07 13:40:14']\n",
      "['0.0']\n"
     ]
    },
    {
     "name": "stderr",
     "output_type": "stream",
     "text": [
      "100%|██████████| 2/2 [00:00<00:00, 5596.14it/s]\n"
     ]
    },
    {
     "name": "stdout",
     "output_type": "stream",
     "text": [
      "1/1 [==============================] - 0s 230ms/step\n",
      "0    0\n",
      "1    0\n",
      "Name: predicted_label, dtype: object\n",
      "Mapped Label: 0.0\n",
      "Mapped Label: 0.0\n",
      "['2023-08-07 13:40:18', '2023-08-07 13:40:20']\n",
      "['0.0', '0.0']\n"
     ]
    },
    {
     "name": "stderr",
     "output_type": "stream",
     "text": [
      "100%|██████████| 3/3 [00:00<00:00, 1924.29it/s]\n"
     ]
    },
    {
     "name": "stdout",
     "output_type": "stream",
     "text": [
      "1/1 [==============================] - 0s 281ms/step\n",
      "0    0\n",
      "1    0\n",
      "2    0\n",
      "Name: predicted_label, dtype: object\n",
      "Mapped Label: 0.0\n",
      "Mapped Label: 0.0\n",
      "['2023-08-07 13:41:04', '2023-08-07 13:41:09']\n",
      "['0.0', '0.0']\n"
     ]
    },
    {
     "name": "stderr",
     "output_type": "stream",
     "text": [
      "100%|██████████| 1/1 [00:00<00:00, 5133.79it/s]"
     ]
    },
    {
     "name": "stdout",
     "output_type": "stream",
     "text": [
      "1/1 [==============================] - 0s 138ms/step\n"
     ]
    },
    {
     "name": "stderr",
     "output_type": "stream",
     "text": [
      "\n"
     ]
    },
    {
     "name": "stdout",
     "output_type": "stream",
     "text": [
      "0    0\n",
      "Name: predicted_label, dtype: object\n",
      "Mapped Label: 0.0\n",
      "['2023-08-07 13:41:12']\n",
      "['0.0']\n"
     ]
    },
    {
     "name": "stderr",
     "output_type": "stream",
     "text": [
      "100%|██████████| 3/3 [00:00<00:00, 7776.83it/s]\n"
     ]
    },
    {
     "name": "stdout",
     "output_type": "stream",
     "text": [
      "1/1 [==============================] - 0s 301ms/step\n",
      "0    0\n",
      "1    0\n",
      "2    0\n",
      "Name: predicted_label, dtype: object\n",
      "Mapped Label: 0.0\n",
      "Mapped Label: 0.0\n",
      "Mapped Label: 0.0\n",
      "['2023-08-07 13:42:03', '2023-08-07 13:42:04', '2023-08-07 13:42:06']\n",
      "['0.0', '0.0', '0.0']\n"
     ]
    },
    {
     "name": "stderr",
     "output_type": "stream",
     "text": [
      "100%|██████████| 3/3 [00:00<00:00, 5426.01it/s]\n"
     ]
    },
    {
     "name": "stdout",
     "output_type": "stream",
     "text": [
      "1/1 [==============================] - 0s 361ms/step\n",
      "0    0\n",
      "1    0\n",
      "2    0\n",
      "Name: predicted_label, dtype: object\n",
      "Mapped Label: 0.0\n",
      "Mapped Label: 0.0\n",
      "Mapped Label: 0.0\n",
      "['2023-08-07 13:42:08', '2023-08-07 13:42:09', '2023-08-07 13:42:10']\n",
      "['0.0', '0.0', '0.0']\n"
     ]
    },
    {
     "name": "stderr",
     "output_type": "stream",
     "text": [
      "100%|██████████| 3/3 [00:00<00:00, 6563.86it/s]\n"
     ]
    },
    {
     "name": "stdout",
     "output_type": "stream",
     "text": [
      "1/1 [==============================] - 0s 307ms/step\n",
      "0    0\n",
      "1    0\n",
      "2    0\n",
      "Name: predicted_label, dtype: object\n",
      "Mapped Label: 0.0\n",
      "['2023-08-07 13:43:01']\n",
      "['0.0']\n"
     ]
    },
    {
     "name": "stderr",
     "output_type": "stream",
     "text": [
      "100%|██████████| 3/3 [00:00<00:00, 5879.87it/s]\n"
     ]
    },
    {
     "name": "stdout",
     "output_type": "stream",
     "text": [
      "1/1 [==============================] - 0s 301ms/step\n",
      "0    0\n",
      "1    0\n",
      "2    0\n",
      "Name: predicted_label, dtype: object\n",
      "Mapped Label: 0.0\n",
      "Mapped Label: 0.0\n",
      "['2023-08-07 13:43:03', '2023-08-07 13:43:05']\n",
      "['0.0', '0.0']\n"
     ]
    },
    {
     "name": "stderr",
     "output_type": "stream",
     "text": [
      "100%|██████████| 1/1 [00:00<00:00, 3830.41it/s]"
     ]
    },
    {
     "name": "stdout",
     "output_type": "stream",
     "text": [
      "\r",
      "1/1 [==============================] - ETA: 0s"
     ]
    },
    {
     "name": "stderr",
     "output_type": "stream",
     "text": [
      "\n"
     ]
    },
    {
     "name": "stdout",
     "output_type": "stream",
     "text": [
      "1/1 [==============================] - 0s 150ms/step\n",
      "0    0\n",
      "Name: predicted_label, dtype: object\n",
      "Mapped Label: 0.0\n",
      "['2023-08-07 13:43:08']\n",
      "['0.0']\n"
     ]
    },
    {
     "name": "stderr",
     "output_type": "stream",
     "text": [
      "100%|██████████| 3/3 [00:00<00:00, 4011.13it/s]\n"
     ]
    },
    {
     "name": "stdout",
     "output_type": "stream",
     "text": [
      "1/1 [==============================] - 0s 270ms/step\n",
      "0    0\n",
      "1    0\n",
      "2    0\n",
      "Name: predicted_label, dtype: object\n",
      "Mapped Label: 0.0\n",
      "['2023-08-07 13:44:01']\n",
      "['0.0']\n"
     ]
    },
    {
     "name": "stderr",
     "output_type": "stream",
     "text": [
      "100%|██████████| 3/3 [00:00<00:00, 5047.30it/s]\n"
     ]
    },
    {
     "name": "stdout",
     "output_type": "stream",
     "text": [
      "1/1 [==============================] - 0s 410ms/step\n",
      "0    0\n",
      "1    0\n",
      "2    0\n",
      "Name: predicted_label, dtype: object\n",
      "Mapped Label: 0.0\n",
      "Mapped Label: 0.0\n",
      "Mapped Label: 0.0\n",
      "['2023-08-07 13:44:03', '2023-08-07 13:44:06', '2023-08-07 13:44:07']\n",
      "['0.0', '0.0', '0.0']\n"
     ]
    },
    {
     "name": "stderr",
     "output_type": "stream",
     "text": [
      "100%|██████████| 3/3 [00:00<00:00, 6786.90it/s]\n"
     ]
    },
    {
     "name": "stdout",
     "output_type": "stream",
     "text": [
      "1/1 [==============================] - 0s 312ms/step\n",
      "0    0\n",
      "1    0\n",
      "2    0\n",
      "Name: predicted_label, dtype: object\n",
      "Mapped Label: 0.0\n",
      "Mapped Label: 0.0\n",
      "['2023-08-07 13:45:03', '2023-08-07 13:45:04']\n",
      "['0.0', '0.0']\n"
     ]
    },
    {
     "name": "stderr",
     "output_type": "stream",
     "text": [
      "100%|██████████| 3/3 [00:00<00:00, 7933.74it/s]\n"
     ]
    },
    {
     "name": "stdout",
     "output_type": "stream",
     "text": [
      "1/1 [==============================] - 0s 278ms/step\n",
      "0    0\n",
      "1    0\n",
      "2    0\n",
      "Name: predicted_label, dtype: object\n",
      "Mapped Label: 0.0\n",
      "Mapped Label: 0.0\n",
      "Mapped Label: 0.0\n",
      "['2023-08-07 13:45:08', '2023-08-07 13:45:09', '2023-08-07 13:45:11']\n",
      "['0.0', '0.0', '0.0']\n"
     ]
    },
    {
     "name": "stderr",
     "output_type": "stream",
     "text": [
      "100%|██████████| 3/3 [00:00<00:00, 7830.06it/s]\n"
     ]
    },
    {
     "name": "stdout",
     "output_type": "stream",
     "text": [
      "1/1 [==============================] - 0s 282ms/step\n",
      "0    0\n",
      "1    0\n",
      "2    0\n",
      "Name: predicted_label, dtype: object\n",
      "Mapped Label: 0.0\n",
      "['2023-08-07 13:46:03']\n",
      "['0.0']\n"
     ]
    },
    {
     "name": "stderr",
     "output_type": "stream",
     "text": [
      "100%|██████████| 3/3 [00:00<00:00, 4901.80it/s]\n"
     ]
    },
    {
     "name": "stdout",
     "output_type": "stream",
     "text": [
      "1/1 [==============================] - 0s 287ms/step\n",
      "0    0\n",
      "1    0\n",
      "2    0\n",
      "Name: predicted_label, dtype: object\n",
      "Mapped Label: 0.0\n",
      "Mapped Label: 0.0\n",
      "['2023-08-07 13:46:05', '2023-08-07 13:46:06']\n",
      "['0.0', '0.0']\n"
     ]
    },
    {
     "name": "stderr",
     "output_type": "stream",
     "text": [
      "100%|██████████| 3/3 [00:00<00:00, 5997.57it/s]\n"
     ]
    },
    {
     "name": "stdout",
     "output_type": "stream",
     "text": [
      "1/1 [==============================] - 0s 293ms/step\n",
      "0    0\n",
      "1    0\n",
      "2    0\n",
      "Name: predicted_label, dtype: object\n",
      "Mapped Label: 0.0\n",
      "Mapped Label: 0.0\n",
      "Mapped Label: 0.0\n",
      "['2023-08-07 13:47:05', '2023-08-07 13:47:06', '2023-08-07 13:47:08']\n",
      "['0.0', '0.0', '0.0']\n"
     ]
    },
    {
     "name": "stderr",
     "output_type": "stream",
     "text": [
      "100%|██████████| 2/2 [00:00<00:00, 5940.94it/s]\n"
     ]
    },
    {
     "name": "stdout",
     "output_type": "stream",
     "text": [
      "1/1 [==============================] - 0s 211ms/step\n",
      "0    0\n",
      "1    0\n",
      "Name: predicted_label, dtype: object\n",
      "Mapped Label: 0.0\n",
      "['2023-08-07 13:47:14']\n",
      "['0.0']\n"
     ]
    },
    {
     "name": "stderr",
     "output_type": "stream",
     "text": [
      "100%|██████████| 2/2 [00:00<00:00, 6355.01it/s]\n"
     ]
    },
    {
     "name": "stdout",
     "output_type": "stream",
     "text": [
      "1/1 [==============================] - 0s 253ms/step\n",
      "0    0\n",
      "1    0\n",
      "Name: predicted_label, dtype: object\n",
      "Mapped Label: 0.0\n",
      "Mapped Label: 0.0\n",
      "['2023-08-07 13:47:15', '2023-08-07 13:47:17']\n",
      "['0.0', '0.0']\n"
     ]
    },
    {
     "name": "stderr",
     "output_type": "stream",
     "text": [
      "100%|██████████| 3/3 [00:00<00:00, 4837.72it/s]\n"
     ]
    },
    {
     "name": "stdout",
     "output_type": "stream",
     "text": [
      "1/1 [==============================] - 0s 332ms/step\n",
      "0    0\n",
      "1    0\n",
      "2    0\n",
      "Name: predicted_label, dtype: object\n",
      "Mapped Label: 0.0\n",
      "Mapped Label: 0.0\n",
      "['2023-08-07 13:48:08', '2023-08-07 13:48:10']\n",
      "['0.0', '0.0']\n"
     ]
    },
    {
     "name": "stderr",
     "output_type": "stream",
     "text": [
      "100%|██████████| 3/3 [00:00<00:00, 6519.64it/s]\n"
     ]
    },
    {
     "name": "stdout",
     "output_type": "stream",
     "text": [
      "1/1 [==============================] - 0s 274ms/step\n",
      "0    0\n",
      "1    0\n",
      "2    0\n",
      "Name: predicted_label, dtype: object\n",
      "Mapped Label: 0.0\n",
      "Mapped Label: 0.0\n",
      "Mapped Label: 0.0\n",
      "['2023-08-07 13:49:08', '2023-08-07 13:49:09', '2023-08-07 13:49:10']\n",
      "['0.0', '0.0', '0.0']\n"
     ]
    },
    {
     "name": "stderr",
     "output_type": "stream",
     "text": [
      "100%|██████████| 3/3 [00:00<00:00, 3862.16it/s]\n"
     ]
    },
    {
     "name": "stdout",
     "output_type": "stream",
     "text": [
      "1/1 [==============================] - 0s 313ms/step\n",
      "0    0\n",
      "1    0\n",
      "2    0\n",
      "Name: predicted_label, dtype: object\n",
      "Mapped Label: 0.0\n",
      "Mapped Label: 0.0\n",
      "['2023-08-07 13:49:12', '2023-08-07 13:49:14']\n",
      "['0.0', '0.0']\n"
     ]
    },
    {
     "name": "stderr",
     "output_type": "stream",
     "text": [
      "100%|██████████| 3/3 [00:00<00:00, 6560.43it/s]\n"
     ]
    },
    {
     "name": "stdout",
     "output_type": "stream",
     "text": [
      "1/1 [==============================] - 0s 341ms/step\n",
      "0    0\n",
      "1    0\n",
      "2    0\n",
      "Name: predicted_label, dtype: object\n",
      "Mapped Label: 0.0\n",
      "Mapped Label: 0.0\n",
      "['2023-08-07 13:50:03', '2023-08-07 13:50:04']\n",
      "['0.0', '0.0']\n"
     ]
    },
    {
     "name": "stderr",
     "output_type": "stream",
     "text": [
      "100%|██████████| 3/3 [00:00<00:00, 6794.23it/s]\n"
     ]
    },
    {
     "name": "stdout",
     "output_type": "stream",
     "text": [
      "1/1 [==============================] - 0s 362ms/step\n",
      "0    0\n",
      "1    0\n",
      "2    0\n",
      "Name: predicted_label, dtype: object\n",
      "Mapped Label: 0.0\n",
      "Mapped Label: 0.0\n",
      "Mapped Label: 0.0\n",
      "['2023-08-07 13:50:06', '2023-08-07 13:50:10', '2023-08-07 13:50:11']\n",
      "['0.0', '0.0', '0.0']\n"
     ]
    },
    {
     "name": "stderr",
     "output_type": "stream",
     "text": [
      "100%|██████████| 3/3 [00:00<00:00, 7239.88it/s]\n"
     ]
    },
    {
     "name": "stdout",
     "output_type": "stream",
     "text": [
      "1/1 [==============================] - 0s 311ms/step\n",
      "0    0\n",
      "1    0\n",
      "2    0\n",
      "Name: predicted_label, dtype: object\n",
      "Mapped Label: 0.0\n",
      "Mapped Label: 0.0\n",
      "Mapped Label: 0.0\n",
      "['2023-08-07 13:50:14', '2023-08-07 13:50:15', '2023-08-07 13:50:17']\n",
      "['0.0', '0.0', '0.0']\n"
     ]
    },
    {
     "name": "stderr",
     "output_type": "stream",
     "text": [
      "100%|██████████| 3/3 [00:00<00:00, 5501.93it/s]\n"
     ]
    },
    {
     "name": "stdout",
     "output_type": "stream",
     "text": [
      "1/1 [==============================] - 0s 345ms/step\n",
      "0    0\n",
      "1    0\n",
      "2    0\n",
      "Name: predicted_label, dtype: object\n",
      "Mapped Label: 0.0\n",
      "Mapped Label: 0.0\n",
      "['2023-08-07 13:51:04', '2023-08-07 13:51:05']\n",
      "['0.0', '0.0']\n"
     ]
    },
    {
     "name": "stderr",
     "output_type": "stream",
     "text": [
      "100%|██████████| 2/2 [00:00<00:00, 4568.96it/s]\n"
     ]
    },
    {
     "name": "stdout",
     "output_type": "stream",
     "text": [
      "1/1 [==============================] - 0s 249ms/step\n",
      "0    0\n",
      "1    0\n",
      "Name: predicted_label, dtype: object\n",
      "Mapped Label: 0.0\n",
      "Mapped Label: 0.0\n",
      "['2023-08-07 13:51:07', '2023-08-07 13:51:09']\n",
      "['0.0', '0.0']\n"
     ]
    },
    {
     "name": "stderr",
     "output_type": "stream",
     "text": [
      "100%|██████████| 1/1 [00:00<00:00, 3964.37it/s]\n"
     ]
    },
    {
     "name": "stdout",
     "output_type": "stream",
     "text": [
      "1/1 [==============================] - 0s 155ms/step\n",
      "0    0\n",
      "Name: predicted_label, dtype: object\n",
      "Mapped Label: 0.0\n",
      "['2023-08-07 13:51:15']\n",
      "['0.0']\n"
     ]
    },
    {
     "name": "stderr",
     "output_type": "stream",
     "text": [
      "100%|██████████| 3/3 [00:00<00:00, 6696.60it/s]\n"
     ]
    },
    {
     "name": "stdout",
     "output_type": "stream",
     "text": [
      "1/1 [==============================] - 0s 431ms/step\n",
      "0    0\n",
      "1    0\n",
      "2    0\n",
      "Name: predicted_label, dtype: object\n",
      "Mapped Label: 0.0\n",
      "Mapped Label: 0.0\n",
      "Mapped Label: 0.0\n",
      "['2023-08-07 13:52:05', '2023-08-07 13:52:06', '2023-08-07 13:52:07']\n",
      "['0.0', '0.0', '0.0']\n"
     ]
    },
    {
     "name": "stderr",
     "output_type": "stream",
     "text": [
      "100%|██████████| 3/3 [00:00<00:00, 7073.03it/s]\n"
     ]
    },
    {
     "name": "stdout",
     "output_type": "stream",
     "text": [
      "1/1 [==============================] - 0s 423ms/step\n",
      "0    0\n",
      "1    0\n",
      "2    0\n",
      "Name: predicted_label, dtype: object\n",
      "Mapped Label: 0.0\n",
      "Mapped Label: 0.0\n",
      "Mapped Label: 0.0\n",
      "['2023-08-07 13:52:10', '2023-08-07 13:52:11', '2023-08-07 13:52:13']\n",
      "['0.0', '0.0', '0.0']\n"
     ]
    },
    {
     "name": "stderr",
     "output_type": "stream",
     "text": [
      "100%|██████████| 3/3 [00:00<00:00, 3234.68it/s]\n"
     ]
    },
    {
     "name": "stdout",
     "output_type": "stream",
     "text": [
      "1/1 [==============================] - 0s 368ms/step\n",
      "0    0\n",
      "1    0\n",
      "2    0\n",
      "Name: predicted_label, dtype: object\n",
      "Mapped Label: 0.0\n",
      "Mapped Label: 0.0\n",
      "['2023-08-07 13:53:01', '2023-08-07 13:53:02']\n",
      "['0.0', '0.0']\n"
     ]
    },
    {
     "name": "stderr",
     "output_type": "stream",
     "text": [
      "100%|██████████| 3/3 [00:00<00:00, 6323.07it/s]\n"
     ]
    },
    {
     "name": "stdout",
     "output_type": "stream",
     "text": [
      "1/1 [==============================] - 0s 403ms/step\n",
      "0    0\n",
      "1    0\n",
      "2    0\n",
      "Name: predicted_label, dtype: object\n",
      "Mapped Label: 0.0\n",
      "Mapped Label: 0.0\n",
      "Mapped Label: 0.0\n",
      "['2023-08-07 13:53:05', '2023-08-07 13:53:08', '2023-08-07 13:53:09']\n",
      "['0.0', '0.0', '0.0']\n"
     ]
    },
    {
     "name": "stderr",
     "output_type": "stream",
     "text": [
      "100%|██████████| 3/3 [00:00<00:00, 5814.65it/s]\n"
     ]
    },
    {
     "name": "stdout",
     "output_type": "stream",
     "text": [
      "1/1 [==============================] - 0s 297ms/step\n",
      "0    0\n",
      "1    0\n",
      "2    0\n",
      "Name: predicted_label, dtype: object\n",
      "Mapped Label: 0.0\n",
      "Mapped Label: 0.0\n",
      "Mapped Label: 0.0\n",
      "['2023-08-07 13:54:04', '2023-08-07 13:54:05', '2023-08-07 13:54:06']\n",
      "['0.0', '0.0', '0.0']\n"
     ]
    },
    {
     "name": "stderr",
     "output_type": "stream",
     "text": [
      "100%|██████████| 3/3 [00:00<00:00, 6198.48it/s]\n"
     ]
    },
    {
     "name": "stdout",
     "output_type": "stream",
     "text": [
      "1/1 [==============================] - 0s 326ms/step\n",
      "0    0\n",
      "1    0\n",
      "2    0\n",
      "Name: predicted_label, dtype: object\n",
      "Mapped Label: 0.0\n",
      "Mapped Label: 0.0\n",
      "Mapped Label: 0.0\n",
      "['2023-08-07 13:55:03', '2023-08-07 13:55:04', '2023-08-07 13:55:08']\n",
      "['0.0', '0.0', '0.0']\n"
     ]
    },
    {
     "name": "stderr",
     "output_type": "stream",
     "text": [
      "100%|██████████| 1/1 [00:00<00:00, 3942.02it/s]"
     ]
    },
    {
     "name": "stdout",
     "output_type": "stream",
     "text": [
      "1/1 [==============================] - 0s 129ms/step\n"
     ]
    },
    {
     "name": "stderr",
     "output_type": "stream",
     "text": [
      "\n"
     ]
    },
    {
     "name": "stdout",
     "output_type": "stream",
     "text": [
      "0    0\n",
      "Name: predicted_label, dtype: object\n",
      "Mapped Label: 0.0\n",
      "['2023-08-07 13:55:12']\n",
      "['0.0']\n"
     ]
    },
    {
     "name": "stderr",
     "output_type": "stream",
     "text": [
      "100%|██████████| 3/3 [00:00<00:00, 6275.77it/s]\n"
     ]
    },
    {
     "name": "stdout",
     "output_type": "stream",
     "text": [
      "1/1 [==============================] - 0s 298ms/step\n",
      "0    0\n",
      "1    0\n",
      "2    0\n",
      "Name: predicted_label, dtype: object\n",
      "Mapped Label: 0.0\n",
      "['2023-08-07 13:56:01']\n",
      "['0.0']\n"
     ]
    },
    {
     "name": "stderr",
     "output_type": "stream",
     "text": [
      "100%|██████████| 3/3 [00:00<00:00, 5468.45it/s]\n"
     ]
    },
    {
     "name": "stdout",
     "output_type": "stream",
     "text": [
      "1/1 [==============================] - 0s 263ms/step\n",
      "0    0\n",
      "1    0\n",
      "2    0\n",
      "Name: predicted_label, dtype: object\n",
      "Mapped Label: 0.0\n",
      "Mapped Label: 0.0\n",
      "['2023-08-07 13:56:03', '2023-08-07 13:56:04']\n",
      "['0.0', '0.0']\n"
     ]
    },
    {
     "name": "stderr",
     "output_type": "stream",
     "text": [
      "100%|██████████| 3/3 [00:00<00:00, 8799.24it/s]\n"
     ]
    },
    {
     "name": "stdout",
     "output_type": "stream",
     "text": [
      "1/1 [==============================] - 0s 316ms/step\n",
      "0    0\n",
      "1    0\n",
      "2    0\n",
      "Name: predicted_label, dtype: object\n",
      "Mapped Label: 0.0\n",
      "Mapped Label: 0.0\n",
      "['2023-08-07 13:57:04', '2023-08-07 13:57:06']\n",
      "['0.0', '0.0']\n"
     ]
    },
    {
     "name": "stderr",
     "output_type": "stream",
     "text": [
      "100%|██████████| 3/3 [00:00<00:00, 5949.37it/s]\n"
     ]
    },
    {
     "name": "stdout",
     "output_type": "stream",
     "text": [
      "1/1 [==============================] - 0s 268ms/step\n",
      "0    0\n",
      "1    0\n",
      "2    0\n",
      "Name: predicted_label, dtype: object\n",
      "Mapped Label: 0.0\n",
      "Mapped Label: 0.0\n",
      "Mapped Label: 0.0\n",
      "['2023-08-07 13:57:10', '2023-08-07 13:57:11', '2023-08-07 13:57:14']\n",
      "['0.0', '0.0', '0.0']\n"
     ]
    },
    {
     "name": "stderr",
     "output_type": "stream",
     "text": [
      "100%|██████████| 3/3 [00:00<00:00, 8994.22it/s]\n"
     ]
    },
    {
     "name": "stdout",
     "output_type": "stream",
     "text": [
      "1/1 [==============================] - 0s 392ms/step\n",
      "0    0\n",
      "1    0\n",
      "2    0\n",
      "Name: predicted_label, dtype: object\n",
      "Mapped Label: 0.0\n",
      "Mapped Label: 0.0\n",
      "['2023-08-07 13:58:01', '2023-08-07 13:58:03']\n",
      "['0.0', '0.0']\n"
     ]
    },
    {
     "name": "stderr",
     "output_type": "stream",
     "text": [
      "100%|██████████| 3/3 [00:00<00:00, 6898.53it/s]\n"
     ]
    },
    {
     "name": "stdout",
     "output_type": "stream",
     "text": [
      "1/1 [==============================] - 0s 308ms/step\n",
      "0    0\n",
      "1    0\n",
      "2    0\n",
      "Name: predicted_label, dtype: object\n",
      "Mapped Label: 0.0\n",
      "Mapped Label: 0.0\n",
      "['2023-08-07 13:58:04', '2023-08-07 13:58:07']\n",
      "['0.0', '0.0']\n"
     ]
    },
    {
     "name": "stderr",
     "output_type": "stream",
     "text": [
      "100%|██████████| 3/3 [00:00<00:00, 5345.33it/s]\n"
     ]
    },
    {
     "name": "stdout",
     "output_type": "stream",
     "text": [
      "1/1 [==============================] - 0s 322ms/step\n",
      "0    0\n",
      "1    0\n",
      "2    0\n",
      "Name: predicted_label, dtype: object\n",
      "Mapped Label: 0.0\n",
      "Mapped Label: 0.0\n",
      "Mapped Label: 0.0\n",
      "['2023-08-07 13:59:04', '2023-08-07 13:59:05', '2023-08-07 13:59:08']\n",
      "['0.0', '0.0', '0.0']\n"
     ]
    },
    {
     "name": "stderr",
     "output_type": "stream",
     "text": [
      "100%|██████████| 2/2 [00:00<00:00, 4928.68it/s]\n"
     ]
    },
    {
     "name": "stdout",
     "output_type": "stream",
     "text": [
      "1/1 [==============================] - 0s 260ms/step\n",
      "0    0\n",
      "1    0\n",
      "Name: predicted_label, dtype: object\n",
      "Mapped Label: 0.0\n",
      "Mapped Label: 0.0\n",
      "['2023-08-07 13:59:10', '2023-08-07 13:59:12']\n",
      "['0.0', '0.0']\n"
     ]
    },
    {
     "name": "stderr",
     "output_type": "stream",
     "text": [
      "100%|██████████| 3/3 [00:00<00:00, 7494.29it/s]\n"
     ]
    },
    {
     "name": "stdout",
     "output_type": "stream",
     "text": [
      "1/1 [==============================] - 0s 321ms/step\n",
      "0    0\n",
      "1    0\n",
      "2    0\n",
      "Name: predicted_label, dtype: object\n",
      "Mapped Label: 0.0\n",
      "Mapped Label: 0.0\n",
      "['2023-08-07 14:00:03', '2023-08-07 14:00:04']\n",
      "['0.0', '0.0']\n"
     ]
    },
    {
     "name": "stderr",
     "output_type": "stream",
     "text": [
      "100%|██████████| 3/3 [00:00<00:00, 5904.70it/s]\n"
     ]
    },
    {
     "name": "stdout",
     "output_type": "stream",
     "text": [
      "1/1 [==============================] - 0s 247ms/step\n",
      "0    0\n",
      "1    0\n",
      "2    0\n",
      "Name: predicted_label, dtype: object\n",
      "Mapped Label: 0.0\n",
      "Mapped Label: 0.0\n",
      "Mapped Label: 0.0\n",
      "['2023-08-07 14:00:07', '2023-08-07 14:00:09', '2023-08-07 14:00:11']\n",
      "['0.0', '0.0', '0.0']\n"
     ]
    },
    {
     "name": "stderr",
     "output_type": "stream",
     "text": [
      "100%|██████████| 2/2 [00:00<00:00, 5370.43it/s]\n"
     ]
    },
    {
     "name": "stdout",
     "output_type": "stream",
     "text": [
      "1/1 [==============================] - 0s 292ms/step\n",
      "0    0\n",
      "1    0\n",
      "Name: predicted_label, dtype: object\n",
      "Mapped Label: 0.0\n",
      "Mapped Label: 0.0\n",
      "['2023-08-07 14:00:13', '2023-08-07 14:00:15']\n",
      "['0.0', '0.0']\n"
     ]
    },
    {
     "name": "stderr",
     "output_type": "stream",
     "text": [
      "100%|██████████| 3/3 [00:00<00:00, 7575.50it/s]\n"
     ]
    },
    {
     "name": "stdout",
     "output_type": "stream",
     "text": [
      "1/1 [==============================] - 0s 337ms/step\n",
      "0    0\n",
      "1    0\n",
      "2    0\n",
      "Name: predicted_label, dtype: object\n",
      "Mapped Label: 0.0\n",
      "Mapped Label: 0.0\n",
      "['2023-08-07 14:01:01', '2023-08-07 14:01:03']\n",
      "['0.0', '0.0']\n"
     ]
    },
    {
     "name": "stderr",
     "output_type": "stream",
     "text": [
      "100%|██████████| 3/3 [00:00<00:00, 7349.83it/s]\n"
     ]
    },
    {
     "name": "stdout",
     "output_type": "stream",
     "text": [
      "1/1 [==============================] - 0s 420ms/step\n",
      "0    0\n",
      "1    0\n",
      "2    0\n",
      "Name: predicted_label, dtype: object\n",
      "Mapped Label: 0.0\n",
      "Mapped Label: 0.0\n",
      "Mapped Label: 0.0\n",
      "['2023-08-07 14:01:09', '2023-08-07 14:01:10', '2023-08-07 14:01:12']\n",
      "['0.0', '0.0', '0.0']\n"
     ]
    },
    {
     "name": "stderr",
     "output_type": "stream",
     "text": [
      "100%|██████████| 2/2 [00:00<00:00, 4025.24it/s]\n"
     ]
    },
    {
     "name": "stdout",
     "output_type": "stream",
     "text": [
      "1/1 [==============================] - 0s 211ms/step\n",
      "0    0\n",
      "1    0\n",
      "Name: predicted_label, dtype: object\n",
      "Mapped Label: 0.0\n",
      "Mapped Label: 0.0\n",
      "['2023-08-07 14:01:14', '2023-08-07 14:01:16']\n",
      "['0.0', '0.0']\n"
     ]
    },
    {
     "name": "stderr",
     "output_type": "stream",
     "text": [
      "100%|██████████| 3/3 [00:00<00:00, 7700.68it/s]\n"
     ]
    },
    {
     "name": "stdout",
     "output_type": "stream",
     "text": [
      "1/1 [==============================] - 0s 317ms/step\n",
      "0    0\n",
      "1    0\n",
      "2    0\n",
      "Name: predicted_label, dtype: object\n",
      "Mapped Label: 0.0\n",
      "Mapped Label: 0.0\n",
      "Mapped Label: 0.0\n",
      "['2023-08-07 14:02:05', '2023-08-07 14:02:06', '2023-08-07 14:02:08']\n",
      "['0.0', '0.0', '0.0']\n"
     ]
    },
    {
     "name": "stderr",
     "output_type": "stream",
     "text": [
      "100%|██████████| 3/3 [00:00<00:00, 5584.96it/s]\n"
     ]
    },
    {
     "name": "stdout",
     "output_type": "stream",
     "text": [
      "1/1 [==============================] - 0s 290ms/step\n",
      "0    0\n",
      "1    0\n",
      "2    0\n",
      "Name: predicted_label, dtype: object\n",
      "Mapped Label: 0.0\n",
      "Mapped Label: 0.0\n",
      "Mapped Label: 0.0\n",
      "['2023-08-07 14:02:10', '2023-08-07 14:02:12', '2023-08-07 14:02:14']\n",
      "['0.0', '0.0', '0.0']\n"
     ]
    },
    {
     "name": "stderr",
     "output_type": "stream",
     "text": [
      "100%|██████████| 3/3 [00:00<00:00, 6543.38it/s]\n"
     ]
    },
    {
     "name": "stdout",
     "output_type": "stream",
     "text": [
      "1/1 [==============================] - 0s 307ms/step\n",
      "0    0\n",
      "1    0\n",
      "2    0\n",
      "Name: predicted_label, dtype: object\n",
      "Mapped Label: 0.0\n",
      "Mapped Label: 0.0\n",
      "['2023-08-07 14:03:01', '2023-08-07 14:03:02']\n",
      "['0.0', '0.0']\n"
     ]
    },
    {
     "name": "stderr",
     "output_type": "stream",
     "text": [
      "100%|██████████| 3/3 [00:00<00:00, 6189.33it/s]\n"
     ]
    },
    {
     "name": "stdout",
     "output_type": "stream",
     "text": [
      "1/1 [==============================] - 0s 311ms/step\n",
      "0    0\n",
      "1    0\n",
      "2    0\n",
      "Name: predicted_label, dtype: object\n",
      "Mapped Label: 0.0\n",
      "Mapped Label: 0.0\n",
      "Mapped Label: 0.0\n",
      "['2023-08-07 14:03:03', '2023-08-07 14:03:04', '2023-08-07 14:03:05']\n",
      "['0.0', '0.0', '0.0']\n"
     ]
    },
    {
     "name": "stderr",
     "output_type": "stream",
     "text": [
      "100%|██████████| 1/1 [00:00<00:00, 5133.79it/s]\n"
     ]
    },
    {
     "name": "stdout",
     "output_type": "stream",
     "text": [
      "1/1 [==============================] - 0s 152ms/step\n",
      "0    0\n",
      "Name: predicted_label, dtype: object\n",
      "Mapped Label: 0.0\n",
      "['2023-08-07 14:03:07']\n",
      "['0.0']\n"
     ]
    },
    {
     "name": "stderr",
     "output_type": "stream",
     "text": [
      "100%|██████████| 3/3 [00:00<00:00, 6563.86it/s]\n"
     ]
    },
    {
     "name": "stdout",
     "output_type": "stream",
     "text": [
      "1/1 [==============================] - 0s 346ms/step\n",
      "0    0\n",
      "1    0\n",
      "2    0\n",
      "Name: predicted_label, dtype: object\n",
      "Mapped Label: 0.0\n",
      "Mapped Label: 0.0\n",
      "['2023-08-07 14:04:01', '2023-08-07 14:04:03']\n",
      "['0.0', '0.0']\n"
     ]
    },
    {
     "name": "stderr",
     "output_type": "stream",
     "text": [
      "100%|██████████| 3/3 [00:00<00:00, 8479.05it/s]\n"
     ]
    },
    {
     "name": "stdout",
     "output_type": "stream",
     "text": [
      "1/1 [==============================] - 0s 387ms/step\n",
      "0    0\n",
      "1    0\n",
      "2    0\n",
      "Name: predicted_label, dtype: object\n",
      "Mapped Label: 0.0\n",
      "Mapped Label: 0.0\n",
      "['2023-08-07 14:04:05', '2023-08-07 14:04:11']\n",
      "['0.0', '0.0']\n"
     ]
    },
    {
     "name": "stderr",
     "output_type": "stream",
     "text": [
      "100%|██████████| 3/3 [00:00<00:00, 6374.32it/s]\n"
     ]
    },
    {
     "name": "stdout",
     "output_type": "stream",
     "text": [
      "1/1 [==============================] - 0s 432ms/step\n",
      "0    0\n",
      "1    0\n",
      "2    0\n",
      "Name: predicted_label, dtype: object\n",
      "Mapped Label: 0.0\n",
      "Mapped Label: 0.0\n",
      "Mapped Label: 0.0\n",
      "['2023-08-07 14:04:13', '2023-08-07 14:04:15', '2023-08-07 14:04:16']\n",
      "['0.0', '0.0', '0.0']\n"
     ]
    },
    {
     "name": "stderr",
     "output_type": "stream",
     "text": [
      "100%|██████████| 3/3 [00:00<00:00, 8009.49it/s]\n"
     ]
    },
    {
     "name": "stdout",
     "output_type": "stream",
     "text": [
      "1/1 [==============================] - 0s 288ms/step\n",
      "0    0\n",
      "1    0\n",
      "2    0\n",
      "Name: predicted_label, dtype: object\n",
      "Mapped Label: 0.0\n",
      "Mapped Label: 0.0\n",
      "Mapped Label: 0.0\n",
      "['2023-08-07 14:05:03', '2023-08-07 14:05:04', '2023-08-07 14:05:05']\n",
      "['0.0', '0.0', '0.0']\n"
     ]
    },
    {
     "name": "stderr",
     "output_type": "stream",
     "text": [
      "100%|██████████| 1/1 [00:00<00:00, 3672.77it/s]"
     ]
    },
    {
     "name": "stdout",
     "output_type": "stream",
     "text": [
      "1/1 [==============================] - 0s 137ms/step\n"
     ]
    },
    {
     "name": "stderr",
     "output_type": "stream",
     "text": [
      "\n"
     ]
    },
    {
     "name": "stdout",
     "output_type": "stream",
     "text": [
      "0    0\n",
      "Name: predicted_label, dtype: object\n",
      "Mapped Label: 0.0\n",
      "['2023-08-07 14:05:09']\n",
      "['0.0']\n"
     ]
    },
    {
     "name": "stderr",
     "output_type": "stream",
     "text": [
      "100%|██████████| 3/3 [00:00<00:00, 6476.02it/s]\n"
     ]
    },
    {
     "name": "stdout",
     "output_type": "stream",
     "text": [
      "1/1 [==============================] - 0s 282ms/step\n",
      "0    0\n",
      "1    0\n",
      "2    0\n",
      "Name: predicted_label, dtype: object\n",
      "Mapped Label: 0.0\n",
      "['2023-08-07 14:06:01']\n",
      "['0.0']\n"
     ]
    },
    {
     "name": "stderr",
     "output_type": "stream",
     "text": [
      "100%|██████████| 3/3 [00:00<00:00, 6304.06it/s]\n"
     ]
    },
    {
     "name": "stdout",
     "output_type": "stream",
     "text": [
      "1/1 [==============================] - 0s 275ms/step\n",
      "0    0\n",
      "1    0\n",
      "2    0\n",
      "Name: predicted_label, dtype: object\n",
      "Mapped Label: 0.0\n",
      "Mapped Label: 0.0\n",
      "['2023-08-07 14:06:03', '2023-08-07 14:06:04']\n",
      "['0.0', '0.0']\n"
     ]
    },
    {
     "name": "stderr",
     "output_type": "stream",
     "text": [
      "100%|██████████| 3/3 [00:00<00:00, 7516.67it/s]\n"
     ]
    },
    {
     "name": "stdout",
     "output_type": "stream",
     "text": [
      "1/1 [==============================] - 0s 301ms/step\n",
      "0    0\n",
      "1    0\n",
      "2    0\n",
      "Name: predicted_label, dtype: object\n",
      "Mapped Label: 0.0\n",
      "Mapped Label: 0.0\n",
      "Mapped Label: 0.0\n",
      "['2023-08-07 14:07:03', '2023-08-07 14:07:04', '2023-08-07 14:07:05']\n",
      "['0.0', '0.0', '0.0']\n"
     ]
    },
    {
     "name": "stderr",
     "output_type": "stream",
     "text": [
      "100%|██████████| 3/3 [00:00<00:00, 6037.87it/s]\n"
     ]
    },
    {
     "name": "stdout",
     "output_type": "stream",
     "text": [
      "1/1 [==============================] - 0s 312ms/step\n",
      "0    0\n",
      "1    0\n",
      "2    0\n",
      "Name: predicted_label, dtype: object\n",
      "Mapped Label: 0.0\n",
      "Mapped Label: 0.0\n",
      "Mapped Label: 0.0\n",
      "['2023-08-07 14:07:09', '2023-08-07 14:07:11', '2023-08-07 14:07:13']\n",
      "['0.0', '0.0', '0.0']\n"
     ]
    },
    {
     "name": "stderr",
     "output_type": "stream",
     "text": [
      "100%|██████████| 2/2 [00:00<00:00, 5292.50it/s]\n"
     ]
    },
    {
     "name": "stdout",
     "output_type": "stream",
     "text": [
      "1/1 [==============================] - 0s 210ms/step\n",
      "0    0\n",
      "1    0\n",
      "Name: predicted_label, dtype: object\n",
      "Mapped Label: 0.0\n",
      "Mapped Label: 0.0\n",
      "['2023-08-07 14:07:16', '2023-08-07 14:07:18']\n",
      "['0.0', '0.0']\n"
     ]
    },
    {
     "name": "stderr",
     "output_type": "stream",
     "text": [
      "100%|██████████| 3/3 [00:00<00:00, 6207.65it/s]\n"
     ]
    },
    {
     "name": "stdout",
     "output_type": "stream",
     "text": [
      "1/1 [==============================] - 0s 250ms/step\n",
      "0    0\n",
      "1    0\n",
      "2    0\n",
      "Name: predicted_label, dtype: object\n",
      "Mapped Label: 0.0\n",
      "Mapped Label: 0.0\n",
      "Mapped Label: 0.0\n",
      "['2023-08-07 14:08:05', '2023-08-07 14:08:06', '2023-08-07 14:08:07']\n",
      "['0.0', '0.0', '0.0']\n"
     ]
    },
    {
     "name": "stderr",
     "output_type": "stream",
     "text": [
      "100%|██████████| 1/1 [00:00<00:00, 4583.94it/s]"
     ]
    },
    {
     "name": "stdout",
     "output_type": "stream",
     "text": [
      "1/1 [==============================] - 0s 114ms/step\n"
     ]
    },
    {
     "name": "stderr",
     "output_type": "stream",
     "text": [
      "\n"
     ]
    },
    {
     "name": "stdout",
     "output_type": "stream",
     "text": [
      "0    0\n",
      "Name: predicted_label, dtype: object\n",
      "Mapped Label: 0.0\n",
      "['2023-08-07 14:08:13']\n",
      "['0.0']\n"
     ]
    },
    {
     "name": "stderr",
     "output_type": "stream",
     "text": [
      "100%|██████████| 3/3 [00:00<00:00, 8197.34it/s]\n"
     ]
    },
    {
     "name": "stdout",
     "output_type": "stream",
     "text": [
      "1/1 [==============================] - 0s 347ms/step\n",
      "0    0\n",
      "1    0\n",
      "2    0\n",
      "Name: predicted_label, dtype: object\n",
      "Mapped Label: 0.0\n",
      "Mapped Label: 0.0\n",
      "Mapped Label: 0.0\n",
      "['2023-08-07 14:09:01', '2023-08-07 14:09:02', '2023-08-07 14:09:03']\n",
      "['0.0', '0.0', '0.0']\n"
     ]
    },
    {
     "name": "stderr",
     "output_type": "stream",
     "text": [
      "100%|██████████| 3/3 [00:00<00:00, 5893.64it/s]\n"
     ]
    },
    {
     "name": "stdout",
     "output_type": "stream",
     "text": [
      "1/1 [==============================] - 0s 293ms/step\n",
      "0    0\n",
      "1    0\n",
      "2    0\n",
      "Name: predicted_label, dtype: object\n",
      "Mapped Label: 0.0\n",
      "Mapped Label: 0.0\n",
      "Mapped Label: 0.0\n",
      "['2023-08-07 14:09:05', '2023-08-07 14:09:06', '2023-08-07 14:09:07']\n",
      "['0.0', '0.0', '0.0']\n"
     ]
    },
    {
     "name": "stderr",
     "output_type": "stream",
     "text": [
      "100%|██████████| 1/1 [00:00<00:00, 2953.74it/s]\n"
     ]
    },
    {
     "name": "stdout",
     "output_type": "stream",
     "text": [
      "1/1 [==============================] - 0s 184ms/step\n",
      "0    0\n",
      "Name: predicted_label, dtype: object\n",
      "Mapped Label: 0.0\n",
      "['2023-08-07 14:09:12']\n",
      "['0.0']\n"
     ]
    },
    {
     "name": "stderr",
     "output_type": "stream",
     "text": [
      "100%|██████████| 3/3 [00:00<00:00, 6567.28it/s]\n"
     ]
    },
    {
     "name": "stdout",
     "output_type": "stream",
     "text": [
      "1/1 [==============================] - 0s 285ms/step\n",
      "0    0\n",
      "1    0\n",
      "2    0\n",
      "Name: predicted_label, dtype: object\n",
      "Mapped Label: 0.0\n",
      "['2023-08-07 14:10:01']\n",
      "['0.0']\n"
     ]
    },
    {
     "name": "stderr",
     "output_type": "stream",
     "text": [
      "100%|██████████| 3/3 [00:00<00:00, 5409.68it/s]\n"
     ]
    },
    {
     "name": "stdout",
     "output_type": "stream",
     "text": [
      "1/1 [==============================] - 0s 285ms/step\n",
      "0    0\n",
      "1    0\n",
      "2    0\n",
      "Name: predicted_label, dtype: object\n",
      "Mapped Label: 0.0\n",
      "Mapped Label: 0.0\n",
      "Mapped Label: 0.0\n",
      "['2023-08-07 14:10:08', '2023-08-07 14:10:09', '2023-08-07 14:10:10']\n",
      "['0.0', '0.0', '0.0']\n"
     ]
    },
    {
     "name": "stderr",
     "output_type": "stream",
     "text": [
      "100%|██████████| 2/2 [00:00<00:00, 5326.10it/s]\n"
     ]
    },
    {
     "name": "stdout",
     "output_type": "stream",
     "text": [
      "1/1 [==============================] - 0s 273ms/step\n",
      "0    0\n",
      "1    0\n",
      "Name: predicted_label, dtype: object\n",
      "Mapped Label: 0.0\n",
      "Mapped Label: 0.0\n",
      "['2023-08-07 14:10:12', '2023-08-07 14:10:14']\n",
      "['0.0', '0.0']\n"
     ]
    },
    {
     "name": "stderr",
     "output_type": "stream",
     "text": [
      "100%|██████████| 3/3 [00:00<00:00, 6557.02it/s]\n"
     ]
    },
    {
     "name": "stdout",
     "output_type": "stream",
     "text": [
      "1/1 [==============================] - 0s 308ms/step\n",
      "0    0\n",
      "1    0\n",
      "2    0\n",
      "Name: predicted_label, dtype: object\n",
      "Mapped Label: 0.0\n",
      "Mapped Label: 0.0\n",
      "Mapped Label: 0.0\n",
      "['2023-08-07 14:10:18', '2023-08-07 14:10:20', '2023-08-07 14:10:22']\n",
      "['0.0', '0.0', '0.0']\n"
     ]
    },
    {
     "name": "stderr",
     "output_type": "stream",
     "text": [
      "100%|██████████| 3/3 [00:00<00:00, 6838.54it/s]\n"
     ]
    },
    {
     "name": "stdout",
     "output_type": "stream",
     "text": [
      "1/1 [==============================] - 0s 287ms/step\n",
      "0    0\n",
      "1    0\n",
      "2    0\n",
      "Name: predicted_label, dtype: object\n",
      "Mapped Label: 0.0\n",
      "Mapped Label: 0.0\n",
      "['2023-08-07 14:11:10', '2023-08-07 14:11:11']\n",
      "['0.0', '0.0']\n"
     ]
    },
    {
     "name": "stderr",
     "output_type": "stream",
     "text": [
      "100%|██████████| 2/2 [00:00<00:00, 5289.16it/s]\n"
     ]
    },
    {
     "name": "stdout",
     "output_type": "stream",
     "text": [
      "1/1 [==============================] - 0s 218ms/step\n",
      "0    0\n",
      "1    0\n",
      "Name: predicted_label, dtype: object\n",
      "Mapped Label: 0.0\n",
      "Mapped Label: 0.0\n",
      "['2023-08-07 14:11:14', '2023-08-07 14:11:16']\n",
      "['0.0', '0.0']\n"
     ]
    },
    {
     "name": "stderr",
     "output_type": "stream",
     "text": [
      "100%|██████████| 1/1 [00:00<00:00, 4021.38it/s]\n"
     ]
    },
    {
     "name": "stdout",
     "output_type": "stream",
     "text": [
      "1/1 [==============================] - 0s 182ms/step\n",
      "0    0\n",
      "Name: predicted_label, dtype: object\n",
      "Mapped Label: 0.0\n",
      "['2023-08-07 14:11:18']\n",
      "['0.0']\n"
     ]
    },
    {
     "name": "stderr",
     "output_type": "stream",
     "text": [
      "100%|██████████| 3/3 [00:00<00:00, 2349.75it/s]\n"
     ]
    },
    {
     "name": "stdout",
     "output_type": "stream",
     "text": [
      "1/1 [==============================] - 0s 290ms/step\n",
      "0    0\n",
      "1    0\n",
      "2    0\n",
      "Name: predicted_label, dtype: object\n",
      "Mapped Label: 0.0\n",
      "['2023-08-07 14:12:01']\n",
      "['0.0']\n"
     ]
    },
    {
     "name": "stderr",
     "output_type": "stream",
     "text": [
      "100%|██████████| 3/3 [00:00<00:00, 6263.27it/s]\n"
     ]
    },
    {
     "name": "stdout",
     "output_type": "stream",
     "text": [
      "1/1 [==============================] - 0s 297ms/step\n",
      "0    0\n",
      "1    0\n",
      "2    0\n",
      "Name: predicted_label, dtype: object\n",
      "Mapped Label: 0.0\n",
      "Mapped Label: 0.0\n",
      "Mapped Label: 0.0\n",
      "['2023-08-07 14:12:02', '2023-08-07 14:12:03', '2023-08-07 14:12:06']\n",
      "['0.0', '0.0', '0.0']\n"
     ]
    },
    {
     "name": "stderr",
     "output_type": "stream",
     "text": [
      "100%|██████████| 2/2 [00:00<00:00, 5821.38it/s]\n"
     ]
    },
    {
     "name": "stdout",
     "output_type": "stream",
     "text": [
      "1/1 [==============================] - 0s 222ms/step\n",
      "0    0\n",
      "2    0\n",
      "Name: predicted_label, dtype: object\n",
      "Mapped Label: 0.0\n",
      "Mapped Label: 0.0\n",
      "['2023-08-07 14:12:10', '2023-08-07 14:12:13']\n",
      "['0.0', '0.0']\n"
     ]
    },
    {
     "name": "stderr",
     "output_type": "stream",
     "text": [
      "100%|██████████| 3/3 [00:00<00:00, 6574.14it/s]\n"
     ]
    },
    {
     "name": "stdout",
     "output_type": "stream",
     "text": [
      "1/1 [==============================] - 0s 296ms/step\n",
      "0    0\n",
      "1    0\n",
      "2    0\n",
      "Name: predicted_label, dtype: object\n",
      "Mapped Label: 0.0\n",
      "Mapped Label: 0.0\n",
      "Mapped Label: 0.0\n",
      "['2023-08-07 14:12:15', '2023-08-07 14:12:17', '2023-08-07 14:12:19']\n",
      "['0.0', '0.0', '0.0']\n"
     ]
    },
    {
     "name": "stderr",
     "output_type": "stream",
     "text": [
      "100%|██████████| 3/3 [00:00<00:00, 6533.18it/s]\n"
     ]
    },
    {
     "name": "stdout",
     "output_type": "stream",
     "text": [
      "1/1 [==============================] - 0s 275ms/step\n",
      "0    0\n",
      "1    0\n",
      "2    0\n",
      "Name: predicted_label, dtype: object\n",
      "Mapped Label: 0.0\n",
      "Mapped Label: 0.0\n",
      "Mapped Label: 0.0\n",
      "['2023-08-07 14:12:20', '2023-08-07 14:12:22', '2023-08-07 14:12:24']\n",
      "['0.0', '0.0', '0.0']\n"
     ]
    },
    {
     "name": "stderr",
     "output_type": "stream",
     "text": [
      "100%|██████████| 3/3 [00:00<00:00, 6529.79it/s]\n"
     ]
    },
    {
     "name": "stdout",
     "output_type": "stream",
     "text": [
      "1/1 [==============================] - 0s 303ms/step\n",
      "0    0\n",
      "1    0\n",
      "2    0\n",
      "Name: predicted_label, dtype: object\n",
      "Mapped Label: 0.0\n",
      "Mapped Label: 0.0\n",
      "Mapped Label: 0.0\n",
      "['2023-08-07 14:13:01', '2023-08-07 14:13:03', '2023-08-07 14:13:04']\n",
      "['0.0', '0.0', '0.0']\n"
     ]
    },
    {
     "name": "stderr",
     "output_type": "stream",
     "text": [
      "100%|██████████| 3/3 [00:00<00:00, 6879.67it/s]\n"
     ]
    },
    {
     "name": "stdout",
     "output_type": "stream",
     "text": [
      "1/1 [==============================] - 0s 372ms/step\n",
      "0    0\n",
      "1    0\n",
      "2    0\n",
      "Name: predicted_label, dtype: object\n",
      "Mapped Label: 0.0\n",
      "Mapped Label: 0.0\n",
      "Mapped Label: 0.0\n",
      "['2023-08-07 14:13:07', '2023-08-07 14:13:09', '2023-08-07 14:13:10']\n",
      "['0.0', '0.0', '0.0']\n"
     ]
    },
    {
     "name": "stderr",
     "output_type": "stream",
     "text": [
      "100%|██████████| 2/2 [00:00<00:00, 4683.76it/s]\n"
     ]
    },
    {
     "name": "stdout",
     "output_type": "stream",
     "text": [
      "1/1 [==============================] - 0s 227ms/step\n",
      "0    0\n",
      "1    0\n",
      "Name: predicted_label, dtype: object\n",
      "Mapped Label: 0.0\n",
      "Mapped Label: 0.0\n",
      "['2023-08-07 14:13:12', '2023-08-07 14:13:14']\n",
      "['0.0', '0.0']\n"
     ]
    },
    {
     "name": "stderr",
     "output_type": "stream",
     "text": [
      "100%|██████████| 1/1 [00:00<00:00, 3600.26it/s]\n"
     ]
    },
    {
     "name": "stdout",
     "output_type": "stream",
     "text": [
      "1/1 [==============================] - 0s 153ms/step\n",
      "0    0\n",
      "Name: predicted_label, dtype: object\n",
      "Mapped Label: 0.0\n",
      "['2023-08-07 14:13:18']\n",
      "['0.0']\n"
     ]
    },
    {
     "name": "stderr",
     "output_type": "stream",
     "text": [
      "100%|██████████| 1/1 [00:00<00:00, 3153.61it/s]\n"
     ]
    },
    {
     "name": "stdout",
     "output_type": "stream",
     "text": [
      "1/1 [==============================] - 0s 146ms/step\n",
      "0    0\n",
      "Name: predicted_label, dtype: object\n",
      "Mapped Label: 0.0\n",
      "['2023-08-07 14:13:29']\n",
      "['0.0']\n"
     ]
    },
    {
     "name": "stderr",
     "output_type": "stream",
     "text": [
      "100%|██████████| 3/3 [00:00<00:00, 6384.02it/s]\n"
     ]
    },
    {
     "name": "stdout",
     "output_type": "stream",
     "text": [
      "1/1 [==============================] - 0s 284ms/step\n",
      "0    0\n",
      "1    0\n",
      "2    0\n",
      "Name: predicted_label, dtype: object\n",
      "Mapped Label: 0.0\n",
      "Mapped Label: 0.0\n",
      "['2023-08-07 14:14:05', '2023-08-07 14:14:07']\n",
      "['0.0', '0.0']\n"
     ]
    },
    {
     "name": "stderr",
     "output_type": "stream",
     "text": [
      "100%|██████████| 3/3 [00:00<00:00, 7345.54it/s]\n"
     ]
    },
    {
     "name": "stdout",
     "output_type": "stream",
     "text": [
      "1/1 [==============================] - 0s 296ms/step\n",
      "0    0\n",
      "1    0\n",
      "2    0\n",
      "Name: predicted_label, dtype: object\n",
      "Mapped Label: 0.0\n",
      "Mapped Label: 0.0\n",
      "Mapped Label: 0.0\n",
      "['2023-08-07 14:15:05', '2023-08-07 14:15:06', '2023-08-07 14:15:07']\n",
      "['0.0', '0.0', '0.0']\n"
     ]
    },
    {
     "name": "stderr",
     "output_type": "stream",
     "text": [
      "100%|██████████| 2/2 [00:00<00:00, 5722.11it/s]\n"
     ]
    },
    {
     "name": "stdout",
     "output_type": "stream",
     "text": [
      "1/1 [==============================] - 0s 280ms/step\n",
      "0    0\n",
      "1    0\n",
      "Name: predicted_label, dtype: object\n",
      "Mapped Label: 0.0\n",
      "Mapped Label: 0.0\n",
      "['2023-08-07 14:15:11', '2023-08-07 14:15:12']\n",
      "['0.0', '0.0']\n"
     ]
    },
    {
     "name": "stderr",
     "output_type": "stream",
     "text": [
      "100%|██████████| 1/1 [00:00<00:00, 4894.17it/s]"
     ]
    },
    {
     "name": "stdout",
     "output_type": "stream",
     "text": [
      "1/1 [==============================] - 0s 131ms/step\n"
     ]
    },
    {
     "name": "stderr",
     "output_type": "stream",
     "text": [
      "\n"
     ]
    },
    {
     "name": "stdout",
     "output_type": "stream",
     "text": [
      "0    0\n",
      "Name: predicted_label, dtype: object\n",
      "Mapped Label: 0.0\n",
      "['2023-08-07 14:15:18']\n",
      "['0.0']\n"
     ]
    },
    {
     "name": "stderr",
     "output_type": "stream",
     "text": [
      "100%|██████████| 2/2 [00:00<00:00, 4862.96it/s]\n"
     ]
    },
    {
     "name": "stdout",
     "output_type": "stream",
     "text": [
      "1/1 [==============================] - 0s 222ms/step\n",
      "0    0\n",
      "1    0\n",
      "Name: predicted_label, dtype: object\n",
      "Mapped Label: 0.0\n",
      "Mapped Label: 0.0\n",
      "['2023-08-07 14:15:20', '2023-08-07 14:15:22']\n",
      "['0.0', '0.0']\n"
     ]
    },
    {
     "name": "stderr",
     "output_type": "stream",
     "text": [
      "100%|██████████| 3/3 [00:00<00:00, 5693.63it/s]\n"
     ]
    },
    {
     "name": "stdout",
     "output_type": "stream",
     "text": [
      "1/1 [==============================] - 0s 265ms/step\n",
      "0    0\n",
      "1    0\n",
      "2    0\n",
      "Name: predicted_label, dtype: object\n",
      "Mapped Label: 0.0\n",
      "['2023-08-07 14:16:03']\n",
      "['0.0']\n"
     ]
    },
    {
     "name": "stderr",
     "output_type": "stream",
     "text": [
      "100%|██████████| 3/3 [00:00<00:00, 8422.30it/s]\n"
     ]
    },
    {
     "name": "stdout",
     "output_type": "stream",
     "text": [
      "1/1 [==============================] - 0s 234ms/step\n",
      "0    0\n",
      "1    0\n",
      "2    0\n",
      "Name: predicted_label, dtype: object\n",
      "Mapped Label: 0.0\n",
      "Mapped Label: 0.0\n",
      "['2023-08-07 14:16:07', '2023-08-07 14:16:09']\n",
      "['0.0', '0.0']\n"
     ]
    },
    {
     "name": "stderr",
     "output_type": "stream",
     "text": [
      "100%|██████████| 2/2 [00:00<00:00, 6000.43it/s]\n"
     ]
    },
    {
     "name": "stdout",
     "output_type": "stream",
     "text": [
      "1/1 [==============================] - 0s 281ms/step\n",
      "0    0\n",
      "1    0\n",
      "Name: predicted_label, dtype: object\n",
      "Mapped Label: 0.0\n",
      "Mapped Label: 0.0\n",
      "['2023-08-07 14:16:11', '2023-08-07 14:16:12']\n",
      "['0.0', '0.0']\n"
     ]
    },
    {
     "name": "stderr",
     "output_type": "stream",
     "text": [
      "100%|██████████| 1/1 [00:00<00:00, 3474.98it/s]\n"
     ]
    },
    {
     "name": "stdout",
     "output_type": "stream",
     "text": [
      "1/1 [==============================] - 0s 181ms/step\n",
      "0    0\n",
      "Name: predicted_label, dtype: object\n",
      "Mapped Label: 0.0\n",
      "['2023-08-07 14:16:16']\n",
      "['0.0']\n"
     ]
    },
    {
     "name": "stderr",
     "output_type": "stream",
     "text": [
      "100%|██████████| 3/3 [00:00<00:00, 6736.03it/s]\n"
     ]
    },
    {
     "name": "stdout",
     "output_type": "stream",
     "text": [
      "1/1 [==============================] - 0s 320ms/step\n",
      "0    0\n",
      "1    0\n",
      "2    0\n",
      "Name: predicted_label, dtype: object\n",
      "Mapped Label: 0.0\n",
      "Mapped Label: 0.0\n",
      "['2023-08-07 14:17:05', '2023-08-07 14:17:06']\n",
      "['0.0', '0.0']\n"
     ]
    },
    {
     "name": "stderr",
     "output_type": "stream",
     "text": [
      "100%|██████████| 1/1 [00:00<00:00, 2839.75it/s]\n"
     ]
    },
    {
     "name": "stdout",
     "output_type": "stream",
     "text": [
      "1/1 [==============================] - 0s 161ms/step\n",
      "0    0\n",
      "Name: predicted_label, dtype: object\n",
      "Mapped Label: 0.0\n",
      "['2023-08-07 14:17:12']\n",
      "['0.0']\n"
     ]
    },
    {
     "name": "stderr",
     "output_type": "stream",
     "text": [
      "100%|██████████| 3/3 [00:00<00:00, 6147.00it/s]\n"
     ]
    },
    {
     "name": "stdout",
     "output_type": "stream",
     "text": [
      "1/1 [==============================] - 0s 262ms/step\n",
      "0    0\n",
      "1    0\n",
      "2    0\n",
      "Name: predicted_label, dtype: object\n",
      "Mapped Label: 0.0\n",
      "Mapped Label: 0.0\n",
      "Mapped Label: 0.0\n",
      "['2023-08-07 14:18:01', '2023-08-07 14:18:03', '2023-08-07 14:18:05']\n",
      "['0.0', '0.0', '0.0']\n"
     ]
    },
    {
     "name": "stderr",
     "output_type": "stream",
     "text": [
      "100%|██████████| 3/3 [00:00<00:00, 6728.83it/s]\n"
     ]
    },
    {
     "name": "stdout",
     "output_type": "stream",
     "text": [
      "1/1 [==============================] - 0s 364ms/step\n",
      "0    0\n",
      "1    0\n",
      "2    0\n",
      "Name: predicted_label, dtype: object\n",
      "Mapped Label: 0.0\n",
      "Mapped Label: 0.0\n",
      "Mapped Label: 0.0\n",
      "['2023-08-07 14:18:06', '2023-08-07 14:18:07', '2023-08-07 14:18:08']\n",
      "['0.0', '0.0', '0.0']\n"
     ]
    },
    {
     "name": "stderr",
     "output_type": "stream",
     "text": [
      "100%|██████████| 3/3 [00:00<00:00, 6009.03it/s]\n"
     ]
    },
    {
     "name": "stdout",
     "output_type": "stream",
     "text": [
      "1/1 [==============================] - 0s 297ms/step\n",
      "0    0\n",
      "1    0\n",
      "2    0\n",
      "Name: predicted_label, dtype: object\n",
      "Mapped Label: 0.0\n",
      "Mapped Label: 0.0\n",
      "['2023-08-07 14:19:01', '2023-08-07 14:19:02']\n",
      "['0.0', '0.0']\n"
     ]
    },
    {
     "name": "stderr",
     "output_type": "stream",
     "text": [
      "100%|██████████| 3/3 [00:00<00:00, 5334.00it/s]\n"
     ]
    },
    {
     "name": "stdout",
     "output_type": "stream",
     "text": [
      "1/1 [==============================] - 0s 319ms/step\n",
      "0    0\n",
      "1    0\n",
      "2    0\n",
      "Name: predicted_label, dtype: object\n",
      "Mapped Label: 0.0\n",
      "Mapped Label: 0.0\n",
      "Mapped Label: 0.0\n",
      "['2023-08-07 14:19:03', '2023-08-07 14:19:04', '2023-08-07 14:19:08']\n",
      "['0.0', '0.0', '0.0']\n"
     ]
    },
    {
     "name": "stderr",
     "output_type": "stream",
     "text": [
      "100%|██████████| 2/2 [00:00<00:00, 5292.50it/s]\n"
     ]
    },
    {
     "name": "stdout",
     "output_type": "stream",
     "text": [
      "1/1 [==============================] - 0s 246ms/step\n",
      "0    0\n",
      "1    0\n",
      "Name: predicted_label, dtype: object\n",
      "Mapped Label: 0.0\n",
      "Mapped Label: 0.0\n",
      "['2023-08-07 14:19:09', '2023-08-07 14:19:12']\n",
      "['0.0', '0.0']\n"
     ]
    },
    {
     "name": "stderr",
     "output_type": "stream",
     "text": [
      "100%|██████████| 3/3 [00:00<00:00, 6380.79it/s]\n"
     ]
    },
    {
     "name": "stdout",
     "output_type": "stream",
     "text": [
      "1/1 [==============================] - 0s 428ms/step\n",
      "0    0\n",
      "1    0\n",
      "2    0\n",
      "Name: predicted_label, dtype: object\n",
      "Mapped Label: 0.0\n",
      "Mapped Label: 0.0\n",
      "['2023-08-07 14:20:01', '2023-08-07 14:20:02']\n",
      "['0.0', '0.0']\n"
     ]
    },
    {
     "name": "stderr",
     "output_type": "stream",
     "text": [
      "100%|██████████| 3/3 [00:00<00:00, 4128.25it/s]\n"
     ]
    },
    {
     "name": "stdout",
     "output_type": "stream",
     "text": [
      "1/1 [==============================] - 0s 283ms/step\n",
      "0    0\n",
      "1    0\n",
      "2    0\n",
      "Name: predicted_label, dtype: object\n",
      "Mapped Label: 0.0\n",
      "Mapped Label: 0.0\n",
      "['2023-08-07 14:20:05', '2023-08-07 14:20:07']\n",
      "['0.0', '0.0']\n"
     ]
    },
    {
     "name": "stderr",
     "output_type": "stream",
     "text": [
      "100%|██████████| 3/3 [00:00<00:00, 6640.06it/s]\n"
     ]
    },
    {
     "name": "stdout",
     "output_type": "stream",
     "text": [
      "1/1 [==============================] - 0s 279ms/step\n",
      "0    0\n",
      "1    0\n",
      "2    0\n",
      "Name: predicted_label, dtype: object\n",
      "Mapped Label: 0.0\n",
      "Mapped Label: 0.0\n",
      "Mapped Label: 0.0\n",
      "['2023-08-07 14:21:06', '2023-08-07 14:21:07', '2023-08-07 14:21:08']\n",
      "['0.0', '0.0', '0.0']\n"
     ]
    },
    {
     "name": "stderr",
     "output_type": "stream",
     "text": [
      "100%|██████████| 3/3 [00:00<00:00, 6335.81it/s]\n"
     ]
    },
    {
     "name": "stdout",
     "output_type": "stream",
     "text": [
      "1/1 [==============================] - 0s 287ms/step\n",
      "0    0\n",
      "1    0\n",
      "2    0\n",
      "Name: predicted_label, dtype: object\n",
      "Mapped Label: 0.0\n",
      "Mapped Label: 0.0\n",
      "['2023-08-07 14:22:05', '2023-08-07 14:22:07']\n",
      "['0.0', '0.0']\n"
     ]
    },
    {
     "name": "stderr",
     "output_type": "stream",
     "text": [
      "100%|██████████| 3/3 [00:00<00:00, 7410.43it/s]\n"
     ]
    },
    {
     "name": "stdout",
     "output_type": "stream",
     "text": [
      "1/1 [==============================] - 0s 285ms/step\n",
      "0    0\n",
      "1    0\n",
      "2    0\n",
      "Name: predicted_label, dtype: object\n",
      "Mapped Label: 0.0\n",
      "Mapped Label: 0.0\n",
      "['2023-08-07 14:23:05', '2023-08-07 14:23:07']\n",
      "['0.0', '0.0']\n"
     ]
    },
    {
     "name": "stderr",
     "output_type": "stream",
     "text": [
      "100%|██████████| 3/3 [00:00<00:00, 4245.25it/s]\n"
     ]
    },
    {
     "name": "stdout",
     "output_type": "stream",
     "text": [
      "1/1 [==============================] - 0s 248ms/step\n",
      "0    0\n",
      "1    0\n",
      "2    0\n",
      "Name: predicted_label, dtype: object\n",
      "Mapped Label: 0.0\n",
      "Mapped Label: 0.0\n",
      "Mapped Label: 0.0\n",
      "['2023-08-07 14:24:05', '2023-08-07 14:24:06', '2023-08-07 14:24:08']\n",
      "['0.0', '0.0', '0.0']\n"
     ]
    },
    {
     "name": "stderr",
     "output_type": "stream",
     "text": [
      "100%|██████████| 2/2 [00:00<00:00, 4837.72it/s]\n"
     ]
    },
    {
     "name": "stdout",
     "output_type": "stream",
     "text": [
      "1/1 [==============================] - 0s 221ms/step\n",
      "0    0\n",
      "1    0\n",
      "Name: predicted_label, dtype: object\n",
      "Mapped Label: 0.0\n",
      "Mapped Label: 0.0\n",
      "['2023-08-07 14:24:10', '2023-08-07 14:24:12']\n",
      "['0.0', '0.0']\n"
     ]
    },
    {
     "name": "stderr",
     "output_type": "stream",
     "text": [
      "100%|██████████| 3/3 [00:00<00:00, 5766.69it/s]\n"
     ]
    },
    {
     "name": "stdout",
     "output_type": "stream",
     "text": [
      "1/1 [==============================] - 0s 317ms/step\n",
      "0    0\n",
      "1    0\n",
      "2    0\n",
      "Name: predicted_label, dtype: object\n",
      "Mapped Label: 0.0\n",
      "['2023-08-07 14:25:03']\n",
      "['0.0']\n"
     ]
    },
    {
     "name": "stderr",
     "output_type": "stream",
     "text": [
      "100%|██████████| 3/3 [00:00<00:00, 7639.90it/s]\n"
     ]
    },
    {
     "name": "stdout",
     "output_type": "stream",
     "text": [
      "1/1 [==============================] - 0s 378ms/step\n",
      "0    0\n",
      "1    0\n",
      "2    0\n",
      "Name: predicted_label, dtype: object\n",
      "Mapped Label: 0.0\n",
      "Mapped Label: 0.0\n",
      "Mapped Label: 0.0\n",
      "['2023-08-07 14:25:07', '2023-08-07 14:25:08', '2023-08-07 14:25:09']\n",
      "['0.0', '0.0', '0.0']\n"
     ]
    },
    {
     "name": "stderr",
     "output_type": "stream",
     "text": [
      "100%|██████████| 3/3 [00:00<00:00, 4877.10it/s]\n"
     ]
    },
    {
     "name": "stdout",
     "output_type": "stream",
     "text": [
      "1/1 [==============================] - 0s 349ms/step\n",
      "0    0\n",
      "1    0\n",
      "2    0\n",
      "Name: predicted_label, dtype: object\n",
      "Mapped Label: 0.0\n",
      "Mapped Label: 0.0\n",
      "Mapped Label: 0.0\n",
      "['2023-08-07 14:25:09', '2023-08-07 14:25:11', '2023-08-07 14:25:14']\n",
      "['0.0', '0.0', '0.0']\n"
     ]
    },
    {
     "name": "stderr",
     "output_type": "stream",
     "text": [
      "100%|██████████| 3/3 [00:00<00:00, 6384.02it/s]\n"
     ]
    },
    {
     "name": "stdout",
     "output_type": "stream",
     "text": [
      "1/1 [==============================] - 0s 282ms/step\n",
      "0    0\n",
      "1    0\n",
      "2    0\n",
      "Name: predicted_label, dtype: object\n",
      "Mapped Label: 0.0\n",
      "Mapped Label: 0.0\n",
      "['2023-08-07 14:26:02', '2023-08-07 14:26:03']\n",
      "['0.0', '0.0']\n"
     ]
    },
    {
     "name": "stderr",
     "output_type": "stream",
     "text": [
      "100%|██████████| 1/1 [00:00<00:00, 3281.93it/s]\n"
     ]
    },
    {
     "name": "stdout",
     "output_type": "stream",
     "text": [
      "1/1 [==============================] - 0s 160ms/step\n",
      "0    0\n",
      "Name: predicted_label, dtype: object\n",
      "Mapped Label: 0.0\n",
      "['2023-08-07 14:26:07']\n",
      "['0.0']\n"
     ]
    },
    {
     "name": "stderr",
     "output_type": "stream",
     "text": [
      "100%|██████████| 3/3 [00:00<00:00, 4913.28it/s]\n"
     ]
    },
    {
     "name": "stdout",
     "output_type": "stream",
     "text": [
      "1/1 [==============================] - 0s 299ms/step\n",
      "0    0\n",
      "1    0\n",
      "2    0\n",
      "Name: predicted_label, dtype: object\n",
      "Mapped Label: 0.0\n",
      "['2023-08-07 14:27:01']\n",
      "['0.0']\n"
     ]
    },
    {
     "name": "stderr",
     "output_type": "stream",
     "text": [
      "100%|██████████| 3/3 [00:00<00:00, 7695.97it/s]\n"
     ]
    },
    {
     "name": "stdout",
     "output_type": "stream",
     "text": [
      "1/1 [==============================] - 0s 306ms/step\n",
      "0    0\n",
      "1    0\n",
      "2    0\n",
      "Name: predicted_label, dtype: object\n",
      "Mapped Label: 0.0\n",
      "Mapped Label: 0.0\n",
      "['2023-08-07 14:27:03', '2023-08-07 14:27:05']\n",
      "['0.0', '0.0']\n"
     ]
    },
    {
     "name": "stderr",
     "output_type": "stream",
     "text": [
      "100%|██████████| 3/3 [00:00<00:00, 6364.65it/s]\n"
     ]
    },
    {
     "name": "stdout",
     "output_type": "stream",
     "text": [
      "1/1 [==============================] - 0s 460ms/step\n",
      "0    0\n",
      "1    0\n",
      "2    0\n",
      "Name: predicted_label, dtype: object\n",
      "Mapped Label: 0.0\n",
      "Mapped Label: 0.0\n",
      "Mapped Label: 0.0\n",
      "['2023-08-07 14:27:10', '2023-08-07 14:27:11', '2023-08-07 14:27:12']\n",
      "['0.0', '0.0', '0.0']\n"
     ]
    },
    {
     "name": "stderr",
     "output_type": "stream",
     "text": [
      "100%|██████████| 3/3 [00:00<00:00, 7898.88it/s]\n"
     ]
    },
    {
     "name": "stdout",
     "output_type": "stream",
     "text": [
      "1/1 [==============================] - 0s 299ms/step\n",
      "0    0\n",
      "1    0\n",
      "2    0\n",
      "Name: predicted_label, dtype: object\n",
      "Mapped Label: 0.0\n",
      "['2023-08-07 14:28:01']\n",
      "['0.0']\n"
     ]
    },
    {
     "name": "stderr",
     "output_type": "stream",
     "text": [
      "100%|██████████| 2/2 [00:00<00:00, 5862.06it/s]\n"
     ]
    },
    {
     "name": "stdout",
     "output_type": "stream",
     "text": [
      "1/1 [==============================] - 0s 220ms/step\n",
      "0    0\n",
      "1    0\n",
      "Name: predicted_label, dtype: object\n",
      "Mapped Label: 0.0\n",
      "Mapped Label: 0.0\n",
      "['2023-08-07 14:28:07', '2023-08-07 14:28:08']\n",
      "['0.0', '0.0']\n"
     ]
    },
    {
     "name": "stderr",
     "output_type": "stream",
     "text": [
      "100%|██████████| 1/1 [00:00<00:00, 3622.02it/s]"
     ]
    },
    {
     "name": "stdout",
     "output_type": "stream",
     "text": [
      "1/1 [==============================] - 0s 144ms/step\n"
     ]
    },
    {
     "name": "stderr",
     "output_type": "stream",
     "text": [
      "\n"
     ]
    },
    {
     "name": "stdout",
     "output_type": "stream",
     "text": [
      "0    0\n",
      "Name: predicted_label, dtype: object\n",
      "Mapped Label: 0.0\n",
      "['2023-08-07 14:28:11']\n",
      "['0.0']\n"
     ]
    },
    {
     "name": "stderr",
     "output_type": "stream",
     "text": [
      "100%|██████████| 3/3 [00:00<00:00, 6358.22it/s]\n"
     ]
    },
    {
     "name": "stdout",
     "output_type": "stream",
     "text": [
      "1/1 [==============================] - 0s 311ms/step\n",
      "0    0\n",
      "1    0\n",
      "2    0\n",
      "Name: predicted_label, dtype: object\n",
      "Mapped Label: 0.0\n",
      "['2023-08-07 14:29:01']\n",
      "['0.0']\n"
     ]
    },
    {
     "name": "stderr",
     "output_type": "stream",
     "text": [
      "100%|██████████| 3/3 [00:00<00:00, 6371.09it/s]\n"
     ]
    },
    {
     "name": "stdout",
     "output_type": "stream",
     "text": [
      "1/1 [==============================] - 0s 307ms/step\n",
      "0    0\n",
      "1    0\n",
      "2    0\n",
      "Name: predicted_label, dtype: object\n",
      "Mapped Label: 0.0\n",
      "Mapped Label: 0.0\n",
      "Mapped Label: 0.0\n",
      "['2023-08-07 14:29:05', '2023-08-07 14:29:07', '2023-08-07 14:29:08']\n",
      "['0.0', '0.0', '0.0']\n"
     ]
    },
    {
     "name": "stderr",
     "output_type": "stream",
     "text": [
      "100%|██████████| 3/3 [00:00<00:00, 7419.17it/s]\n"
     ]
    },
    {
     "name": "stdout",
     "output_type": "stream",
     "text": [
      "1/1 [==============================] - 0s 286ms/step\n",
      "0    0\n",
      "1    0\n",
      "2    0\n",
      "Name: predicted_label, dtype: object\n",
      "Mapped Label: 0.0\n",
      "Mapped Label: 0.0\n",
      "Mapped Label: 0.0\n",
      "['2023-08-07 14:30:06', '2023-08-07 14:30:07', '2023-08-07 14:30:09']\n",
      "['0.0', '0.0', '0.0']\n"
     ]
    },
    {
     "name": "stderr",
     "output_type": "stream",
     "text": [
      "100%|██████████| 2/2 [00:00<00:00, 6345.39it/s]\n"
     ]
    },
    {
     "name": "stdout",
     "output_type": "stream",
     "text": [
      "1/1 [==============================] - 0s 318ms/step\n",
      "0    0\n",
      "1    0\n",
      "Name: predicted_label, dtype: object\n",
      "Mapped Label: 0.0\n",
      "Mapped Label: 0.0\n",
      "['2023-08-07 14:30:11', '2023-08-07 14:30:13']\n",
      "['0.0', '0.0']\n"
     ]
    },
    {
     "name": "stderr",
     "output_type": "stream",
     "text": [
      "100%|██████████| 3/3 [00:00<00:00, 5662.88it/s]\n"
     ]
    },
    {
     "name": "stdout",
     "output_type": "stream",
     "text": [
      "1/1 [==============================] - 0s 295ms/step\n",
      "0    0\n",
      "1    0\n",
      "2    0\n",
      "Name: predicted_label, dtype: object\n",
      "Mapped Label: 0.0\n",
      "Mapped Label: 0.0\n",
      "Mapped Label: 0.0\n",
      "['2023-08-07 14:31:02', '2023-08-07 14:31:03', '2023-08-07 14:31:04']\n",
      "['0.0', '0.0', '0.0']\n"
     ]
    },
    {
     "name": "stderr",
     "output_type": "stream",
     "text": [
      "100%|██████████| 3/3 [00:00<00:00, 8427.94it/s]\n"
     ]
    },
    {
     "name": "stdout",
     "output_type": "stream",
     "text": [
      "1/1 [==============================] - 0s 344ms/step\n",
      "0    0\n",
      "1    0\n",
      "2    0\n",
      "Name: predicted_label, dtype: object\n",
      "Mapped Label: 0.0\n",
      "Mapped Label: 0.0\n",
      "Mapped Label: 0.0\n",
      "['2023-08-07 14:31:05', '2023-08-07 14:31:09', '2023-08-07 14:31:10']\n",
      "['0.0', '0.0', '0.0']\n"
     ]
    },
    {
     "name": "stderr",
     "output_type": "stream",
     "text": [
      "100%|██████████| 3/3 [00:00<00:00, 6304.06it/s]\n"
     ]
    },
    {
     "name": "stdout",
     "output_type": "stream",
     "text": [
      "1/1 [==============================] - 0s 292ms/step\n",
      "0    0\n",
      "1    0\n",
      "2    0\n",
      "Name: predicted_label, dtype: object\n",
      "Mapped Label: 0.0\n",
      "Mapped Label: 0.0\n",
      "Mapped Label: 0.0\n",
      "['2023-08-07 14:31:12', '2023-08-07 14:31:15', '2023-08-07 14:31:16']\n",
      "['0.0', '0.0', '0.0']\n"
     ]
    },
    {
     "name": "stderr",
     "output_type": "stream",
     "text": [
      "100%|██████████| 3/3 [00:00<00:00, 7757.65it/s]\n"
     ]
    },
    {
     "name": "stdout",
     "output_type": "stream",
     "text": [
      "1/1 [==============================] - 0s 336ms/step\n",
      "0    0\n",
      "1    0\n",
      "2    0\n",
      "Name: predicted_label, dtype: object\n",
      "Mapped Label: 0.0\n",
      "Mapped Label: 0.0\n",
      "Mapped Label: 0.0\n",
      "['2023-08-07 14:31:19', '2023-08-07 14:31:20', '2023-08-07 14:31:22']\n",
      "['0.0', '0.0', '0.0']\n"
     ]
    },
    {
     "name": "stderr",
     "output_type": "stream",
     "text": [
      "100%|██████████| 1/1 [00:00<00:00, 3883.61it/s]"
     ]
    },
    {
     "name": "stdout",
     "output_type": "stream",
     "text": [
      "1/1 [==============================] - 0s 141ms/step\n"
     ]
    },
    {
     "name": "stderr",
     "output_type": "stream",
     "text": [
      "\n"
     ]
    },
    {
     "name": "stdout",
     "output_type": "stream",
     "text": [
      "0    0\n",
      "Name: predicted_label, dtype: object\n",
      "Mapped Label: 0.0\n",
      "['2023-08-07 14:31:24']\n",
      "['0.0']\n"
     ]
    },
    {
     "name": "stderr",
     "output_type": "stream",
     "text": [
      "100%|██████████| 3/3 [00:00<00:00, 5748.25it/s]\n"
     ]
    },
    {
     "name": "stdout",
     "output_type": "stream",
     "text": [
      "1/1 [==============================] - 0s 286ms/step\n",
      "0    0\n",
      "1    0\n",
      "2    0\n",
      "Name: predicted_label, dtype: object\n",
      "Mapped Label: 0.0\n",
      "Mapped Label: 0.0\n",
      "Mapped Label: 0.0\n",
      "['2023-08-07 14:32:04', '2023-08-07 14:32:05', '2023-08-07 14:32:07']\n",
      "['0.0', '0.0', '0.0']\n"
     ]
    },
    {
     "name": "stderr",
     "output_type": "stream",
     "text": [
      "100%|██████████| 3/3 [00:00<00:00, 6898.53it/s]\n"
     ]
    },
    {
     "name": "stdout",
     "output_type": "stream",
     "text": [
      "1/1 [==============================] - 0s 320ms/step\n",
      "0    0\n",
      "1    0\n",
      "2    0\n",
      "Name: predicted_label, dtype: object\n",
      "Mapped Label: 0.0\n",
      "Mapped Label: 0.0\n",
      "Mapped Label: 0.0\n",
      "['2023-08-07 14:32:09', '2023-08-07 14:32:10', '2023-08-07 14:32:12']\n",
      "['0.0', '0.0', '0.0']\n"
     ]
    },
    {
     "name": "stderr",
     "output_type": "stream",
     "text": [
      "100%|██████████| 3/3 [00:00<00:00, 7041.36it/s]\n"
     ]
    },
    {
     "name": "stdout",
     "output_type": "stream",
     "text": [
      "1/1 [==============================] - 0s 396ms/step\n",
      "0    0\n",
      "1    0\n",
      "2    0\n",
      "Name: predicted_label, dtype: object\n",
      "Mapped Label: 0.0\n",
      "['2023-08-07 14:33:01']\n",
      "['0.0']\n"
     ]
    },
    {
     "name": "stderr",
     "output_type": "stream",
     "text": [
      "100%|██████████| 3/3 [00:00<00:00, 3811.85it/s]\n"
     ]
    },
    {
     "name": "stdout",
     "output_type": "stream",
     "text": [
      "1/1 [==============================] - 0s 445ms/step\n",
      "0    0\n",
      "1    0\n",
      "2    0\n",
      "Name: predicted_label, dtype: object\n",
      "Mapped Label: 0.0\n",
      "Mapped Label: 0.0\n",
      "Mapped Label: 0.0\n",
      "['2023-08-07 14:33:05', '2023-08-07 14:33:06', '2023-08-07 14:33:08']\n",
      "['0.0', '0.0', '0.0']\n"
     ]
    },
    {
     "name": "stderr",
     "output_type": "stream",
     "text": [
      "100%|██████████| 3/3 [00:00<00:00, 6380.79it/s]\n"
     ]
    },
    {
     "name": "stdout",
     "output_type": "stream",
     "text": [
      "1/1 [==============================] - 0s 295ms/step\n",
      "0    0\n",
      "1    0\n",
      "2    0\n",
      "Name: predicted_label, dtype: object\n",
      "Mapped Label: 0.0\n",
      "Mapped Label: 0.0\n",
      "['2023-08-07 14:34:07', '2023-08-07 14:34:08']\n",
      "['0.0', '0.0']\n"
     ]
    },
    {
     "name": "stderr",
     "output_type": "stream",
     "text": [
      "100%|██████████| 2/2 [00:00<00:00, 4868.61it/s]\n"
     ]
    },
    {
     "name": "stdout",
     "output_type": "stream",
     "text": [
      "1/1 [==============================] - 0s 220ms/step\n",
      "0    0\n",
      "1    0\n",
      "Name: predicted_label, dtype: object\n",
      "Mapped Label: 0.0\n",
      "Mapped Label: 0.0\n",
      "['2023-08-07 14:34:09', '2023-08-07 14:34:11']\n",
      "['0.0', '0.0']\n"
     ]
    },
    {
     "name": "stderr",
     "output_type": "stream",
     "text": [
      "100%|██████████| 3/3 [00:00<00:00, 7256.58it/s]\n"
     ]
    },
    {
     "name": "stdout",
     "output_type": "stream",
     "text": [
      "1/1 [==============================] - 0s 269ms/step\n",
      "0    0\n",
      "1    0\n",
      "2    0\n",
      "Name: predicted_label, dtype: object\n",
      "Mapped Label: 0.0\n",
      "Mapped Label: 0.0\n",
      "['2023-08-07 14:35:03', '2023-08-07 14:35:04']\n",
      "['0.0', '0.0']\n"
     ]
    },
    {
     "name": "stderr",
     "output_type": "stream",
     "text": [
      "100%|██████████| 2/2 [00:00<00:00, 6127.54it/s]\n"
     ]
    },
    {
     "name": "stdout",
     "output_type": "stream",
     "text": [
      "1/1 [==============================] - 0s 228ms/step\n",
      "0    0\n",
      "2    0\n",
      "Name: predicted_label, dtype: object\n",
      "Mapped Label: 0.0\n",
      "Mapped Label: 0.0\n",
      "['2023-08-07 14:35:04', '2023-08-07 14:35:09']\n",
      "['0.0', '0.0']\n"
     ]
    },
    {
     "name": "stderr",
     "output_type": "stream",
     "text": [
      "100%|██████████| 3/3 [00:00<00:00, 6801.57it/s]\n"
     ]
    },
    {
     "name": "stdout",
     "output_type": "stream",
     "text": [
      "1/1 [==============================] - 0s 338ms/step\n",
      "0    0\n",
      "1    0\n",
      "2    0\n",
      "Name: predicted_label, dtype: object\n",
      "Mapped Label: 0.0\n",
      "Mapped Label: 0.0\n",
      "Mapped Label: 0.0\n",
      "['2023-08-07 14:36:07', '2023-08-07 14:36:08', '2023-08-07 14:36:09']\n",
      "['0.0', '0.0', '0.0']\n"
     ]
    },
    {
     "name": "stderr",
     "output_type": "stream",
     "text": [
      "100%|██████████| 3/3 [00:00<00:00, 6377.55it/s]\n"
     ]
    },
    {
     "name": "stdout",
     "output_type": "stream",
     "text": [
      "1/1 [==============================] - 0s 322ms/step\n",
      "0    0\n",
      "1    0\n",
      "2    0\n",
      "Name: predicted_label, dtype: object\n",
      "Mapped Label: 0.0\n",
      "Mapped Label: 0.0\n",
      "Mapped Label: 0.0\n",
      "['2023-08-07 14:36:11', '2023-08-07 14:36:13', '2023-08-07 14:36:16']\n",
      "['0.0', '0.0', '0.0']\n"
     ]
    },
    {
     "name": "stderr",
     "output_type": "stream",
     "text": [
      "100%|██████████| 3/3 [00:00<00:00, 6797.90it/s]\n"
     ]
    },
    {
     "name": "stdout",
     "output_type": "stream",
     "text": [
      "1/1 [==============================] - 0s 301ms/step\n",
      "0    0\n",
      "1    0\n",
      "2    0\n",
      "Name: predicted_label, dtype: object\n",
      "Mapped Label: 0.0\n",
      "Mapped Label: 0.0\n",
      "['2023-08-07 14:37:03', '2023-08-07 14:37:04']\n",
      "['0.0', '0.0']\n"
     ]
    },
    {
     "name": "stderr",
     "output_type": "stream",
     "text": [
      "100%|██████████| 3/3 [00:00<00:00, 6482.70it/s]\n"
     ]
    },
    {
     "name": "stdout",
     "output_type": "stream",
     "text": [
      "1/1 [==============================] - 0s 354ms/step\n",
      "0    0\n",
      "1    0\n",
      "2    0\n",
      "Name: predicted_label, dtype: object\n",
      "Mapped Label: 0.0\n",
      "Mapped Label: 0.0\n",
      "Mapped Label: 0.0\n",
      "['2023-08-07 14:37:05', '2023-08-07 14:37:06', '2023-08-07 14:37:07']\n",
      "['0.0', '0.0', '0.0']\n"
     ]
    },
    {
     "name": "stderr",
     "output_type": "stream",
     "text": [
      "100%|██████████| 1/1 [00:00<00:00, 3990.77it/s]\n"
     ]
    },
    {
     "name": "stdout",
     "output_type": "stream",
     "text": [
      "1/1 [==============================] - 0s 182ms/step\n",
      "0    0\n",
      "Name: predicted_label, dtype: object\n",
      "Mapped Label: 0.0\n",
      "['2023-08-07 14:37:15']\n",
      "['0.0']\n"
     ]
    },
    {
     "ename": "ValueError",
     "evalue": "invalid literal for int() with base 10: ''",
     "output_type": "error",
     "traceback": [
      "\u001b[0;31m---------------------------------------------------------------------------\u001b[0m",
      "\u001b[0;31mValueError\u001b[0m                                Traceback (most recent call last)",
      "Cell \u001b[0;32mIn[37], line 48\u001b[0m\n\u001b[1;32m     46\u001b[0m     df_all2[\u001b[38;5;124m'\u001b[39m\u001b[38;5;124mdate\u001b[39m\u001b[38;5;124m'\u001b[39m][i] \u001b[38;5;241m=\u001b[39m new_date\u001b[38;5;241m.\u001b[39mstrftime(\u001b[38;5;124m'\u001b[39m\u001b[38;5;124m%\u001b[39m\u001b[38;5;124mY-\u001b[39m\u001b[38;5;124m%\u001b[39m\u001b[38;5;124mm-\u001b[39m\u001b[38;5;132;01m%d\u001b[39;00m\u001b[38;5;124m \u001b[39m\u001b[38;5;124m%\u001b[39m\u001b[38;5;124mH:\u001b[39m\u001b[38;5;124m%\u001b[39m\u001b[38;5;124mM:\u001b[39m\u001b[38;5;124m%\u001b[39m\u001b[38;5;124mS\u001b[39m\u001b[38;5;124m'\u001b[39m)\n\u001b[1;32m     47\u001b[0m \u001b[38;5;28;01melse\u001b[39;00m:\n\u001b[0;32m---> 48\u001b[0m     hour \u001b[38;5;241m=\u001b[39m \u001b[38;5;28mint\u001b[39m(date_str[\u001b[38;5;241m-\u001b[39m\u001b[38;5;241m8\u001b[39m:\u001b[38;5;241m-\u001b[39m\u001b[38;5;241m6\u001b[39m])\n\u001b[1;32m     49\u001b[0m     minute \u001b[38;5;241m=\u001b[39m \u001b[38;5;28mint\u001b[39m(date_str[\u001b[38;5;241m-\u001b[39m\u001b[38;5;241m5\u001b[39m:\u001b[38;5;241m-\u001b[39m\u001b[38;5;241m3\u001b[39m])\n\u001b[1;32m     51\u001b[0m     df_all2[\u001b[38;5;124m'\u001b[39m\u001b[38;5;124mdate\u001b[39m\u001b[38;5;124m'\u001b[39m][i] \u001b[38;5;241m=\u001b[39m date_str[:\u001b[38;5;241m4\u001b[39m] \u001b[38;5;241m+\u001b[39m \u001b[38;5;124m'\u001b[39m\u001b[38;5;124m-\u001b[39m\u001b[38;5;124m'\u001b[39m \u001b[38;5;241m+\u001b[39m date_str[\u001b[38;5;241m5\u001b[39m:\u001b[38;5;241m7\u001b[39m] \u001b[38;5;241m+\u001b[39m \u001b[38;5;124m'\u001b[39m\u001b[38;5;124m-\u001b[39m\u001b[38;5;124m'\u001b[39m \u001b[38;5;241m+\u001b[39m date_str[\u001b[38;5;241m8\u001b[39m:\u001b[38;5;241m10\u001b[39m] \u001b[38;5;241m+\u001b[39m \u001b[38;5;124m'\u001b[39m\u001b[38;5;124m \u001b[39m\u001b[38;5;124m'\u001b[39m \u001b[38;5;241m+\u001b[39m \u001b[38;5;28mstr\u001b[39m(hour)\u001b[38;5;241m.\u001b[39mzfill(\u001b[38;5;241m2\u001b[39m) \u001b[38;5;241m+\u001b[39m \u001b[38;5;124m'\u001b[39m\u001b[38;5;124m:\u001b[39m\u001b[38;5;124m'\u001b[39m \u001b[38;5;241m+\u001b[39m \u001b[38;5;28mstr\u001b[39m(minute)\u001b[38;5;241m.\u001b[39mzfill(\u001b[38;5;241m2\u001b[39m) \u001b[38;5;241m+\u001b[39m \u001b[38;5;124m'\u001b[39m\u001b[38;5;124m:\u001b[39m\u001b[38;5;124m'\u001b[39m \u001b[38;5;241m+\u001b[39m second_str\u001b[38;5;241m.\u001b[39mzfill(\u001b[38;5;241m2\u001b[39m)\n",
      "\u001b[0;31mValueError\u001b[0m: invalid literal for int() with base 10: ''"
     ]
    }
   ],
   "source": [
    "from datetime import date, timedelta, datetime\n",
    "import pandas as pd\n",
    "import numpy as np\n",
    "import time\n",
    "import os\n",
    "import sys\n",
    "# sys.path.append('./')\n",
    "import redis_self\n",
    "\n",
    "\n",
    "# 무한루프 크롤링\n",
    "while True:\n",
    "    news_urls = get_top3_news_info()\n",
    "    a = F_crawling(news_urls)\n",
    "\n",
    "    # 뉴스가 없는 경우에는 모델링 라벨 처리를 스킵\n",
    "    if a.empty:\n",
    "        time.sleep(10)\n",
    "        continue\n",
    "\n",
    "    df_all = pd.merge(a, news_df, how='outer', indicator=True)\n",
    "    news_df = pd.concat([news_df, a], ignore_index=True, keys=['date', 'title', 'content'])\n",
    "    news_df = news_df.drop_duplicates(keep='first', ignore_index=True)\n",
    "    str_expr = '_merge == \"left_only\"'\n",
    "    df_all2 = df_all.query(str_expr)\n",
    "    df_all2.drop(columns=['_merge'], inplace=True)\n",
    "\n",
    "    df_all2['content'] = df_all2['content'].apply(text_clean)\n",
    "    df_all2['content'] = df_all2['content'].apply(clean_text)\n",
    "    df_all2['title'] = df_all2['title'].apply(text_clean)\n",
    "    df_all2['title'] = df_all2['title'].apply(clean_text)\n",
    "    df_all2['date'] = df_all2['date'].astype(str)\n",
    "\n",
    "    for i, row in df_all2.iterrows():\n",
    "        date_str = row['date']\n",
    "        \n",
    "        if ':' in df_all2['date'][i]:\n",
    "            hour_str, minute_str, second_str = df_all2['date'][i].split()[1].split(':')\n",
    "            df_all2['date'][i] = df_all2['date'][i].split()[0] + ' ' + hour_str.zfill(2) + ':' + minute_str.zfill(2) + ':' + second_str.zfill(2)\n",
    "            \n",
    "        if date_str[-8:-6] == '24':\n",
    "            new_date = datetime.strptime(date_str, \"%Y-%m-%d %H:%M:%S\") + timedelta(days=1)\n",
    "            df_all2['date'][i] = new_date.strftime('%Y-%m-%d %H:%M:%S')\n",
    "        elif date_str[-5:-3] == '60':\n",
    "            new_date = datetime.strptime(date_str, \"%Y-%m-%d %H:%M:%S\") + timedelta(hours=1)\n",
    "            df_all2['date'][i] = new_date.strftime('%Y-%m-%d %H:%M:%S')\n",
    "        else:\n",
    "            hour = int(date_str[-8:-6])\n",
    "            minute = int(date_str[-5:-3])\n",
    "            \n",
    "            df_all2['date'][i] = date_str[:4] + '-' + date_str[5:7] + '-' + date_str[8:10] + ' ' + str(hour).zfill(2) + ':' + str(minute).zfill(2) + ':' + second_str.zfill(2)\n",
    "\n",
    "    df_all2['date'] = pd.to_datetime(df_all2['date'])\n",
    "\n",
    "    # 범위 내의 데이터만 처리하고, 범위를 벗어나면 다음 날의 시작 시간으로 날짜 변경\n",
    "    start_time = pd.to_datetime('09:01:00').time()\n",
    "    end_time = pd.to_datetime('15:20:00').time()\n",
    "    next_day_start_time = pd.to_datetime('09:01:00') + pd.DateOffset(days=1)\n",
    "\n",
    "    mask = (df_all2['date'].dt.time < start_time) | (df_all2['date'].dt.time > end_time)\n",
    "    df_all2.loc[mask, 'date'] = df_all2.loc[mask, 'date'].apply(lambda x: x + pd.DateOffset(days=1)).dt.strftime('%Y-%m-%d') + ' ' + next_day_start_time.strftime('%H:%M:%S')\n",
    "\n",
    "    # df_all2 데이터프레임에 뉴스가 없는 경우 스킵하여 다음 루프로 진행\n",
    "    if df_all2.empty:\n",
    "        time.sleep(10)\n",
    "        continue\n",
    "\n",
    "    df_all2 = df_all2[df_all2['title'] != ' ']\n",
    "    df_all2 = df_all2[df_all2['content'] != ' ']\n",
    "    df_all2 = df_all2[df_all2['content'] != '사이트']\n",
    "    df_all2 = df_all2[df_all2['content'] != ' 사이트 ']\n",
    "    df_all2 = df_all2[df_all2['title'] != '사이트']\n",
    "    df_all2 = df_all2[df_all2['date'] != 'None']\n",
    "    df_all2 = df_all2.dropna(subset=['title'])\n",
    "    df_all2.drop_duplicates(subset=['title'], inplace=True)\n",
    "    df_all2.insert(0, 'stock_id', stock_id)\n",
    "\n",
    "    # # # X_data = [news]  # X_data를 리스트로 감싸서 전달\n",
    "    input_data = conver_data(df_all2['content'])\n",
    "    predictions = sentiment_model_best.predict(input_data)\n",
    "    predicted_label = np.argmax(predictions, axis=1)\n",
    "\n",
    "    mapping = {1: '1', 0: '0', 2: '-1'}\n",
    "    # predicted_label을 매핑 딕셔너리를 이용하여 원하는 형식으로 변경\n",
    "    df_all2['predicted_label'] = pd.Series(predicted_label).replace(mapping).tolist()\n",
    "\n",
    "    print(df_all2['predicted_label'])\n",
    "\n",
    "    \n",
    "#     day = datetime.now()\n",
    "#     filepath = '/Users/yujin/big16/git/trading_project-1/MUJ/News/The_Relationship_between_news_and_stocks-main/real_time_news_label_{}.csv'.format(day.strftime('%Y%m%d'))\n",
    "#     if not os.path.exists(filepath):\n",
    "#         df_all2.to_csv(filepath, index=False, mode='w', encoding='utf-8-sig')\n",
    "#     else:\n",
    "#         df_all2.to_csv(filepath, index=False, mode='a', encoding='utf-8-sig', header=False)\n",
    "\n",
    "    \n",
    "    # datetime 열을 datetime으로 변환합니다.\n",
    "    df_all2['date'] = pd.to_datetime(df_all2['date'])\n",
    "    df_all2['predicted_label'] = df_all2['predicted_label'].astype(float)\n",
    "    # 날짜별로 그룹화합니다.\n",
    "    grouped_data = df_all2.groupby(df_all2['date'])\n",
    "\n",
    "    # 날짜별로 합치고 'predicted_label' 값을 평균으로 계산합니다.\n",
    "    merged_data = grouped_data.agg({'date': 'first', 'predicted_label': 'mean'}).reset_index(drop=True)\n",
    "\n",
    "    # 빈 리스트를 생성하여 각 날짜와 라벨을 담을 준비를 합니다.\n",
    "    NewsDate_list = []\n",
    "    predicted_label_list = []\n",
    "\n",
    "    for i, row in merged_data.iterrows():\n",
    "        # 날짜와 라벨을 리스트에 추가합니다.\n",
    "        NewsDate_list.append(row['date'].strftime('%Y-%m-%d %H:%M:%S'))\n",
    "        predicted_label_list.append(str(row['predicted_label']))\n",
    "\n",
    "    for date, label in zip(NewsDate_list, predicted_label_list):\n",
    "        mapped_label = mapping.get(label, label)\n",
    "        print(\"Mapped Label:\", mapped_label)\n",
    "        redis_self.redis_self.pub_msg('news', (date, mapped_label))\n",
    "\n",
    "    print(NewsDate_list)\n",
    "    print(predicted_label_list)\n",
    "    \n",
    "    time.sleep(5)\n",
    "                                             "
   ]
  }
 ],
 "metadata": {
  "kernelspec": {
   "display_name": "Python 3 (ipykernel)",
   "language": "python",
   "name": "python3"
  },
  "language_info": {
   "codemirror_mode": {
    "name": "ipython",
    "version": 3
   },
   "file_extension": ".py",
   "mimetype": "text/x-python",
   "name": "python",
   "nbconvert_exporter": "python",
   "pygments_lexer": "ipython3",
   "version": "3.11.3"
  }
 },
 "nbformat": 4,
 "nbformat_minor": 2
}
